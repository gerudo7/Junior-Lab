{
 "cells": [
  {
   "cell_type": "code",
   "execution_count": null,
   "metadata": {},
   "outputs": [],
   "source": [
    "import pandas\n",
    "import numpy as np\n",
    "#import matplotlib.pyplot as plot\n",
    "from bokeh.plotting import figure, output_notebook, show\n",
    "\n",
    "\n",
    "\n",
    "import pandas as pd\n",
    "import scipy\n",
    "from scipy import optimize\n",
    "from scipy import stats\n",
    "import numpy as np\n",
    "import matplotlib.pyplot as plt\n",
    "%matplotlib inline\n",
    "from bokeh.plotting import figure, output_notebook, show\n",
    "import math\n",
    "import scipy.optimize as opt\n",
    "output_notebook(hide_banner=False)\n",
    "%ls"
   ]
  },
  {
   "cell_type": "code",
   "execution_count": null,
   "metadata": {},
   "outputs": [],
   "source": [
    "#Defining arrays\n",
    "\n",
    "to = pandas.read_csv('2 Optical Try 3.csv')\n",
    "sto = to.iloc[:,0].values                 #time, in seconds\n",
    "v1 = to.iloc[:,1].values                  #voltage for port 1\n",
    "v2 = to.iloc[:,2].values                  #voltage for port 2\n",
    "\n",
    "op = pandas.read_csv('Optical and Pressure Try 3.csv')\n",
    "sop = op.iloc[:,0].values                 #time, in seconds\n",
    "v = op.iloc[:,1].values                   #voltage 2\n",
    "pr = op.iloc[:,2].values                   #pressure 2\n",
    "\n",
    "t = np.zeros(len(sto))\n",
    "i = 0\n",
    "while i<len(sto):\n",
    "    t[i] = v1[i]+v2[i]\n",
    "    i += 1  "
   ]
  },
  {
   "cell_type": "code",
   "execution_count": null,
   "metadata": {},
   "outputs": [],
   "source": [
    "#plot of error data\n",
    "p = figure(title=\"Error Data\", x_axis_label='Time (s)', y_axis_label='Voltage (V)')\n",
    "p.circle(sto, v1, fill_color=\"white\", size=4, legend=\"CH 1\")\n",
    "p.circle(sto, v2, line_color=\"orange\", legend = \"CH 2\")\n",
    "p.circle(sto, t, line_color=\"red\", legend = \"Sum\")\n",
    "\n",
    "show(p)"
   ]
  },
  {
   "cell_type": "code",
   "execution_count": null,
   "metadata": {},
   "outputs": [],
   "source": [
    "#plot of normal data\n",
    "p=figure(title=\"Data\", x_axis_label='Time (s)', y_axis_label='Voltage (V)')\n",
    "p.circle(sop, v, fill_color=\"white\")\n",
    "p.circle(sop, pr, line_color=\"orange\")\n",
    "\n",
    "show(p)"
   ]
  },
  {
   "cell_type": "code",
   "execution_count": null,
   "metadata": {},
   "outputs": [],
   "source": [
    "#and here we get parameters for pressure\n",
    "np.polyfit(sop, np.log(-pr), 1, rcond=None, full=False, w=None, cov=False)"
   ]
  },
  {
   "cell_type": "code",
   "execution_count": null,
   "metadata": {},
   "outputs": [],
   "source": [
    "np.std(t)"
   ]
  },
  {
   "cell_type": "code",
   "execution_count": null,
   "metadata": {},
   "outputs": [],
   "source": []
  }
 ],
 "metadata": {
  "kernelspec": {
   "display_name": "Python 3",
   "language": "python",
   "name": "python3"
  },
  "language_info": {
   "codemirror_mode": {
    "name": "ipython",
    "version": 3
   },
   "file_extension": ".py",
   "mimetype": "text/x-python",
   "name": "python",
   "nbconvert_exporter": "python",
   "pygments_lexer": "ipython3",
   "version": "3.6.5"
  }
 },
 "nbformat": 4,
 "nbformat_minor": 2
}
