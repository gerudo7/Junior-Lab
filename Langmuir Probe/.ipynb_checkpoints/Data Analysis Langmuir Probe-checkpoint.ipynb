{
 "cells": [
  {
   "cell_type": "markdown",
   "metadata": {},
   "source": [
    "# Data Analysis\n",
    "## Langmuir Probe"
   ]
  },
  {
   "cell_type": "markdown",
   "metadata": {},
   "source": [
    "14th September, 2018\n",
    "\n",
    "Kitty Harris and Idriss Kacou"
   ]
  },
  {
   "cell_type": "code",
   "execution_count": 64,
   "metadata": {},
   "outputs": [],
   "source": [
    "import pandas as pd\n",
    "import scipy\n",
    "from scipy import optimize\n",
    "import numpy as np\n",
    "import matplotlib.pyplot as plt\n",
    "%matplotlib inline\n",
    "from bokeh.plotting import figure, output_notebook, show\n",
    "import math"
   ]
  },
  {
   "cell_type": "code",
   "execution_count": 76,
   "metadata": {},
   "outputs": [],
   "source": [
    "#Now we're gonna define some stuff.\n",
    "df = pd.read_csv('340mTorr Data Master.csv')\n",
    "x=df.iloc[:,0].values\n",
    "y=df.iloc[:,1].values"
   ]
  },
  {
   "cell_type": "code",
   "execution_count": 58,
   "metadata": {
    "scrolled": true
   },
   "outputs": [
    {
     "data": {
      "application/javascript": [
       "\n",
       "(function(root) {\n",
       "  function now() {\n",
       "    return new Date();\n",
       "  }\n",
       "\n",
       "  var force = true;\n",
       "\n",
       "  if (typeof (root._bokeh_onload_callbacks) === \"undefined\" || force === true) {\n",
       "    root._bokeh_onload_callbacks = [];\n",
       "    root._bokeh_is_loading = undefined;\n",
       "  }\n",
       "\n",
       "  var JS_MIME_TYPE = 'application/javascript';\n",
       "  var HTML_MIME_TYPE = 'text/html';\n",
       "  var EXEC_MIME_TYPE = 'application/vnd.bokehjs_exec.v0+json';\n",
       "  var CLASS_NAME = 'output_bokeh rendered_html';\n",
       "\n",
       "  /**\n",
       "   * Render data to the DOM node\n",
       "   */\n",
       "  function render(props, node) {\n",
       "    var script = document.createElement(\"script\");\n",
       "    node.appendChild(script);\n",
       "  }\n",
       "\n",
       "  /**\n",
       "   * Handle when an output is cleared or removed\n",
       "   */\n",
       "  function handleClearOutput(event, handle) {\n",
       "    var cell = handle.cell;\n",
       "\n",
       "    var id = cell.output_area._bokeh_element_id;\n",
       "    var server_id = cell.output_area._bokeh_server_id;\n",
       "    // Clean up Bokeh references\n",
       "    if (id !== undefined) {\n",
       "      Bokeh.index[id].model.document.clear();\n",
       "      delete Bokeh.index[id];\n",
       "    }\n",
       "\n",
       "    if (server_id !== undefined) {\n",
       "      // Clean up Bokeh references\n",
       "      var cmd = \"from bokeh.io.state import curstate; print(curstate().uuid_to_server['\" + server_id + \"'].get_sessions()[0].document.roots[0]._id)\";\n",
       "      cell.notebook.kernel.execute(cmd, {\n",
       "        iopub: {\n",
       "          output: function(msg) {\n",
       "            var element_id = msg.content.text.trim();\n",
       "            Bokeh.index[element_id].model.document.clear();\n",
       "            delete Bokeh.index[element_id];\n",
       "          }\n",
       "        }\n",
       "      });\n",
       "      // Destroy server and session\n",
       "      var cmd = \"import bokeh.io.notebook as ion; ion.destroy_server('\" + server_id + \"')\";\n",
       "      cell.notebook.kernel.execute(cmd);\n",
       "    }\n",
       "  }\n",
       "\n",
       "  /**\n",
       "   * Handle when a new output is added\n",
       "   */\n",
       "  function handleAddOutput(event, handle) {\n",
       "    var output_area = handle.output_area;\n",
       "    var output = handle.output;\n",
       "\n",
       "    // limit handleAddOutput to display_data with EXEC_MIME_TYPE content only\n",
       "    if ((output.output_type != \"display_data\") || (!output.data.hasOwnProperty(EXEC_MIME_TYPE))) {\n",
       "      return\n",
       "    }\n",
       "\n",
       "    var toinsert = output_area.element.find(\".\" + CLASS_NAME.split(' ')[0]);\n",
       "\n",
       "    if (output.metadata[EXEC_MIME_TYPE][\"id\"] !== undefined) {\n",
       "      toinsert[toinsert.length - 1].firstChild.textContent = output.data[JS_MIME_TYPE];\n",
       "      // store reference to embed id on output_area\n",
       "      output_area._bokeh_element_id = output.metadata[EXEC_MIME_TYPE][\"id\"];\n",
       "    }\n",
       "    if (output.metadata[EXEC_MIME_TYPE][\"server_id\"] !== undefined) {\n",
       "      var bk_div = document.createElement(\"div\");\n",
       "      bk_div.innerHTML = output.data[HTML_MIME_TYPE];\n",
       "      var script_attrs = bk_div.children[0].attributes;\n",
       "      for (var i = 0; i < script_attrs.length; i++) {\n",
       "        toinsert[toinsert.length - 1].firstChild.setAttribute(script_attrs[i].name, script_attrs[i].value);\n",
       "      }\n",
       "      // store reference to server id on output_area\n",
       "      output_area._bokeh_server_id = output.metadata[EXEC_MIME_TYPE][\"server_id\"];\n",
       "    }\n",
       "  }\n",
       "\n",
       "  function register_renderer(events, OutputArea) {\n",
       "\n",
       "    function append_mime(data, metadata, element) {\n",
       "      // create a DOM node to render to\n",
       "      var toinsert = this.create_output_subarea(\n",
       "        metadata,\n",
       "        CLASS_NAME,\n",
       "        EXEC_MIME_TYPE\n",
       "      );\n",
       "      this.keyboard_manager.register_events(toinsert);\n",
       "      // Render to node\n",
       "      var props = {data: data, metadata: metadata[EXEC_MIME_TYPE]};\n",
       "      render(props, toinsert[toinsert.length - 1]);\n",
       "      element.append(toinsert);\n",
       "      return toinsert\n",
       "    }\n",
       "\n",
       "    /* Handle when an output is cleared or removed */\n",
       "    events.on('clear_output.CodeCell', handleClearOutput);\n",
       "    events.on('delete.Cell', handleClearOutput);\n",
       "\n",
       "    /* Handle when a new output is added */\n",
       "    events.on('output_added.OutputArea', handleAddOutput);\n",
       "\n",
       "    /**\n",
       "     * Register the mime type and append_mime function with output_area\n",
       "     */\n",
       "    OutputArea.prototype.register_mime_type(EXEC_MIME_TYPE, append_mime, {\n",
       "      /* Is output safe? */\n",
       "      safe: true,\n",
       "      /* Index of renderer in `output_area.display_order` */\n",
       "      index: 0\n",
       "    });\n",
       "  }\n",
       "\n",
       "  // register the mime type if in Jupyter Notebook environment and previously unregistered\n",
       "  if (root.Jupyter !== undefined) {\n",
       "    var events = require('base/js/events');\n",
       "    var OutputArea = require('notebook/js/outputarea').OutputArea;\n",
       "\n",
       "    if (OutputArea.prototype.mime_types().indexOf(EXEC_MIME_TYPE) == -1) {\n",
       "      register_renderer(events, OutputArea);\n",
       "    }\n",
       "  }\n",
       "\n",
       "  \n",
       "  if (typeof (root._bokeh_timeout) === \"undefined\" || force === true) {\n",
       "    root._bokeh_timeout = Date.now() + 5000;\n",
       "    root._bokeh_failed_load = false;\n",
       "  }\n",
       "\n",
       "  var NB_LOAD_WARNING = {'data': {'text/html':\n",
       "     \"<div style='background-color: #fdd'>\\n\"+\n",
       "     \"<p>\\n\"+\n",
       "     \"BokehJS does not appear to have successfully loaded. If loading BokehJS from CDN, this \\n\"+\n",
       "     \"may be due to a slow or bad network connection. Possible fixes:\\n\"+\n",
       "     \"</p>\\n\"+\n",
       "     \"<ul>\\n\"+\n",
       "     \"<li>re-rerun `output_notebook()` to attempt to load from CDN again, or</li>\\n\"+\n",
       "     \"<li>use INLINE resources instead, as so:</li>\\n\"+\n",
       "     \"</ul>\\n\"+\n",
       "     \"<code>\\n\"+\n",
       "     \"from bokeh.resources import INLINE\\n\"+\n",
       "     \"output_notebook(resources=INLINE)\\n\"+\n",
       "     \"</code>\\n\"+\n",
       "     \"</div>\"}};\n",
       "\n",
       "  function display_loaded() {\n",
       "    var el = document.getElementById(null);\n",
       "    if (el != null) {\n",
       "      el.textContent = \"BokehJS is loading...\";\n",
       "    }\n",
       "    if (root.Bokeh !== undefined) {\n",
       "      if (el != null) {\n",
       "        el.textContent = \"BokehJS \" + root.Bokeh.version + \" successfully loaded.\";\n",
       "      }\n",
       "    } else if (Date.now() < root._bokeh_timeout) {\n",
       "      setTimeout(display_loaded, 100)\n",
       "    }\n",
       "  }\n",
       "\n",
       "\n",
       "  function run_callbacks() {\n",
       "    try {\n",
       "      root._bokeh_onload_callbacks.forEach(function(callback) { callback() });\n",
       "    }\n",
       "    finally {\n",
       "      delete root._bokeh_onload_callbacks\n",
       "    }\n",
       "    console.info(\"Bokeh: all callbacks have finished\");\n",
       "  }\n",
       "\n",
       "  function load_libs(js_urls, callback) {\n",
       "    root._bokeh_onload_callbacks.push(callback);\n",
       "    if (root._bokeh_is_loading > 0) {\n",
       "      console.log(\"Bokeh: BokehJS is being loaded, scheduling callback at\", now());\n",
       "      return null;\n",
       "    }\n",
       "    if (js_urls == null || js_urls.length === 0) {\n",
       "      run_callbacks();\n",
       "      return null;\n",
       "    }\n",
       "    console.log(\"Bokeh: BokehJS not loaded, scheduling load and callback at\", now());\n",
       "    root._bokeh_is_loading = js_urls.length;\n",
       "    for (var i = 0; i < js_urls.length; i++) {\n",
       "      var url = js_urls[i];\n",
       "      var s = document.createElement('script');\n",
       "      s.src = url;\n",
       "      s.async = false;\n",
       "      s.onreadystatechange = s.onload = function() {\n",
       "        root._bokeh_is_loading--;\n",
       "        if (root._bokeh_is_loading === 0) {\n",
       "          console.log(\"Bokeh: all BokehJS libraries loaded\");\n",
       "          run_callbacks()\n",
       "        }\n",
       "      };\n",
       "      s.onerror = function() {\n",
       "        console.warn(\"failed to load library \" + url);\n",
       "      };\n",
       "      console.log(\"Bokeh: injecting script tag for BokehJS library: \", url);\n",
       "      document.getElementsByTagName(\"head\")[0].appendChild(s);\n",
       "    }\n",
       "  };\n",
       "\n",
       "  var js_urls = [\"https://cdn.pydata.org/bokeh/release/bokeh-0.12.16.min.js\", \"https://cdn.pydata.org/bokeh/release/bokeh-widgets-0.12.16.min.js\", \"https://cdn.pydata.org/bokeh/release/bokeh-tables-0.12.16.min.js\", \"https://cdn.pydata.org/bokeh/release/bokeh-gl-0.12.16.min.js\"];\n",
       "\n",
       "  var inline_js = [\n",
       "    function(Bokeh) {\n",
       "      Bokeh.set_log_level(\"info\");\n",
       "    },\n",
       "    \n",
       "    function(Bokeh) {\n",
       "      \n",
       "    },\n",
       "    function(Bokeh) {\n",
       "      console.log(\"Bokeh: injecting CSS: https://cdn.pydata.org/bokeh/release/bokeh-0.12.16.min.css\");\n",
       "      Bokeh.embed.inject_css(\"https://cdn.pydata.org/bokeh/release/bokeh-0.12.16.min.css\");\n",
       "      console.log(\"Bokeh: injecting CSS: https://cdn.pydata.org/bokeh/release/bokeh-widgets-0.12.16.min.css\");\n",
       "      Bokeh.embed.inject_css(\"https://cdn.pydata.org/bokeh/release/bokeh-widgets-0.12.16.min.css\");\n",
       "      console.log(\"Bokeh: injecting CSS: https://cdn.pydata.org/bokeh/release/bokeh-tables-0.12.16.min.css\");\n",
       "      Bokeh.embed.inject_css(\"https://cdn.pydata.org/bokeh/release/bokeh-tables-0.12.16.min.css\");\n",
       "    }\n",
       "  ];\n",
       "\n",
       "  function run_inline_js() {\n",
       "    \n",
       "    if ((root.Bokeh !== undefined) || (force === true)) {\n",
       "      for (var i = 0; i < inline_js.length; i++) {\n",
       "        inline_js[i].call(root, root.Bokeh);\n",
       "      }} else if (Date.now() < root._bokeh_timeout) {\n",
       "      setTimeout(run_inline_js, 100);\n",
       "    } else if (!root._bokeh_failed_load) {\n",
       "      console.log(\"Bokeh: BokehJS failed to load within specified timeout.\");\n",
       "      root._bokeh_failed_load = true;\n",
       "    } else if (force !== true) {\n",
       "      var cell = $(document.getElementById(null)).parents('.cell').data().cell;\n",
       "      cell.output_area.append_execute_result(NB_LOAD_WARNING)\n",
       "    }\n",
       "\n",
       "  }\n",
       "\n",
       "  if (root._bokeh_is_loading === 0) {\n",
       "    console.log(\"Bokeh: BokehJS loaded, going straight to plotting\");\n",
       "    run_inline_js();\n",
       "  } else {\n",
       "    load_libs(js_urls, function() {\n",
       "      console.log(\"Bokeh: BokehJS plotting callback run at\", now());\n",
       "      run_inline_js();\n",
       "    });\n",
       "  }\n",
       "}(window));"
      ],
      "application/vnd.bokehjs_load.v0+json": "\n(function(root) {\n  function now() {\n    return new Date();\n  }\n\n  var force = true;\n\n  if (typeof (root._bokeh_onload_callbacks) === \"undefined\" || force === true) {\n    root._bokeh_onload_callbacks = [];\n    root._bokeh_is_loading = undefined;\n  }\n\n  \n\n  \n  if (typeof (root._bokeh_timeout) === \"undefined\" || force === true) {\n    root._bokeh_timeout = Date.now() + 5000;\n    root._bokeh_failed_load = false;\n  }\n\n  var NB_LOAD_WARNING = {'data': {'text/html':\n     \"<div style='background-color: #fdd'>\\n\"+\n     \"<p>\\n\"+\n     \"BokehJS does not appear to have successfully loaded. If loading BokehJS from CDN, this \\n\"+\n     \"may be due to a slow or bad network connection. Possible fixes:\\n\"+\n     \"</p>\\n\"+\n     \"<ul>\\n\"+\n     \"<li>re-rerun `output_notebook()` to attempt to load from CDN again, or</li>\\n\"+\n     \"<li>use INLINE resources instead, as so:</li>\\n\"+\n     \"</ul>\\n\"+\n     \"<code>\\n\"+\n     \"from bokeh.resources import INLINE\\n\"+\n     \"output_notebook(resources=INLINE)\\n\"+\n     \"</code>\\n\"+\n     \"</div>\"}};\n\n  function display_loaded() {\n    var el = document.getElementById(null);\n    if (el != null) {\n      el.textContent = \"BokehJS is loading...\";\n    }\n    if (root.Bokeh !== undefined) {\n      if (el != null) {\n        el.textContent = \"BokehJS \" + root.Bokeh.version + \" successfully loaded.\";\n      }\n    } else if (Date.now() < root._bokeh_timeout) {\n      setTimeout(display_loaded, 100)\n    }\n  }\n\n\n  function run_callbacks() {\n    try {\n      root._bokeh_onload_callbacks.forEach(function(callback) { callback() });\n    }\n    finally {\n      delete root._bokeh_onload_callbacks\n    }\n    console.info(\"Bokeh: all callbacks have finished\");\n  }\n\n  function load_libs(js_urls, callback) {\n    root._bokeh_onload_callbacks.push(callback);\n    if (root._bokeh_is_loading > 0) {\n      console.log(\"Bokeh: BokehJS is being loaded, scheduling callback at\", now());\n      return null;\n    }\n    if (js_urls == null || js_urls.length === 0) {\n      run_callbacks();\n      return null;\n    }\n    console.log(\"Bokeh: BokehJS not loaded, scheduling load and callback at\", now());\n    root._bokeh_is_loading = js_urls.length;\n    for (var i = 0; i < js_urls.length; i++) {\n      var url = js_urls[i];\n      var s = document.createElement('script');\n      s.src = url;\n      s.async = false;\n      s.onreadystatechange = s.onload = function() {\n        root._bokeh_is_loading--;\n        if (root._bokeh_is_loading === 0) {\n          console.log(\"Bokeh: all BokehJS libraries loaded\");\n          run_callbacks()\n        }\n      };\n      s.onerror = function() {\n        console.warn(\"failed to load library \" + url);\n      };\n      console.log(\"Bokeh: injecting script tag for BokehJS library: \", url);\n      document.getElementsByTagName(\"head\")[0].appendChild(s);\n    }\n  };\n\n  var js_urls = [\"https://cdn.pydata.org/bokeh/release/bokeh-0.12.16.min.js\", \"https://cdn.pydata.org/bokeh/release/bokeh-widgets-0.12.16.min.js\", \"https://cdn.pydata.org/bokeh/release/bokeh-tables-0.12.16.min.js\", \"https://cdn.pydata.org/bokeh/release/bokeh-gl-0.12.16.min.js\"];\n\n  var inline_js = [\n    function(Bokeh) {\n      Bokeh.set_log_level(\"info\");\n    },\n    \n    function(Bokeh) {\n      \n    },\n    function(Bokeh) {\n      console.log(\"Bokeh: injecting CSS: https://cdn.pydata.org/bokeh/release/bokeh-0.12.16.min.css\");\n      Bokeh.embed.inject_css(\"https://cdn.pydata.org/bokeh/release/bokeh-0.12.16.min.css\");\n      console.log(\"Bokeh: injecting CSS: https://cdn.pydata.org/bokeh/release/bokeh-widgets-0.12.16.min.css\");\n      Bokeh.embed.inject_css(\"https://cdn.pydata.org/bokeh/release/bokeh-widgets-0.12.16.min.css\");\n      console.log(\"Bokeh: injecting CSS: https://cdn.pydata.org/bokeh/release/bokeh-tables-0.12.16.min.css\");\n      Bokeh.embed.inject_css(\"https://cdn.pydata.org/bokeh/release/bokeh-tables-0.12.16.min.css\");\n    }\n  ];\n\n  function run_inline_js() {\n    \n    if ((root.Bokeh !== undefined) || (force === true)) {\n      for (var i = 0; i < inline_js.length; i++) {\n        inline_js[i].call(root, root.Bokeh);\n      }} else if (Date.now() < root._bokeh_timeout) {\n      setTimeout(run_inline_js, 100);\n    } else if (!root._bokeh_failed_load) {\n      console.log(\"Bokeh: BokehJS failed to load within specified timeout.\");\n      root._bokeh_failed_load = true;\n    } else if (force !== true) {\n      var cell = $(document.getElementById(null)).parents('.cell').data().cell;\n      cell.output_area.append_execute_result(NB_LOAD_WARNING)\n    }\n\n  }\n\n  if (root._bokeh_is_loading === 0) {\n    console.log(\"Bokeh: BokehJS loaded, going straight to plotting\");\n    run_inline_js();\n  } else {\n    load_libs(js_urls, function() {\n      console.log(\"Bokeh: BokehJS plotting callback run at\", now());\n      run_inline_js();\n    });\n  }\n}(window));"
     },
     "metadata": {},
     "output_type": "display_data"
    },
    {
     "data": {
      "text/html": [
       "\n",
       "<div class=\"bk-root\">\n",
       "    <div class=\"bk-plotdiv\" id=\"25a97567-f443-4382-81fa-480e7a98c640\"></div>\n",
       "</div>"
      ]
     },
     "metadata": {},
     "output_type": "display_data"
    },
    {
     "data": {
      "application/javascript": [
       "(function(root) {\n",
       "  function embed_document(root) {\n",
       "    \n",
       "  var docs_json = {\"82df0c75-56d8-4d1a-96b7-c8e9110879c0\":{\"roots\":{\"references\":[{\"attributes\":{\"plot\":null,\"text\":\"592mTorr 1020V Master Dataset\"},\"id\":\"ba0c4513-3212-4127-80b6-4b20da623c7c\",\"type\":\"Title\"},{\"attributes\":{\"active_drag\":\"auto\",\"active_inspect\":\"auto\",\"active_scroll\":\"auto\",\"active_tap\":\"auto\",\"tools\":[{\"id\":\"d4889062-8ed5-4a23-a604-821b0a2d4383\",\"type\":\"PanTool\"},{\"id\":\"edf0113a-5ace-4279-a604-02b0fccfd55a\",\"type\":\"WheelZoomTool\"},{\"id\":\"e7133fc5-5736-4dbe-b1f5-89845fcae95d\",\"type\":\"BoxZoomTool\"},{\"id\":\"11b4c5e5-cfee-4bc3-b8c3-beeac64a296f\",\"type\":\"SaveTool\"},{\"id\":\"0e073c61-82a9-4dae-a8a2-0b67edd73c06\",\"type\":\"ResetTool\"},{\"id\":\"ad81c552-9ab7-474a-9728-cbdb28bae406\",\"type\":\"HelpTool\"}]},\"id\":\"10776e11-bde3-4de8-b9d4-32b140d74db8\",\"type\":\"Toolbar\"},{\"attributes\":{\"data_source\":{\"id\":\"e9c27f3b-ac7c-4b89-be48-4da09389034f\",\"type\":\"ColumnDataSource\"},\"glyph\":{\"id\":\"e126dd05-e485-47ab-a206-41c4d012aa3d\",\"type\":\"Circle\"},\"hover_glyph\":null,\"muted_glyph\":null,\"nonselection_glyph\":{\"id\":\"97f8cc97-6f98-4818-adae-2dc0d3f85661\",\"type\":\"Circle\"},\"selection_glyph\":null,\"view\":{\"id\":\"44bbd4c1-6174-44f2-b5aa-2357a2c66146\",\"type\":\"CDSView\"}},\"id\":\"d9cd318f-f44f-4400-8817-407f4854a709\",\"type\":\"GlyphRenderer\"},{\"attributes\":{\"plot\":{\"id\":\"8f89d107-cb7d-4a16-bb17-bec37ce4d11a\",\"subtype\":\"Figure\",\"type\":\"Plot\"},\"ticker\":{\"id\":\"d09cb6ae-9c69-434a-a068-cbefbf51b131\",\"type\":\"BasicTicker\"}},\"id\":\"fd984b63-0c9a-467c-aee9-3ecd7e5e9fd5\",\"type\":\"Grid\"},{\"attributes\":{},\"id\":\"687fa64a-ab15-4d5a-b4b6-5bb88e2e7b64\",\"type\":\"BasicTickFormatter\"},{\"attributes\":{\"callback\":null},\"id\":\"f9e5de0a-3b05-4a4c-ba06-f1690f88c73f\",\"type\":\"DataRange1d\"},{\"attributes\":{},\"id\":\"51b18909-6b4a-45b7-a1a9-c77d8a57a1a1\",\"type\":\"LinearScale\"},{\"attributes\":{},\"id\":\"1ca83b9c-6493-49a7-a55c-7465a01bac53\",\"type\":\"LinearScale\"},{\"attributes\":{},\"id\":\"f5f4c1c2-acb8-49de-93db-270bbf0d578b\",\"type\":\"BasicTicker\"},{\"attributes\":{\"axis_label\":\"Voltage (V)\",\"formatter\":{\"id\":\"10a1def7-d667-4e50-beb2-7641619aa5a7\",\"type\":\"BasicTickFormatter\"},\"plot\":{\"id\":\"8f89d107-cb7d-4a16-bb17-bec37ce4d11a\",\"subtype\":\"Figure\",\"type\":\"Plot\"},\"ticker\":{\"id\":\"d09cb6ae-9c69-434a-a068-cbefbf51b131\",\"type\":\"BasicTicker\"}},\"id\":\"49521bc6-f881-43e0-a608-6fb56b845bd8\",\"type\":\"LinearAxis\"},{\"attributes\":{\"axis_label\":\"Current (A)\",\"formatter\":{\"id\":\"687fa64a-ab15-4d5a-b4b6-5bb88e2e7b64\",\"type\":\"BasicTickFormatter\"},\"plot\":{\"id\":\"8f89d107-cb7d-4a16-bb17-bec37ce4d11a\",\"subtype\":\"Figure\",\"type\":\"Plot\"},\"ticker\":{\"id\":\"f5f4c1c2-acb8-49de-93db-270bbf0d578b\",\"type\":\"BasicTicker\"}},\"id\":\"04f44485-4b8e-462b-8d0e-356e56c11c8d\",\"type\":\"LinearAxis\"},{\"attributes\":{\"overlay\":{\"id\":\"d8e77e68-8c0c-4212-90af-f912c006beda\",\"type\":\"BoxAnnotation\"}},\"id\":\"e7133fc5-5736-4dbe-b1f5-89845fcae95d\",\"type\":\"BoxZoomTool\"},{\"attributes\":{\"below\":[{\"id\":\"49521bc6-f881-43e0-a608-6fb56b845bd8\",\"type\":\"LinearAxis\"}],\"left\":[{\"id\":\"04f44485-4b8e-462b-8d0e-356e56c11c8d\",\"type\":\"LinearAxis\"}],\"plot_width\":950,\"renderers\":[{\"id\":\"49521bc6-f881-43e0-a608-6fb56b845bd8\",\"type\":\"LinearAxis\"},{\"id\":\"fd984b63-0c9a-467c-aee9-3ecd7e5e9fd5\",\"type\":\"Grid\"},{\"id\":\"04f44485-4b8e-462b-8d0e-356e56c11c8d\",\"type\":\"LinearAxis\"},{\"id\":\"9108b823-9bbb-4d04-9ee8-4f4100f05b45\",\"type\":\"Grid\"},{\"id\":\"d8e77e68-8c0c-4212-90af-f912c006beda\",\"type\":\"BoxAnnotation\"},{\"id\":\"d9cd318f-f44f-4400-8817-407f4854a709\",\"type\":\"GlyphRenderer\"}],\"title\":{\"id\":\"ba0c4513-3212-4127-80b6-4b20da623c7c\",\"type\":\"Title\"},\"toolbar\":{\"id\":\"10776e11-bde3-4de8-b9d4-32b140d74db8\",\"type\":\"Toolbar\"},\"x_range\":{\"id\":\"f395e184-1303-4592-846a-f1d08cda2626\",\"type\":\"DataRange1d\"},\"x_scale\":{\"id\":\"1ca83b9c-6493-49a7-a55c-7465a01bac53\",\"type\":\"LinearScale\"},\"y_range\":{\"id\":\"f9e5de0a-3b05-4a4c-ba06-f1690f88c73f\",\"type\":\"DataRange1d\"},\"y_scale\":{\"id\":\"51b18909-6b4a-45b7-a1a9-c77d8a57a1a1\",\"type\":\"LinearScale\"}},\"id\":\"8f89d107-cb7d-4a16-bb17-bec37ce4d11a\",\"subtype\":\"Figure\",\"type\":\"Plot\"},{\"attributes\":{\"fill_color\":{\"value\":\"white\"},\"line_color\":{\"value\":\"#1f77b4\"},\"size\":{\"units\":\"screen\",\"value\":8},\"x\":{\"field\":\"x\"},\"y\":{\"field\":\"y\"}},\"id\":\"e126dd05-e485-47ab-a206-41c4d012aa3d\",\"type\":\"Circle\"},{\"attributes\":{},\"id\":\"fa1b8b2b-bd2b-4e05-b55c-647ecf0ae0ca\",\"type\":\"Selection\"},{\"attributes\":{},\"id\":\"11b4c5e5-cfee-4bc3-b8c3-beeac64a296f\",\"type\":\"SaveTool\"},{\"attributes\":{\"bottom_units\":\"screen\",\"fill_alpha\":{\"value\":0.5},\"fill_color\":{\"value\":\"lightgrey\"},\"left_units\":\"screen\",\"level\":\"overlay\",\"line_alpha\":{\"value\":1.0},\"line_color\":{\"value\":\"black\"},\"line_dash\":[4,4],\"line_width\":{\"value\":2},\"plot\":null,\"render_mode\":\"css\",\"right_units\":\"screen\",\"top_units\":\"screen\"},\"id\":\"d8e77e68-8c0c-4212-90af-f912c006beda\",\"type\":\"BoxAnnotation\"},{\"attributes\":{},\"id\":\"dca9fc5a-b639-4cf6-b17f-5ad52d7f84ec\",\"type\":\"UnionRenderers\"},{\"attributes\":{\"dimension\":1,\"plot\":{\"id\":\"8f89d107-cb7d-4a16-bb17-bec37ce4d11a\",\"subtype\":\"Figure\",\"type\":\"Plot\"},\"ticker\":{\"id\":\"f5f4c1c2-acb8-49de-93db-270bbf0d578b\",\"type\":\"BasicTicker\"}},\"id\":\"9108b823-9bbb-4d04-9ee8-4f4100f05b45\",\"type\":\"Grid\"},{\"attributes\":{\"callback\":null},\"id\":\"f395e184-1303-4592-846a-f1d08cda2626\",\"type\":\"DataRange1d\"},{\"attributes\":{\"fill_alpha\":{\"value\":0.1},\"fill_color\":{\"value\":\"#1f77b4\"},\"line_alpha\":{\"value\":0.1},\"line_color\":{\"value\":\"#1f77b4\"},\"size\":{\"units\":\"screen\",\"value\":8},\"x\":{\"field\":\"x\"},\"y\":{\"field\":\"y\"}},\"id\":\"97f8cc97-6f98-4818-adae-2dc0d3f85661\",\"type\":\"Circle\"},{\"attributes\":{},\"id\":\"ad81c552-9ab7-474a-9728-cbdb28bae406\",\"type\":\"HelpTool\"},{\"attributes\":{\"source\":{\"id\":\"e9c27f3b-ac7c-4b89-be48-4da09389034f\",\"type\":\"ColumnDataSource\"}},\"id\":\"44bbd4c1-6174-44f2-b5aa-2357a2c66146\",\"type\":\"CDSView\"},{\"attributes\":{},\"id\":\"10a1def7-d667-4e50-beb2-7641619aa5a7\",\"type\":\"BasicTickFormatter\"},{\"attributes\":{\"callback\":null,\"data\":{\"x\":{\"__ndarray__\":\"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\",\"dtype\":\"float64\",\"shape\":[869]},\"y\":{\"__ndarray__\":\"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\",\"dtype\":\"float64\",\"shape\":[869]}},\"selected\":{\"id\":\"fa1b8b2b-bd2b-4e05-b55c-647ecf0ae0ca\",\"type\":\"Selection\"},\"selection_policy\":{\"id\":\"dca9fc5a-b639-4cf6-b17f-5ad52d7f84ec\",\"type\":\"UnionRenderers\"}},\"id\":\"e9c27f3b-ac7c-4b89-be48-4da09389034f\",\"type\":\"ColumnDataSource\"},{\"attributes\":{},\"id\":\"edf0113a-5ace-4279-a604-02b0fccfd55a\",\"type\":\"WheelZoomTool\"},{\"attributes\":{},\"id\":\"d09cb6ae-9c69-434a-a068-cbefbf51b131\",\"type\":\"BasicTicker\"},{\"attributes\":{},\"id\":\"d4889062-8ed5-4a23-a604-821b0a2d4383\",\"type\":\"PanTool\"},{\"attributes\":{},\"id\":\"0e073c61-82a9-4dae-a8a2-0b67edd73c06\",\"type\":\"ResetTool\"}],\"root_ids\":[\"8f89d107-cb7d-4a16-bb17-bec37ce4d11a\"]},\"title\":\"Bokeh Application\",\"version\":\"0.12.16\"}};\n",
       "  var render_items = [{\"docid\":\"82df0c75-56d8-4d1a-96b7-c8e9110879c0\",\"elementid\":\"25a97567-f443-4382-81fa-480e7a98c640\",\"modelid\":\"8f89d107-cb7d-4a16-bb17-bec37ce4d11a\"}];\n",
       "  root.Bokeh.embed.embed_items_notebook(docs_json, render_items);\n",
       "\n",
       "  }\n",
       "  if (root.Bokeh !== undefined) {\n",
       "    embed_document(root);\n",
       "  } else {\n",
       "    var attempts = 0;\n",
       "    var timer = setInterval(function(root) {\n",
       "      if (root.Bokeh !== undefined) {\n",
       "        embed_document(root);\n",
       "        clearInterval(timer);\n",
       "      }\n",
       "      attempts++;\n",
       "      if (attempts > 100) {\n",
       "        console.log(\"Bokeh: ERROR: Unable to run BokehJS code because BokehJS library is missing\")\n",
       "        clearInterval(timer);\n",
       "      }\n",
       "    }, 10, root)\n",
       "  }\n",
       "})(window);"
      ],
      "application/vnd.bokehjs_exec.v0+json": ""
     },
     "metadata": {
      "application/vnd.bokehjs_exec.v0+json": {
       "id": "8f89d107-cb7d-4a16-bb17-bec37ce4d11a"
      }
     },
     "output_type": "display_data"
    }
   ],
   "source": [
    "#I took this from Experimental Setup.\n",
    "#It has been modified it slightly to fit the defined variables.\n",
    "\n",
    "\n",
    "# Specifying that we want the plot to be displayed within the notebook\n",
    "output_notebook(hide_banner=True)\n",
    "\n",
    "# create a new plot with a title and axis labels.\n",
    "#DON'T FORGET TO CHANGE THE TITLE IF YOU CHANGED THE DATA\n",
    "p = figure(title=\"592mTorr 1020V Master Dataset\", x_axis_label='Voltage (V)', y_axis_label='Current (A)', plot_width=950, plot_height=600)\n",
    "\n",
    "# specify the data to plot and define the line type - here we will use a circle for the data points\n",
    "p.circle(x, y, fill_color=\"white\", size=8)\n",
    "\n",
    "# show the results\n",
    "show(p)"
   ]
  },
  {
   "cell_type": "code",
   "execution_count": 77,
   "metadata": {},
   "outputs": [
    {
     "data": {
      "text/html": [
       "\n",
       "<div class=\"bk-root\">\n",
       "    <div class=\"bk-plotdiv\" id=\"c7097920-f194-407c-8dd2-6a63b29e6891\"></div>\n",
       "</div>"
      ]
     },
     "metadata": {},
     "output_type": "display_data"
    },
    {
     "data": {
      "application/javascript": [
       "(function(root) {\n",
       "  function embed_document(root) {\n",
       "    \n",
       "  var docs_json = {\"d5451897-0a52-4f93-b5b5-f43d9edb7b20\":{\"roots\":{\"references\":[{\"attributes\":{},\"id\":\"7f980447-b28e-45cc-8502-4302911da5b6\",\"type\":\"UnionRenderers\"},{\"attributes\":{\"ticker\":null},\"id\":\"1ed64335-e194-4a89-b464-8f46340ad853\",\"type\":\"LogTickFormatter\"},{\"attributes\":{\"dimension\":1,\"plot\":{\"id\":\"cc80cd40-da97-4c86-8321-0b40f48deca7\",\"subtype\":\"Figure\",\"type\":\"Plot\"},\"ticker\":{\"id\":\"b15e0d9e-93a8-49a4-9474-7b4e1686e8e4\",\"type\":\"LogTicker\"}},\"id\":\"9cd65451-d55a-4183-a887-b5d1687493a7\",\"type\":\"Grid\"},{\"attributes\":{\"active_drag\":\"auto\",\"active_inspect\":\"auto\",\"active_scroll\":\"auto\",\"active_tap\":\"auto\",\"tools\":[{\"id\":\"a06040e3-94d0-458a-b2a1-d02596f4197c\",\"type\":\"PanTool\"},{\"id\":\"c48f82a1-a5c1-4285-99cf-4f78db86dd48\",\"type\":\"WheelZoomTool\"},{\"id\":\"fe335ed0-9976-4e39-8eee-ed7cbef8ae57\",\"type\":\"BoxZoomTool\"},{\"id\":\"91ef12c1-7b37-460c-8aa9-3879ec2ce277\",\"type\":\"SaveTool\"},{\"id\":\"29295433-8b4c-41d1-b53f-e31d4f60258f\",\"type\":\"ResetTool\"},{\"id\":\"ebf65f6b-b2b8-416d-b307-d0dcd47d85a6\",\"type\":\"HelpTool\"}]},\"id\":\"5a65cc73-87dd-4e81-8616-a35da0718a9c\",\"type\":\"Toolbar\"},{\"attributes\":{\"plot\":{\"id\":\"cc80cd40-da97-4c86-8321-0b40f48deca7\",\"subtype\":\"Figure\",\"type\":\"Plot\"},\"ticker\":{\"id\":\"62358a00-d7cd-463a-b6f4-400d285ba783\",\"type\":\"BasicTicker\"}},\"id\":\"1c8230c3-edcb-4310-b9f8-dc1bde4fc4a5\",\"type\":\"Grid\"},{\"attributes\":{},\"id\":\"fe0c9123-e958-49c1-b7ff-8dbef102c64b\",\"type\":\"Selection\"},{\"attributes\":{},\"id\":\"ebf65f6b-b2b8-416d-b307-d0dcd47d85a6\",\"type\":\"HelpTool\"},{\"attributes\":{},\"id\":\"947ee4ce-bb7f-4de4-b601-677eb2771926\",\"type\":\"BasicTickFormatter\"},{\"attributes\":{},\"id\":\"91ef12c1-7b37-460c-8aa9-3879ec2ce277\",\"type\":\"SaveTool\"},{\"attributes\":{\"axis_label\":\"logCurrent (log[A])\",\"formatter\":{\"id\":\"1ed64335-e194-4a89-b464-8f46340ad853\",\"type\":\"LogTickFormatter\"},\"plot\":{\"id\":\"cc80cd40-da97-4c86-8321-0b40f48deca7\",\"subtype\":\"Figure\",\"type\":\"Plot\"},\"ticker\":{\"id\":\"b15e0d9e-93a8-49a4-9474-7b4e1686e8e4\",\"type\":\"LogTicker\"}},\"id\":\"1251ed21-4714-4673-9713-26f3be86c532\",\"type\":\"LogAxis\"},{\"attributes\":{},\"id\":\"51489822-921f-4249-9afe-08392c896ba3\",\"type\":\"LinearScale\"},{\"attributes\":{},\"id\":\"62358a00-d7cd-463a-b6f4-400d285ba783\",\"type\":\"BasicTicker\"},{\"attributes\":{},\"id\":\"a06040e3-94d0-458a-b2a1-d02596f4197c\",\"type\":\"PanTool\"},{\"attributes\":{\"fill_color\":{\"value\":\"white\"},\"line_color\":{\"value\":\"#1f77b4\"},\"size\":{\"units\":\"screen\",\"value\":8},\"x\":{\"field\":\"x\"},\"y\":{\"field\":\"y\"}},\"id\":\"7cdbcedc-b716-4873-907b-f56a1f5a2761\",\"type\":\"Circle\"},{\"attributes\":{\"plot\":null,\"text\":\"592mTorr 1020V Master Dataset logY\"},\"id\":\"f237b045-fe2a-4f16-aba6-5364e2692db0\",\"type\":\"Title\"},{\"attributes\":{\"callback\":null,\"data\":{\"x\":{\"__ndarray__\":\"AAAAAACgbsAAAAAAAABuwAAAAAAAYG3AAAAAAADAbMAAAAAAACBswAAAAAAAgGvAAAAAAADgasAAAAAAAEBqwAAAAAAAoGnAAAAAAAAAacAAAAAAAGBowAAAAAAAwGfAAAAAAAAgZ8AAAAAAAIBmwAAAAAAA4GXAAAAAAABAZcAAAAAAAKBkwAAAAAAAAGTAAAAAAABgY8AAAAAAAMBiwAAAAAAAIGLAAAAAAACAYcAAAAAAAOBgwAAAAAAAQGDAAAAAAABAX8AAAAAAAABewAAAAAAAwFzAAAAAAACAW8AAAAAAAEBawAAAAAAAAFnAAAAAAABAb8AAAAAAACBvwAAAAAAAAG/AAAAAAADgbsAAAAAAAMBuwAAAAAAAoG7AAAAAAACAbsAAAAAAAGBuwAAAAAAAQG7AAAAAAAAgbsAAAAAAAABuwAAAAAAA4G3AAAAAAADAbcAAAAAAAKBtwAAAAAAAgG3AAAAAAABgbcAAAAAAAEBtwAAAAAAAIG3AAAAAAAAAbcAAAAAAAOBswAAAAAAAwGzAAAAAAACgbMAAAAAAAIBswAAAAAAAYGzAAAAAAABAbMAAAAAAACBswAAAAAAAAGzAAAAAAADga8AAAAAAAMBrwAAAAAAAoGvAAAAAAACAa8AAAAAAAGBrwAAAAAAAQGvAAAAAAAAga8AAAAAAAABrwAAAAAAA4GrAAAAAAADAasAAAAAAAKBqwAAAAAAAgGrAAAAAAABgasAAAAAAAEBqwAAAAAAAIGrAAAAAAAAAasAAAAAAAOBpwAAAAAAAwGnAAAAAAACgacAAAAAAAIBpwAAAAAAAYGnAAAAAAABAacAAAAAAACBpwAAAAAAAAGnAAAAAAADgaMAAAAAAAMBowAAAAAAAoGjAAAAAAACAaMAAAAAAAGBowAAAAAAAQGjAAAAAAAAgaMAAAAAAAABowAAAAAAA4GfAAAAAAADAZ8AAAAAAAKBnwAAAAAAAgGfAAAAAAABgZ8AAAAAAAEBnwAAAAAAAIGfAAAAAAAAAZ8AAAAAAAOBmwAAAAAAAwGbAAAAAAACgZsAAAAAAAIBmwAAAAAAAYGbAAAAAAABAZsAAAAAAACBmwAAAAAAAAGbAAAAAAADgZcAAAAAAAMBlwAAAAAAAoGXAAAAAAACAZcAAAAAAAGBlwAAAAAAAQGXAAAAAAAAgZcAAAAAAAABlwAAAAAAA4GTAAAAAAADAZMAAAAAAAKBkwAAAAAAAgGTAAAAAAABgZMAAAAAAAEBkwAAAAAAAIGTAAAAAAAAAZMAAAAAAAOBjwAAAAAAAwGPAAAAAAACgY8AAAAAAAIBjwAAAAAAAYGPAAAAAAABAY8AAAAAAACBjwAAAAAAAAGPAAAAAAADgYsAAAAAAAMBiwAAAAAAAoGLAAAAAAACAYsAAAAAAAGBiwAAAAAAAQGLAAAAAAAAgYsAAAAAAAABiwAAAAAAA4GHAAAAAAADAYcAAAAAAAKBhwAAAAAAAgGHAAAAAAABgYcAAAAAAAEBhwAAAAAAAIGHAAAAAAAAAYcAAAAAAAOBgwAAAAAAAwGDAAAAAAACgYMAAAAAAAIBgwAAAAAAAYGDAAAAAAABAYMAAAAAAACBgwAAAAAAAAGDAAAAAAADAX8AAAAAAAIBfwAAAAAAAQF/AAAAAAAAAX8AAAAAAAMBewAAAAAAAgF7AAAAAAABAXsAAAAAAAABewAAAAAAAwF3AAAAAAACAXcAAAAAAAEBdwAAAAAAAAF3AAAAAAADAXMAAAAAAAIBcwAAAAAAAQFzAAAAAAAAAXMAAAAAAAMBbwAAAAAAAgFvAAAAAAABAW8AAAAAAAABbwAAAAAAAwFrAAAAAAACAWsAAAAAAAEBawAAAAAAAAFrAAAAAAADAWcAAAAAAAIBZwAAAAAAAQFnAAAAAAAAAWcA=\",\"dtype\":\"float64\",\"shape\":[181]},\"y\":{\"__ndarray__\":\"73HHF8Ry0b6a392I9srPvrFJhjX4b8y+l/GlphO/yL5kOAH6O+PEvlwrLWURccC+IStsxJtOtb64omGxRUtwvkQSL+JKXKg+JkoId+O0wj6vbw50QFTSPo2zbUGE8t0+XxllR/R85z4vdIC7R5HwPoa6Wc2EcPY+Iw9EFmni/T4K1Ac3vpsDP7JdRlYjYAk/JhDAF3DgDz8W/aGZJ9cUPx8NTBNb5hk/RMU4fxMKIT9/n3HhQEgmP2sqi8Iuii4/xa2CGOjaNz/Cvp1EhH9BP0Sn591YUEg/51JcVfZdUT+5GW7A54dRP7kZbsDnh1E/VwyRsskK074mSgh347TSvlQBtSCtlNK+aVedrINJ0r44lRRxnfPRvtob34vtvdG+qVlWUAdo0b6Q+JEyFD3RvtMFJ2i00dC+dYzxggSc0L7+sfd/YTvQvp84wpqxBdC+9U033ImKz74HmUPWQ8nOvnRSqSORx82+hp21HUsGzb5uPPH/V9vMvpjowRcFRcy+qjPOEb+Dy74X7TNfDILKvrZoIug/1sm+VOQQcXMqyb7a/jrcs1PIvgSrC/Rgvce+LlfcCw4nx74P4F/K4Q/GviErbMSbTsW+j+TREelMxL4tYMCaHKHDvvaHfzv9XsK+e6Kppj2Iwb51jPGCBJzAvsSLrqCjNL++SK+8mvLXur4KwcMXmqm4vs3SypRBe7a+grhhynZ0sr6qM84Rv4OrvgtwGe5eGaS+RwBnxC1of746jDDijnllPjnd2gvKCYo+VJNmRzialD6BCQz0sQSXPiA0UFOqyKE+KsMy4nQloT6hpOuC9CasPn1IG+7zfbA+IStsxJtOtT6Q2+2C2tK3PvJf//mmfrg+JhDAF3Dgvz4ZHpgvcdzAPs3SypRBe8Y+8l//+aZ+yD4MuN+Iiy/MPo3ttaD3xtA+toXGl3lA0z6xZirlMdrVPvJf//mmftg+6jWHtUKi2j4Ag4uyCt3dPvVNN9yJit8+7mdnh6764j4CtO+CbzfkPhDqv1r3h+Q+5jOPsjSm5j72atuLw/ToPkivvJry1+o++2zTjtHw7D7CxHr+DwvwPgjTizW3nfE+FglcDT/u8T4K1Ac3vpvzPtT8QtmlV/Q+a065HXXP9T5S45RvbCz3Pom71c6Lbvg+fYaB+Aoc+j5kG11KAnn7PtTL3ghB/f0+nfQZqyi5/j7Q+krWl1sAP/qcu10vTQE/grhhynZ0Aj+lP+plyj0DPy1bkNIRZQQ/tXY2P1mMBT8wXAzUGGMGP6hB4mjYOQc/Rq5AmevZCD/V5M7xdikKP8qvehv21gs/PXpoxHGFDD+BiHn7GBgOPyYQwBdw4A8/htLNtLOeED/bI+U4AZcRP9L7xteeWRI/KE3eW+xREz/5kAHqFzYUPypOWl3zTxU/0OLW7mgtFj/N1aB5ShgXPyMnuP2XEBg/Edd7O9OVGT8GoidlUkMbP5XYtb3dkhw/bTfBN02fHT/VzFoKSPsfP/yp8dJNYiA/QrgCCvX0IT/S+8bXnlkiP6ta0lEOZiM/qU2c3O9QJD/uW60Tl+MlP32SO2wiMyc/DcnJxK2CKD92a5kMx/MpP3JRLSKKySs/tVII5BJHLj/Ey9O5opQwPy9uowG8BTI/mRBzSdV2Mz/M1CR4Qxo1P6AZxAd2/Dc/Gvm84qlHOj+5bHTOT3E8P2sqi8Iuij4/vCakNQadQD/MY83IIHdBP5J4eTpXlEI/M/lmmxvTQz+5isVvCitFPxHjNa/qrEY/OPWB5J1DST8rpz0l58ROP3L+JhQi4FA/RMU4fxMKUT9ExTh/EwpRPxWMSuoENFE/FYxK6gQ0UT8VjErqBDRRPxWMSuoENFE/FYxK6gQ0UT8VjErqBDRRPxWMSuoENFE/FYxK6gQ0UT8VjErqBDRRPxWMSuoENFE/FYxK6gQ0UT8=\",\"dtype\":\"float64\",\"shape\":[181]}},\"selected\":{\"id\":\"fe0c9123-e958-49c1-b7ff-8dbef102c64b\",\"type\":\"Selection\"},\"selection_policy\":{\"id\":\"7f980447-b28e-45cc-8502-4302911da5b6\",\"type\":\"UnionRenderers\"}},\"id\":\"1d1ea82d-eef4-4680-9629-7289c9be9216\",\"type\":\"ColumnDataSource\"},{\"attributes\":{},\"id\":\"c48f82a1-a5c1-4285-99cf-4f78db86dd48\",\"type\":\"WheelZoomTool\"},{\"attributes\":{\"bottom_units\":\"screen\",\"fill_alpha\":{\"value\":0.5},\"fill_color\":{\"value\":\"lightgrey\"},\"left_units\":\"screen\",\"level\":\"overlay\",\"line_alpha\":{\"value\":1.0},\"line_color\":{\"value\":\"black\"},\"line_dash\":[4,4],\"line_width\":{\"value\":2},\"plot\":null,\"render_mode\":\"css\",\"right_units\":\"screen\",\"top_units\":\"screen\"},\"id\":\"b0c7a4d8-e1ef-4582-8902-136b9fae0def\",\"type\":\"BoxAnnotation\"},{\"attributes\":{\"callback\":null},\"id\":\"e9b86760-1385-4ae7-848a-1bf3f598a5f2\",\"type\":\"DataRange1d\"},{\"attributes\":{\"num_minor_ticks\":10},\"id\":\"b15e0d9e-93a8-49a4-9474-7b4e1686e8e4\",\"type\":\"LogTicker\"},{\"attributes\":{\"below\":[{\"id\":\"843e5620-8247-4c25-b1ca-8ddee2491333\",\"type\":\"LinearAxis\"}],\"left\":[{\"id\":\"1251ed21-4714-4673-9713-26f3be86c532\",\"type\":\"LogAxis\"}],\"plot_width\":950,\"renderers\":[{\"id\":\"843e5620-8247-4c25-b1ca-8ddee2491333\",\"type\":\"LinearAxis\"},{\"id\":\"1c8230c3-edcb-4310-b9f8-dc1bde4fc4a5\",\"type\":\"Grid\"},{\"id\":\"1251ed21-4714-4673-9713-26f3be86c532\",\"type\":\"LogAxis\"},{\"id\":\"9cd65451-d55a-4183-a887-b5d1687493a7\",\"type\":\"Grid\"},{\"id\":\"b0c7a4d8-e1ef-4582-8902-136b9fae0def\",\"type\":\"BoxAnnotation\"},{\"id\":\"3cf93939-ace3-463d-b5bd-911a18f781f6\",\"type\":\"GlyphRenderer\"}],\"title\":{\"id\":\"f237b045-fe2a-4f16-aba6-5364e2692db0\",\"type\":\"Title\"},\"toolbar\":{\"id\":\"5a65cc73-87dd-4e81-8616-a35da0718a9c\",\"type\":\"Toolbar\"},\"x_range\":{\"id\":\"e9b86760-1385-4ae7-848a-1bf3f598a5f2\",\"type\":\"DataRange1d\"},\"x_scale\":{\"id\":\"51489822-921f-4249-9afe-08392c896ba3\",\"type\":\"LinearScale\"},\"y_range\":{\"id\":\"26de8f9d-c4ef-4c00-ab30-a6b8e8bee372\",\"type\":\"DataRange1d\"},\"y_scale\":{\"id\":\"4c1e4c32-2ed6-4c97-9705-31abad26962e\",\"type\":\"LogScale\"}},\"id\":\"cc80cd40-da97-4c86-8321-0b40f48deca7\",\"subtype\":\"Figure\",\"type\":\"Plot\"},{\"attributes\":{\"callback\":null},\"id\":\"26de8f9d-c4ef-4c00-ab30-a6b8e8bee372\",\"type\":\"DataRange1d\"},{\"attributes\":{\"overlay\":{\"id\":\"b0c7a4d8-e1ef-4582-8902-136b9fae0def\",\"type\":\"BoxAnnotation\"}},\"id\":\"fe335ed0-9976-4e39-8eee-ed7cbef8ae57\",\"type\":\"BoxZoomTool\"},{\"attributes\":{},\"id\":\"4c1e4c32-2ed6-4c97-9705-31abad26962e\",\"type\":\"LogScale\"},{\"attributes\":{},\"id\":\"29295433-8b4c-41d1-b53f-e31d4f60258f\",\"type\":\"ResetTool\"},{\"attributes\":{\"source\":{\"id\":\"1d1ea82d-eef4-4680-9629-7289c9be9216\",\"type\":\"ColumnDataSource\"}},\"id\":\"0a3adec5-473b-4c00-a626-e862c03f483f\",\"type\":\"CDSView\"},{\"attributes\":{\"axis_label\":\"Voltage [V]\",\"formatter\":{\"id\":\"947ee4ce-bb7f-4de4-b601-677eb2771926\",\"type\":\"BasicTickFormatter\"},\"plot\":{\"id\":\"cc80cd40-da97-4c86-8321-0b40f48deca7\",\"subtype\":\"Figure\",\"type\":\"Plot\"},\"ticker\":{\"id\":\"62358a00-d7cd-463a-b6f4-400d285ba783\",\"type\":\"BasicTicker\"}},\"id\":\"843e5620-8247-4c25-b1ca-8ddee2491333\",\"type\":\"LinearAxis\"},{\"attributes\":{\"data_source\":{\"id\":\"1d1ea82d-eef4-4680-9629-7289c9be9216\",\"type\":\"ColumnDataSource\"},\"glyph\":{\"id\":\"7cdbcedc-b716-4873-907b-f56a1f5a2761\",\"type\":\"Circle\"},\"hover_glyph\":null,\"muted_glyph\":null,\"nonselection_glyph\":{\"id\":\"1ad6cf62-a240-44f7-82cf-75b5d5f43950\",\"type\":\"Circle\"},\"selection_glyph\":null,\"view\":{\"id\":\"0a3adec5-473b-4c00-a626-e862c03f483f\",\"type\":\"CDSView\"}},\"id\":\"3cf93939-ace3-463d-b5bd-911a18f781f6\",\"type\":\"GlyphRenderer\"},{\"attributes\":{\"fill_alpha\":{\"value\":0.1},\"fill_color\":{\"value\":\"#1f77b4\"},\"line_alpha\":{\"value\":0.1},\"line_color\":{\"value\":\"#1f77b4\"},\"size\":{\"units\":\"screen\",\"value\":8},\"x\":{\"field\":\"x\"},\"y\":{\"field\":\"y\"}},\"id\":\"1ad6cf62-a240-44f7-82cf-75b5d5f43950\",\"type\":\"Circle\"}],\"root_ids\":[\"cc80cd40-da97-4c86-8321-0b40f48deca7\"]},\"title\":\"Bokeh Application\",\"version\":\"0.12.16\"}};\n",
       "  var render_items = [{\"docid\":\"d5451897-0a52-4f93-b5b5-f43d9edb7b20\",\"elementid\":\"c7097920-f194-407c-8dd2-6a63b29e6891\",\"modelid\":\"cc80cd40-da97-4c86-8321-0b40f48deca7\"}];\n",
       "  root.Bokeh.embed.embed_items_notebook(docs_json, render_items);\n",
       "\n",
       "  }\n",
       "  if (root.Bokeh !== undefined) {\n",
       "    embed_document(root);\n",
       "  } else {\n",
       "    var attempts = 0;\n",
       "    var timer = setInterval(function(root) {\n",
       "      if (root.Bokeh !== undefined) {\n",
       "        embed_document(root);\n",
       "        clearInterval(timer);\n",
       "      }\n",
       "      attempts++;\n",
       "      if (attempts > 100) {\n",
       "        console.log(\"Bokeh: ERROR: Unable to run BokehJS code because BokehJS library is missing\")\n",
       "        clearInterval(timer);\n",
       "      }\n",
       "    }, 10, root)\n",
       "  }\n",
       "})(window);"
      ],
      "application/vnd.bokehjs_exec.v0+json": ""
     },
     "metadata": {
      "application/vnd.bokehjs_exec.v0+json": {
       "id": "cc80cd40-da97-4c86-8321-0b40f48deca7"
      }
     },
     "output_type": "display_data"
    }
   ],
   "source": [
    "#Now we want the logY plot.\n",
    "#DON'T FORGET TO CHANGE THE TITLE IF YOU CHANGED THE DATA\n",
    "p = figure(title=\"592mTorr 1020V Master Dataset logY\", x_axis_label='Voltage [V]', y_axis_label='logCurrent (log[A])', plot_width=950, plot_height=600, y_axis_type=\"log\")\n",
    "\n",
    "# specify the data to plot and define the line type - here we will use a circle for the data points\n",
    "p.circle(x, y, fill_color=\"white\", size=8)\n",
    "\n",
    "# show the results\n",
    "show(p)"
   ]
  },
  {
   "cell_type": "code",
   "execution_count": 60,
   "metadata": {},
   "outputs": [],
   "source": [
    "#Now we want to show multiple data on the same plot.\n",
    "#First we need to define more data.\n",
    "af = pd.read_csv(\"340mTorr Data Master.csv\")\n",
    "bf = pd.read_csv(\"592mTorr1020V Data Master.csv\")\n",
    "cf = pd.read_csv(\"585mtorr Data Master.csv\")\n",
    "#df = pd.read_csv(\"Data/592mTorr/KHIK592mtorr1500V.csv\")\n",
    "#copy and paste this, changing the first letter until you have as many as you need.\n",
    "#Now we define X and Y\n",
    "xa=af.iloc[:,0].values\n",
    "ya=af.iloc[:,1].values\n",
    "xb=bf.iloc[:,0].values\n",
    "yb=bf.iloc[:,1].values\n",
    "xc=cf.iloc[:,0].values\n",
    "yc=cf.iloc[:,1].values\n",
    "xd=df.iloc[:,0].values\n",
    "yd=df.iloc[:,1].values\n",
    "#etc."
   ]
  },
  {
   "cell_type": "code",
   "execution_count": 61,
   "metadata": {},
   "outputs": [
    {
     "data": {
      "text/html": [
       "\n",
       "<div class=\"bk-root\">\n",
       "    <div class=\"bk-plotdiv\" id=\"7d2f6845-45ae-4c70-9589-c3f666f339ef\"></div>\n",
       "</div>"
      ]
     },
     "metadata": {},
     "output_type": "display_data"
    },
    {
     "data": {
      "application/javascript": [
       "(function(root) {\n",
       "  function embed_document(root) {\n",
       "    \n",
       "  var docs_json = {\"319ac863-281b-4797-a6e9-0e95f5d51a6b\":{\"roots\":{\"references\":[{\"attributes\":{},\"id\":\"3c4bbac0-707d-4d2d-be8e-043b42e20e0d\",\"type\":\"Selection\"},{\"attributes\":{\"fill_color\":{\"value\":\"red\"},\"line_color\":{\"value\":\"#1f77b4\"},\"size\":{\"units\":\"screen\",\"value\":8},\"x\":{\"field\":\"x\"},\"y\":{\"field\":\"y\"}},\"id\":\"ebb4c2cd-63f2-4205-a44b-920e2cb39ea9\",\"type\":\"Triangle\"},{\"attributes\":{\"fill_alpha\":{\"value\":0.1},\"fill_color\":{\"value\":\"#1f77b4\"},\"line_alpha\":{\"value\":0.1},\"line_color\":{\"value\":\"#1f77b4\"},\"size\":{\"units\":\"screen\",\"value\":8},\"x\":{\"field\":\"x\"},\"y\":{\"field\":\"y\"}},\"id\":\"bdba06b1-4e29-4723-992e-57102b6490bd\",\"type\":\"Triangle\"},{\"attributes\":{\"source\":{\"id\":\"b226661b-487b-4e45-831e-91cdf722cdba\",\"type\":\"ColumnDataSource\"}},\"id\":\"3ce08516-ce41-40ec-882b-fd3643b49965\",\"type\":\"CDSView\"},{\"attributes\":{\"dimension\":1,\"plot\":{\"id\":\"1f414df0-226a-4532-8b78-c7c9f9d7e33f\",\"subtype\":\"Figure\",\"type\":\"Plot\"},\"ticker\":{\"id\":\"02625b17-b604-4a66-9d0f-0fef37bc7966\",\"type\":\"LogTicker\"}},\"id\":\"d16e8f5b-e451-4164-9b7f-6a68d14d2e20\",\"type\":\"Grid\"},{\"attributes\":{\"ticker\":null},\"id\":\"9ae2af78-c7ef-4146-be60-094421d275ce\",\"type\":\"LogTickFormatter\"},{\"attributes\":{},\"id\":\"2e5dcac9-fff3-450c-99e2-4e4830e0b238\",\"type\":\"PanTool\"},{\"attributes\":{},\"id\":\"962175e8-db28-4e3c-9704-137716942faa\",\"type\":\"LinearScale\"},{\"attributes\":{\"overlay\":{\"id\":\"ea61c70a-57f4-4183-96f9-061e9103144b\",\"type\":\"BoxAnnotation\"}},\"id\":\"42c37580-1b7c-47ad-8ec5-257448e6b917\",\"type\":\"BoxZoomTool\"},{\"attributes\":{},\"id\":\"e9a3f593-49f8-41d7-8a62-52013329b9df\",\"type\":\"WheelZoomTool\"},{\"attributes\":{\"axis_label\":\"Voltage [V]\",\"formatter\":{\"id\":\"b21e1530-efd0-4a22-bc84-c390b6efa5c5\",\"type\":\"BasicTickFormatter\"},\"plot\":{\"id\":\"1f414df0-226a-4532-8b78-c7c9f9d7e33f\",\"subtype\":\"Figure\",\"type\":\"Plot\"},\"ticker\":{\"id\":\"32be3947-de0e-4770-8e24-c6d48519014b\",\"type\":\"BasicTicker\"}},\"id\":\"fc4bbe4e-946f-470a-87f6-f7e7d866adf4\",\"type\":\"LinearAxis\"},{\"attributes\":{},\"id\":\"6f1b05c4-a678-44b0-a1ef-acde5d1b015d\",\"type\":\"ResetTool\"},{\"attributes\":{\"fill_alpha\":{\"value\":0.1},\"fill_color\":{\"value\":\"#1f77b4\"},\"line_alpha\":{\"value\":0.1},\"line_color\":{\"value\":\"#1f77b4\"},\"x\":{\"field\":\"x\"},\"y\":{\"field\":\"y\"}},\"id\":\"4924f7d2-2731-4b3e-9546-2b8b28902a77\",\"type\":\"Circle\"},{\"attributes\":{},\"id\":\"b21e1530-efd0-4a22-bc84-c390b6efa5c5\",\"type\":\"BasicTickFormatter\"},{\"attributes\":{\"label\":{\"value\":\"340mTorr\"},\"renderers\":[{\"id\":\"fb3133e2-33c2-4f0f-92bd-fe4c95fed733\",\"type\":\"GlyphRenderer\"}]},\"id\":\"34bc6faa-a0ec-4d86-9c6e-53fd42a82a1d\",\"type\":\"LegendItem\"},{\"attributes\":{\"label\":{\"value\":\"592mTorr\"},\"renderers\":[{\"id\":\"cc5b4e5e-2c56-46fa-a563-f4efd7645c8d\",\"type\":\"GlyphRenderer\"}]},\"id\":\"5b488c4f-2705-430c-8e27-ffc40214e4d5\",\"type\":\"LegendItem\"},{\"attributes\":{\"source\":{\"id\":\"61826b24-405f-476e-b3a5-cca479ba2672\",\"type\":\"ColumnDataSource\"}},\"id\":\"6f69d6b1-74f6-454b-877a-297327587e3a\",\"type\":\"CDSView\"},{\"attributes\":{\"active_drag\":\"auto\",\"active_inspect\":\"auto\",\"active_scroll\":\"auto\",\"active_tap\":\"auto\",\"tools\":[{\"id\":\"2e5dcac9-fff3-450c-99e2-4e4830e0b238\",\"type\":\"PanTool\"},{\"id\":\"e9a3f593-49f8-41d7-8a62-52013329b9df\",\"type\":\"WheelZoomTool\"},{\"id\":\"42c37580-1b7c-47ad-8ec5-257448e6b917\",\"type\":\"BoxZoomTool\"},{\"id\":\"8c12baf7-c61a-41df-8efa-33ae5a837899\",\"type\":\"SaveTool\"},{\"id\":\"6f1b05c4-a678-44b0-a1ef-acde5d1b015d\",\"type\":\"ResetTool\"},{\"id\":\"807b41a8-65af-49f1-b714-f575203e5589\",\"type\":\"HelpTool\"}]},\"id\":\"1cf47b1f-1d45-4da3-8409-3932d4a4bb28\",\"type\":\"Toolbar\"},{\"attributes\":{\"items\":[{\"id\":\"34bc6faa-a0ec-4d86-9c6e-53fd42a82a1d\",\"type\":\"LegendItem\"},{\"id\":\"5b488c4f-2705-430c-8e27-ffc40214e4d5\",\"type\":\"LegendItem\"},{\"id\":\"5da2d5b9-c602-4174-9242-65c5e655d98e\",\"type\":\"LegendItem\"}],\"location\":\"top_left\",\"plot\":{\"id\":\"1f414df0-226a-4532-8b78-c7c9f9d7e33f\",\"subtype\":\"Figure\",\"type\":\"Plot\"}},\"id\":\"1f302ec0-3b5d-432c-bd66-9290e7d64056\",\"type\":\"Legend\"},{\"attributes\":{},\"id\":\"916b7c0e-6e9e-4cd9-a04a-f92ce5f1ffce\",\"type\":\"LogScale\"},{\"attributes\":{\"callback\":null,\"data\":{\"x\":{\"__ndarray__\":\"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\",\"dtype\":\"float64\",\"shape\":[869]},\"y\":{\"__ndarray__\":\"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\",\"dtype\":\"float64\",\"shape\":[869]}},\"selected\":{\"id\":\"59367e78-c25e-4cfd-a538-55cceab09faf\",\"type\":\"Selection\"},\"selection_policy\":{\"id\":\"ed925f1f-cf41-4a11-9adb-7f9a3822a347\",\"type\":\"UnionRenderers\"}},\"id\":\"b226661b-487b-4e45-831e-91cdf722cdba\",\"type\":\"ColumnDataSource\"},{\"attributes\":{},\"id\":\"8c12baf7-c61a-41df-8efa-33ae5a837899\",\"type\":\"SaveTool\"},{\"attributes\":{\"bottom_units\":\"screen\",\"fill_alpha\":{\"value\":0.5},\"fill_color\":{\"value\":\"lightgrey\"},\"left_units\":\"screen\",\"level\":\"overlay\",\"line_alpha\":{\"value\":1.0},\"line_color\":{\"value\":\"black\"},\"line_dash\":[4,4],\"line_width\":{\"value\":2},\"plot\":null,\"render_mode\":\"css\",\"right_units\":\"screen\",\"top_units\":\"screen\"},\"id\":\"ea61c70a-57f4-4183-96f9-061e9103144b\",\"type\":\"BoxAnnotation\"},{\"attributes\":{\"callback\":null,\"data\":{\"x\":{\"__ndarray__\":\"AAAAAADQdcAAAAAAAMB1wAAAAAAAsHXAAAAAAACgdcAAAAAAAJB1wAAAAAAAgHXAAAAAAABwdcAAAAAAAGB1wAAAAAAAUHXAAAAAAABAdcAAAAAAADB1wAAAAAAAIHXAAAAAAAAQdcAAAAAAAAB1wAAAAAAA8HTAAAAAAADgdMAAAAAAANB0wAAAAAAAwHTAAAAAAACwdMAAAAAAAKB0wAAAAAAAkHTAAAAAAACAdMAAAAAAAHB0wAAAAAAAYHTAAAAAAABQdMAAAAAAAEB0wAAAAAAAMHTAAAAAAAAgdMAAAAAAABB0wAAAAAAAAHTAAAAAAADwc8AAAAAAAOBzwAAAAAAA0HPAAAAAAADAc8AAAAAAALBzwAAAAAAAoHPAAAAAAACQc8AAAAAAAIBzwAAAAAAAcHPAAAAAAABgc8AAAAAAAFBzwAAAAAAAQHPAAAAAAAAwc8AAAAAAACBzwAAAAAAAEHPAAAAAAAAAc8AAAAAAAPBywAAAAAAA4HLAAAAAAADQcsAAAAAAAMBywAAAAAAAsHLAAAAAAACgcsAAAAAAAJBywAAAAAAAgHLAAAAAAABwcsAAAAAAAGBywAAAAAAAUHLAAAAAAABAcsAAAAAAADBywAAAAAAAIHLAAAAAAAAQcsAAAAAAAABywAAAAAAA8HHAAAAAAADgccAAAAAAANBxwAAAAAAAwHHAAAAAAACwccAAAAAAAKBxwAAAAAAAkHHAAAAAAACAccAAAAAAAHBxwAAAAAAAYHHAAAAAAABQccAAAAAAAEBxwAAAAAAAMHHAAAAAAAAgccAAAAAAABBxwAAAAAAAAHHAAAAAAADwcMAAAAAAAOBwwAAAAAAA0HDAAAAAAADAcMAAAAAAALBwwAAAAAAAoHDAAAAAAACQcMAAAAAAAIBwwAAAAAAAcHDAAAAAAABgcMAAAAAAAFBwwAAAAAAAQHDAAAAAAAAwcMAAAAAAACBwwAAAAAAAEHDAAAAAAAAAcMAAAAAAAOBvwAAAAAAAwG/AAAAAAACgb8AAAAAAAIBvwAAAAAAAYG/AAAAAAABAb8AAAAAAACBvwAAAAAAAAG/AAAAAAADgbsAAAAAAAMBuwAAAAAAAoG7AAAAAAACAbsAAAAAAAGBuwAAAAAAAQG7AAAAAAAAgbsAAAAAAAABuwAAAAAAAIHfAAAAAAADQdsAAAAAAAIB2wAAAAAAAMHbAAAAAAADgdcAAAAAAAJB1wAAAAAAAQHXAAAAAAADwdMAAAAAAAKB0wAAAAAAAUHTAAAAAAAAAdMAAAAAAALBzwAAAAAAAYHPAAAAAAAAQc8AAAAAAAMBywAAAAAAAcHLAAAAAAAAgcsAAAAAAANBxwAAAAAAAgHHAAAAAAAAwccAAAAAAAOBwwAAAAAAAkHDAAAAAAABAcMAAAAAAAOBvwAAAAAAAQG/AAAAAAACgbsAAAAAAAABuwAAAAAAAYG3AAAAAAADAbMAAAAAAACBswAAAAAAAgGvAAAAAAADgasAAAAAAAEBqwA==\",\"dtype\":\"float64\",\"shape\":[143]},\"y\":{\"__ndarray__\":\"L3SAu0eR4D7fADPfwU/sPl0Y6UXtfvU+l/GlphO/+D76nLtdL00BPyhBJOjUOgY/dmuZDMfzCT/tNgO3SaAMPzJFFO7wMg4/eJz93CtOED8vdIC7R5EQP4TFlz+ViRE/72dnh676Ej/sWjESkOUTP/Fo44i1+BQ/IiY8/JASFj/HuriNBvAWP8vIagQsAxg/0dYce1EWGT/jGp/J/nkaP3JRLSKKyRs/Aoi7ehUZHT+PvknToGgePx/11yssuB8/1xUzwtuDID/6nLtdL00hPxwkRPmCFiI/ZD+LpUi+Ij9hMlUwKqkjP18lH7sLlCQ/p0BmZ9E7JT+kMzDysiYmP+xOd554ziY/6kFBKVq5Jz8NycnErYIoPy9QUmABTCk/Utfa+1QVKj9PyqSGNgArP029bhEY6ys/S7A4nPnVLD9tN8E3TZ8tP2sqi8Iuii4/aB1VTRB1Lz80iA/s+C8wP7KBdLFppTA/MXvZdtoaMT+dKt8zEqExPxwkRPmCFjI/iNNJtrqcMj/1gk9z8iIzP2EyVTAqqTM/zuFa7WEvND8oRwGiYMY0P5T2Bl+YTDU/AaYMHNDSNT9IwVPIlXo2P6Im+nyUETc//IugMZOoNz9W8UbmkT84P7BW7ZqQ1jg/CryTT49tOT92a5kMx/M5P72G4LiMmzo/GeyGbYsyOz9yUS0iisk7P8y209aIYDw/Jhx6i4f3PD9tN8E3TZ89P9nmxvSEJT4/NExtqYO8Pj+yRdJu9DE/P+gWuhKB6j8/KuPfZ1w4QD/OcAM+P4xAP4RIhhxbz0A/KNap8j0jQT/Cvp1EhH9BP2/x8J4Dy0E/Ctrk8EknQj/AsWfPZWpCP2Q/i6VIvkI/CM2ueysSQz+1/wHWql1DP2vXhLTGoEM/DmWoiqn0Qz+pTZzc71BEP18lH7sLlEQ/DFhyFYvfRD+nQGZn0TtFP1RzucFQh0U/9wDdlzPbRT+bjgBuFi9GPyzSxDvAk0Y/9fOmIhXGRj+Zgcr49xlHPzRqvko+dkc/smMjEK/rRz9NTBdi9UdIP/p+arx0k0g/zEV8J2a9SD9LP+Hs1jJJP/hxNEdWfkk/dmuZDMfzST8a+bziqUdKP72G4LiMm0o/T8qkhjYASz/zV8hcGVRLP3z2XKYmwUs/Ft9Q+GwdTD+5bHTOT3FMP1FQVRv/aXq+je21oPfGwD4jIog1jdTYPvZq24vD9Og+oib6fJQR9z7ZFq/D4oECP7p4LkJniAk/2Ravw+KBEj9GrkCZ69kYP9cVM8LbgyA/zNQkeEMaJT8KvJNPj20pP9nmxvSEJS4/wr6dRIR/MT/gK7r1mh40P9oEGJY/3zY/ZCE6BI4EOj/vPVxy3Ck9P9XMWgpI+z8/uRluwOeHQT8Iza57KxJDP18lH7sLlEQ/dvpBXaRQRj+8CFOUS+NHP+7MBMO5hkk/BqInZVJDSz/44ov2eCFNP/xtT5DY7k4//Knx0k1iUD8VjErqBDRRP7kZbsDnh1E/i+B/K9mxUT+L4H8r2bFRPw==\",\"dtype\":\"float64\",\"shape\":[143]}},\"selected\":{\"id\":\"3c4bbac0-707d-4d2d-be8e-043b42e20e0d\",\"type\":\"Selection\"},\"selection_policy\":{\"id\":\"d043927a-8e96-403c-9fce-355dc121050b\",\"type\":\"UnionRenderers\"}},\"id\":\"61826b24-405f-476e-b3a5-cca479ba2672\",\"type\":\"ColumnDataSource\"},{\"attributes\":{\"plot\":null,\"text\":\"~1000V\"},\"id\":\"7d5e1bdd-72e0-4a81-b71a-eac4871b5dac\",\"type\":\"Title\"},{\"attributes\":{\"callback\":null},\"id\":\"a22c2462-b2b0-412a-8910-48f82d2118f6\",\"type\":\"DataRange1d\"},{\"attributes\":{\"axis_label\":\"logCurrent (log[A])\",\"formatter\":{\"id\":\"9ae2af78-c7ef-4146-be60-094421d275ce\",\"type\":\"LogTickFormatter\"},\"plot\":{\"id\":\"1f414df0-226a-4532-8b78-c7c9f9d7e33f\",\"subtype\":\"Figure\",\"type\":\"Plot\"},\"ticker\":{\"id\":\"02625b17-b604-4a66-9d0f-0fef37bc7966\",\"type\":\"LogTicker\"}},\"id\":\"189f3a34-b3be-4716-856e-4fb25b92089d\",\"type\":\"LogAxis\"},{\"attributes\":{\"source\":{\"id\":\"6f80f267-cb55-4868-8b15-7a659518af0e\",\"type\":\"ColumnDataSource\"}},\"id\":\"1358e85d-792e-4c4a-8c17-3df41a9547d2\",\"type\":\"CDSView\"},{\"attributes\":{\"data_source\":{\"id\":\"61826b24-405f-476e-b3a5-cca479ba2672\",\"type\":\"ColumnDataSource\"},\"glyph\":{\"id\":\"aa1e4825-b2b8-4cbd-8733-787aef231b6e\",\"type\":\"Square\"},\"hover_glyph\":null,\"muted_glyph\":null,\"nonselection_glyph\":{\"id\":\"8485f01b-f92e-4819-b085-1dc7073f21b1\",\"type\":\"Square\"},\"selection_glyph\":null,\"view\":{\"id\":\"6f69d6b1-74f6-454b-877a-297327587e3a\",\"type\":\"CDSView\"}},\"id\":\"cc5b4e5e-2c56-46fa-a563-f4efd7645c8d\",\"type\":\"GlyphRenderer\"},{\"attributes\":{},\"id\":\"807b41a8-65af-49f1-b714-f575203e5589\",\"type\":\"HelpTool\"},{\"attributes\":{\"below\":[{\"id\":\"fc4bbe4e-946f-470a-87f6-f7e7d866adf4\",\"type\":\"LinearAxis\"}],\"left\":[{\"id\":\"189f3a34-b3be-4716-856e-4fb25b92089d\",\"type\":\"LogAxis\"}],\"plot_width\":950,\"renderers\":[{\"id\":\"fc4bbe4e-946f-470a-87f6-f7e7d866adf4\",\"type\":\"LinearAxis\"},{\"id\":\"3513b2b1-91ce-40ee-be5d-767b5ef1955f\",\"type\":\"Grid\"},{\"id\":\"189f3a34-b3be-4716-856e-4fb25b92089d\",\"type\":\"LogAxis\"},{\"id\":\"d16e8f5b-e451-4164-9b7f-6a68d14d2e20\",\"type\":\"Grid\"},{\"id\":\"ea61c70a-57f4-4183-96f9-061e9103144b\",\"type\":\"BoxAnnotation\"},{\"id\":\"1f302ec0-3b5d-432c-bd66-9290e7d64056\",\"type\":\"Legend\"},{\"id\":\"fb3133e2-33c2-4f0f-92bd-fe4c95fed733\",\"type\":\"GlyphRenderer\"},{\"id\":\"cc5b4e5e-2c56-46fa-a563-f4efd7645c8d\",\"type\":\"GlyphRenderer\"},{\"id\":\"c53991bb-3bf3-4528-95e9-21a5e0b42953\",\"type\":\"GlyphRenderer\"}],\"title\":{\"id\":\"7d5e1bdd-72e0-4a81-b71a-eac4871b5dac\",\"type\":\"Title\"},\"toolbar\":{\"id\":\"1cf47b1f-1d45-4da3-8409-3932d4a4bb28\",\"type\":\"Toolbar\"},\"x_range\":{\"id\":\"365723c6-2c67-4f36-b693-fed26e68a1ac\",\"type\":\"DataRange1d\"},\"x_scale\":{\"id\":\"962175e8-db28-4e3c-9704-137716942faa\",\"type\":\"LinearScale\"},\"y_range\":{\"id\":\"a22c2462-b2b0-412a-8910-48f82d2118f6\",\"type\":\"DataRange1d\"},\"y_scale\":{\"id\":\"916b7c0e-6e9e-4cd9-a04a-f92ce5f1ffce\",\"type\":\"LogScale\"}},\"id\":\"1f414df0-226a-4532-8b78-c7c9f9d7e33f\",\"subtype\":\"Figure\",\"type\":\"Plot\"},{\"attributes\":{\"callback\":null},\"id\":\"365723c6-2c67-4f36-b693-fed26e68a1ac\",\"type\":\"DataRange1d\"},{\"attributes\":{\"num_minor_ticks\":10},\"id\":\"02625b17-b604-4a66-9d0f-0fef37bc7966\",\"type\":\"LogTicker\"},{\"attributes\":{\"fill_color\":{\"value\":\"green\"},\"line_color\":{\"value\":\"#1f77b4\"},\"x\":{\"field\":\"x\"},\"y\":{\"field\":\"y\"}},\"id\":\"aa1e4825-b2b8-4cbd-8733-787aef231b6e\",\"type\":\"Square\"},{\"attributes\":{\"data_source\":{\"id\":\"6f80f267-cb55-4868-8b15-7a659518af0e\",\"type\":\"ColumnDataSource\"},\"glyph\":{\"id\":\"f0b65aff-3d94-4ab1-8694-bad400ca9f1c\",\"type\":\"Circle\"},\"hover_glyph\":null,\"muted_glyph\":null,\"nonselection_glyph\":{\"id\":\"4924f7d2-2731-4b3e-9546-2b8b28902a77\",\"type\":\"Circle\"},\"selection_glyph\":null,\"view\":{\"id\":\"1358e85d-792e-4c4a-8c17-3df41a9547d2\",\"type\":\"CDSView\"}},\"id\":\"fb3133e2-33c2-4f0f-92bd-fe4c95fed733\",\"type\":\"GlyphRenderer\"},{\"attributes\":{},\"id\":\"32be3947-de0e-4770-8e24-c6d48519014b\",\"type\":\"BasicTicker\"},{\"attributes\":{},\"id\":\"9ebe0a73-2d7f-425e-b814-b09ec058ee74\",\"type\":\"UnionRenderers\"},{\"attributes\":{},\"id\":\"ed925f1f-cf41-4a11-9adb-7f9a3822a347\",\"type\":\"UnionRenderers\"},{\"attributes\":{},\"id\":\"b5503879-0a71-4781-a6b2-bc6ac95d62b7\",\"type\":\"Selection\"},{\"attributes\":{\"plot\":{\"id\":\"1f414df0-226a-4532-8b78-c7c9f9d7e33f\",\"subtype\":\"Figure\",\"type\":\"Plot\"},\"ticker\":{\"id\":\"32be3947-de0e-4770-8e24-c6d48519014b\",\"type\":\"BasicTicker\"}},\"id\":\"3513b2b1-91ce-40ee-be5d-767b5ef1955f\",\"type\":\"Grid\"},{\"attributes\":{},\"id\":\"d043927a-8e96-403c-9fce-355dc121050b\",\"type\":\"UnionRenderers\"},{\"attributes\":{\"fill_alpha\":{\"value\":0.1},\"fill_color\":{\"value\":\"#1f77b4\"},\"line_alpha\":{\"value\":0.1},\"line_color\":{\"value\":\"#1f77b4\"},\"x\":{\"field\":\"x\"},\"y\":{\"field\":\"y\"}},\"id\":\"8485f01b-f92e-4819-b085-1dc7073f21b1\",\"type\":\"Square\"},{\"attributes\":{\"fill_color\":{\"value\":\"blue\"},\"line_color\":{\"value\":\"#1f77b4\"},\"x\":{\"field\":\"x\"},\"y\":{\"field\":\"y\"}},\"id\":\"f0b65aff-3d94-4ab1-8694-bad400ca9f1c\",\"type\":\"Circle\"},{\"attributes\":{},\"id\":\"59367e78-c25e-4cfd-a538-55cceab09faf\",\"type\":\"Selection\"},{\"attributes\":{\"label\":{\"value\":\"585mTorr\"},\"renderers\":[{\"id\":\"c53991bb-3bf3-4528-95e9-21a5e0b42953\",\"type\":\"GlyphRenderer\"}]},\"id\":\"5da2d5b9-c602-4174-9242-65c5e655d98e\",\"type\":\"LegendItem\"},{\"attributes\":{\"callback\":null,\"data\":{\"x\":{\"__ndarray__\":\"AAAAAACgbsAAAAAAAABuwAAAAAAAYG3AAAAAAADAbMAAAAAAACBswAAAAAAAgGvAAAAAAADgasAAAAAAAEBqwAAAAAAAoGnAAAAAAAAAacAAAAAAAGBowAAAAAAAwGfAAAAAAAAgZ8AAAAAAAIBmwAAAAAAA4GXAAAAAAABAZcAAAAAAAKBkwAAAAAAAAGTAAAAAAABgY8AAAAAAAMBiwAAAAAAAIGLAAAAAAACAYcAAAAAAAOBgwAAAAAAAQGDAAAAAAABAX8AAAAAAAABewAAAAAAAwFzAAAAAAACAW8AAAAAAAEBawAAAAAAAAFnAAAAAAABAb8AAAAAAACBvwAAAAAAAAG/AAAAAAADgbsAAAAAAAMBuwAAAAAAAoG7AAAAAAACAbsAAAAAAAGBuwAAAAAAAQG7AAAAAAAAgbsAAAAAAAABuwAAAAAAA4G3AAAAAAADAbcAAAAAAAKBtwAAAAAAAgG3AAAAAAABgbcAAAAAAAEBtwAAAAAAAIG3AAAAAAAAAbcAAAAAAAOBswAAAAAAAwGzAAAAAAACgbMAAAAAAAIBswAAAAAAAYGzAAAAAAABAbMAAAAAAACBswAAAAAAAAGzAAAAAAADga8AAAAAAAMBrwAAAAAAAoGvAAAAAAACAa8AAAAAAAGBrwAAAAAAAQGvAAAAAAAAga8AAAAAAAABrwAAAAAAA4GrAAAAAAADAasAAAAAAAKBqwAAAAAAAgGrAAAAAAABgasAAAAAAAEBqwAAAAAAAIGrAAAAAAAAAasAAAAAAAOBpwAAAAAAAwGnAAAAAAACgacAAAAAAAIBpwAAAAAAAYGnAAAAAAABAacAAAAAAACBpwAAAAAAAAGnAAAAAAADgaMAAAAAAAMBowAAAAAAAoGjAAAAAAACAaMAAAAAAAGBowAAAAAAAQGjAAAAAAAAgaMAAAAAAAABowAAAAAAA4GfAAAAAAADAZ8AAAAAAAKBnwAAAAAAAgGfAAAAAAABgZ8AAAAAAAEBnwAAAAAAAIGfAAAAAAAAAZ8AAAAAAAOBmwAAAAAAAwGbAAAAAAACgZsAAAAAAAIBmwAAAAAAAYGbAAAAAAABAZsAAAAAAACBmwAAAAAAAAGbAAAAAAADgZcAAAAAAAMBlwAAAAAAAoGXAAAAAAACAZcAAAAAAAGBlwAAAAAAAQGXAAAAAAAAgZcAAAAAAAABlwAAAAAAA4GTAAAAAAADAZMAAAAAAAKBkwAAAAAAAgGTAAAAAAABgZMAAAAAAAEBkwAAAAAAAIGTAAAAAAAAAZMAAAAAAAOBjwAAAAAAAwGPAAAAAAACgY8AAAAAAAIBjwAAAAAAAYGPAAAAAAABAY8AAAAAAACBjwAAAAAAAAGPAAAAAAADgYsAAAAAAAMBiwAAAAAAAoGLAAAAAAACAYsAAAAAAAGBiwAAAAAAAQGLAAAAAAAAgYsAAAAAAAABiwAAAAAAA4GHAAAAAAADAYcAAAAAAAKBhwAAAAAAAgGHAAAAAAABgYcAAAAAAAEBhwAAAAAAAIGHAAAAAAAAAYcAAAAAAAOBgwAAAAAAAwGDAAAAAAACgYMAAAAAAAIBgwAAAAAAAYGDAAAAAAABAYMAAAAAAACBgwAAAAAAAAGDAAAAAAADAX8AAAAAAAIBfwAAAAAAAQF/AAAAAAAAAX8AAAAAAAMBewAAAAAAAgF7AAAAAAABAXsAAAAAAAABewAAAAAAAwF3AAAAAAACAXcAAAAAAAEBdwAAAAAAAAF3AAAAAAADAXMAAAAAAAIBcwAAAAAAAQFzAAAAAAAAAXMAAAAAAAMBbwAAAAAAAgFvAAAAAAABAW8AAAAAAAABbwAAAAAAAwFrAAAAAAACAWsAAAAAAAEBawAAAAAAAAFrAAAAAAADAWcAAAAAAAIBZwAAAAAAAQFnAAAAAAAAAWcA=\",\"dtype\":\"float64\",\"shape\":[181]},\"y\":{\"__ndarray__\":\"73HHF8Ry0b6a392I9srPvrFJhjX4b8y+l/GlphO/yL5kOAH6O+PEvlwrLWURccC+IStsxJtOtb64omGxRUtwvkQSL+JKXKg+JkoId+O0wj6vbw50QFTSPo2zbUGE8t0+XxllR/R85z4vdIC7R5HwPoa6Wc2EcPY+Iw9EFmni/T4K1Ac3vpsDP7JdRlYjYAk/JhDAF3DgDz8W/aGZJ9cUPx8NTBNb5hk/RMU4fxMKIT9/n3HhQEgmP2sqi8Iuii4/xa2CGOjaNz/Cvp1EhH9BP0Sn591YUEg/51JcVfZdUT+5GW7A54dRP7kZbsDnh1E/VwyRsskK074mSgh347TSvlQBtSCtlNK+aVedrINJ0r44lRRxnfPRvtob34vtvdG+qVlWUAdo0b6Q+JEyFD3RvtMFJ2i00dC+dYzxggSc0L7+sfd/YTvQvp84wpqxBdC+9U033ImKz74HmUPWQ8nOvnRSqSORx82+hp21HUsGzb5uPPH/V9vMvpjowRcFRcy+qjPOEb+Dy74X7TNfDILKvrZoIug/1sm+VOQQcXMqyb7a/jrcs1PIvgSrC/Rgvce+LlfcCw4nx74P4F/K4Q/GviErbMSbTsW+j+TREelMxL4tYMCaHKHDvvaHfzv9XsK+e6Kppj2Iwb51jPGCBJzAvsSLrqCjNL++SK+8mvLXur4KwcMXmqm4vs3SypRBe7a+grhhynZ0sr6qM84Rv4OrvgtwGe5eGaS+RwBnxC1of746jDDijnllPjnd2gvKCYo+VJNmRzialD6BCQz0sQSXPiA0UFOqyKE+KsMy4nQloT6hpOuC9CasPn1IG+7zfbA+IStsxJtOtT6Q2+2C2tK3PvJf//mmfrg+JhDAF3Dgvz4ZHpgvcdzAPs3SypRBe8Y+8l//+aZ+yD4MuN+Iiy/MPo3ttaD3xtA+toXGl3lA0z6xZirlMdrVPvJf//mmftg+6jWHtUKi2j4Ag4uyCt3dPvVNN9yJit8+7mdnh6764j4CtO+CbzfkPhDqv1r3h+Q+5jOPsjSm5j72atuLw/ToPkivvJry1+o++2zTjtHw7D7CxHr+DwvwPgjTizW3nfE+FglcDT/u8T4K1Ac3vpvzPtT8QtmlV/Q+a065HXXP9T5S45RvbCz3Pom71c6Lbvg+fYaB+Aoc+j5kG11KAnn7PtTL3ghB/f0+nfQZqyi5/j7Q+krWl1sAP/qcu10vTQE/grhhynZ0Aj+lP+plyj0DPy1bkNIRZQQ/tXY2P1mMBT8wXAzUGGMGP6hB4mjYOQc/Rq5AmevZCD/V5M7xdikKP8qvehv21gs/PXpoxHGFDD+BiHn7GBgOPyYQwBdw4A8/htLNtLOeED/bI+U4AZcRP9L7xteeWRI/KE3eW+xREz/5kAHqFzYUPypOWl3zTxU/0OLW7mgtFj/N1aB5ShgXPyMnuP2XEBg/Edd7O9OVGT8GoidlUkMbP5XYtb3dkhw/bTfBN02fHT/VzFoKSPsfP/yp8dJNYiA/QrgCCvX0IT/S+8bXnlkiP6ta0lEOZiM/qU2c3O9QJD/uW60Tl+MlP32SO2wiMyc/DcnJxK2CKD92a5kMx/MpP3JRLSKKySs/tVII5BJHLj/Ey9O5opQwPy9uowG8BTI/mRBzSdV2Mz/M1CR4Qxo1P6AZxAd2/Dc/Gvm84qlHOj+5bHTOT3E8P2sqi8Iuij4/vCakNQadQD/MY83IIHdBP5J4eTpXlEI/M/lmmxvTQz+5isVvCitFPxHjNa/qrEY/OPWB5J1DST8rpz0l58ROP3L+JhQi4FA/RMU4fxMKUT9ExTh/EwpRPxWMSuoENFE/FYxK6gQ0UT8VjErqBDRRPxWMSuoENFE/FYxK6gQ0UT8VjErqBDRRPxWMSuoENFE/FYxK6gQ0UT8VjErqBDRRPxWMSuoENFE/FYxK6gQ0UT8=\",\"dtype\":\"float64\",\"shape\":[181]}},\"selected\":{\"id\":\"b5503879-0a71-4781-a6b2-bc6ac95d62b7\",\"type\":\"Selection\"},\"selection_policy\":{\"id\":\"9ebe0a73-2d7f-425e-b814-b09ec058ee74\",\"type\":\"UnionRenderers\"}},\"id\":\"6f80f267-cb55-4868-8b15-7a659518af0e\",\"type\":\"ColumnDataSource\"},{\"attributes\":{\"data_source\":{\"id\":\"b226661b-487b-4e45-831e-91cdf722cdba\",\"type\":\"ColumnDataSource\"},\"glyph\":{\"id\":\"ebb4c2cd-63f2-4205-a44b-920e2cb39ea9\",\"type\":\"Triangle\"},\"hover_glyph\":null,\"muted_glyph\":null,\"nonselection_glyph\":{\"id\":\"bdba06b1-4e29-4723-992e-57102b6490bd\",\"type\":\"Triangle\"},\"selection_glyph\":null,\"view\":{\"id\":\"3ce08516-ce41-40ec-882b-fd3643b49965\",\"type\":\"CDSView\"}},\"id\":\"c53991bb-3bf3-4528-95e9-21a5e0b42953\",\"type\":\"GlyphRenderer\"}],\"root_ids\":[\"1f414df0-226a-4532-8b78-c7c9f9d7e33f\"]},\"title\":\"Bokeh Application\",\"version\":\"0.12.16\"}};\n",
       "  var render_items = [{\"docid\":\"319ac863-281b-4797-a6e9-0e95f5d51a6b\",\"elementid\":\"7d2f6845-45ae-4c70-9589-c3f666f339ef\",\"modelid\":\"1f414df0-226a-4532-8b78-c7c9f9d7e33f\"}];\n",
       "  root.Bokeh.embed.embed_items_notebook(docs_json, render_items);\n",
       "\n",
       "  }\n",
       "  if (root.Bokeh !== undefined) {\n",
       "    embed_document(root);\n",
       "  } else {\n",
       "    var attempts = 0;\n",
       "    var timer = setInterval(function(root) {\n",
       "      if (root.Bokeh !== undefined) {\n",
       "        embed_document(root);\n",
       "        clearInterval(timer);\n",
       "      }\n",
       "      attempts++;\n",
       "      if (attempts > 100) {\n",
       "        console.log(\"Bokeh: ERROR: Unable to run BokehJS code because BokehJS library is missing\")\n",
       "        clearInterval(timer);\n",
       "      }\n",
       "    }, 10, root)\n",
       "  }\n",
       "})(window);"
      ],
      "application/vnd.bokehjs_exec.v0+json": ""
     },
     "metadata": {
      "application/vnd.bokehjs_exec.v0+json": {
       "id": "1f414df0-226a-4532-8b78-c7c9f9d7e33f"
      }
     },
     "output_type": "display_data"
    }
   ],
   "source": [
    "#Now we can plot our graph.\n",
    "#This is mainly the same as above.\n",
    "\n",
    "#DON'T FORGET TO CHANGE THE TITLE IF YOU CHANGED THE DATA\n",
    "p = figure(title=\"~1000V\", x_axis_label='Voltage [V]', y_axis_label='logCurrent (log[A])', plot_width=950, plot_height=600, y_axis_type=\"log\")\n",
    "\n",
    "# REMEMBER TO UPDATE THE LEGEND ACCORDINGLY\n",
    "p.circle(xa, ya, fill_color=\"blue\", size=4, legend=\"340mTorr\")\n",
    "p.square(xb, yb, fill_color=\"green\", size=4, legend=\"592mTorr\")\n",
    "p.triangle(xc, yc, fill_color=\"red\", size=8, legend=\"585mTorr\")\n",
    "#p.diamond(xd, yd, fill_color=\"yellow\", size=8, legend=\"1500V\")\n",
    "\n",
    "p.legend.location = \"top_left\"\n",
    "\n",
    "show(p)"
   ]
  },
  {
   "cell_type": "code",
   "execution_count": 228,
   "metadata": {},
   "outputs": [],
   "source": [
    "#This is our setup for finding our curve fits for ion- and electron-dominated regions.\n",
    "ions = pd.read_csv(\"340mTorr Ions Only.csv\")\n",
    "electrons = pd.read_csv(\"340mTorr Electrons Only.csv\")\n",
    "#this deletes stored arrays so that we can redefine smaller ones if necessary.\n",
    "ye = []\n",
    "xe = []\n",
    "yi = []\n",
    "xe = []\n",
    "\n",
    "yidirty = ions.iloc[:,1].values\n",
    "yedirty = electrons.iloc[:,1].values\n",
    "xidirty = ions.iloc[:,0].values\n",
    "xedirty = electrons.iloc[:,0].values\n",
    "ye = [x for x in yedirty if str(x) != 'nan']\n",
    "xe = [x for x in xedirty if str(x) != 'nan']\n",
    "yi = [x for x in yidirty if str(x) != 'nan']\n",
    "xi = [x for x in xidirty if str(x) != 'nan']\n",
    "\n",
    "logi = np.zeros(len(xi))\n",
    "loge = np.zeros(len(xe))\n",
    "i=0\n",
    "while i < len(xi):\n",
    "    logi[i] = math.log(yi[i])\n",
    "    i += 1\n",
    "\n",
    "i=0\n",
    "while i < len(xe):\n",
    "    loge[i] = math.log(ye[i])\n",
    "    i += 1"
   ]
  },
  {
   "cell_type": "code",
   "execution_count": 229,
   "metadata": {},
   "outputs": [
    {
     "name": "stdout",
     "output_type": "stream",
     "text": [
      "Ions:\n"
     ]
    },
    {
     "data": {
      "text/plain": [
       "array([ 0.2357951 , 33.99766579])"
      ]
     },
     "execution_count": 229,
     "metadata": {},
     "output_type": "execute_result"
    }
   ],
   "source": [
    "#here we get the parameters for our curve fit for Ions.\n",
    "print(\"Ions:\")\n",
    "np.polyfit(xi, logi, 1, rcond=None, full=False, w=None, cov=False)"
   ]
  },
  {
   "cell_type": "code",
   "execution_count": 230,
   "metadata": {},
   "outputs": [
    {
     "name": "stdout",
     "output_type": "stream",
     "text": [
      "Electrons:\n"
     ]
    },
    {
     "data": {
      "text/plain": [
       "array([ 0.05167206, -1.71136101])"
      ]
     },
     "execution_count": 230,
     "metadata": {},
     "output_type": "execute_result"
    }
   ],
   "source": [
    "#and here we get parameters for Electrons.\n",
    "print(\"Electrons:\")\n",
    "np.polyfit(xe, loge, 1, rcond=None, full=False, w=None, cov=False)"
   ]
  },
  {
   "cell_type": "code",
   "execution_count": 231,
   "metadata": {},
   "outputs": [],
   "source": [
    "#Now we define arrays...\n",
    "emb = np.polyfit(xe, loge, 1)\n",
    "imb = np.polyfit(xi, logi, 1)"
   ]
  },
  {
   "cell_type": "code",
   "execution_count": 236,
   "metadata": {},
   "outputs": [],
   "source": [
    "#We want to define some arrays so that we can plot our lines. Since they're perfectly linear we just need 2 for each.\n",
    "fix = [-210,-200]\n",
    "fiy = [0,0]\n",
    "fex = [-180,-130]\n",
    "fey = [0,0]\n",
    "#we use e below because our graph takes the log of our y-axis\n",
    "i = 0\n",
    "while i < 2:\n",
    "    fiy[i] = math.e**(imb[0] * fix[i] + imb[1])\n",
    "    i += 1\n",
    "    \n",
    "i = 0\n",
    "while i < 2:\n",
    "    fey[i] = math.e**(emb[0] * fex[i] + emb[1])\n",
    "    i += 1"
   ]
  },
  {
   "cell_type": "code",
   "execution_count": 238,
   "metadata": {},
   "outputs": [
    {
     "data": {
      "text/html": [
       "\n",
       "<div class=\"bk-root\">\n",
       "    <div class=\"bk-plotdiv\" id=\"ae274425-6030-4b04-9c2b-3c97d4ad01e3\"></div>\n",
       "</div>"
      ]
     },
     "metadata": {},
     "output_type": "display_data"
    },
    {
     "data": {
      "application/javascript": [
       "(function(root) {\n",
       "  function embed_document(root) {\n",
       "    \n",
       "  var docs_json = {\"0d008386-9071-42cb-995f-c0a83a725a98\":{\"roots\":{\"references\":[{\"attributes\":{\"callback\":null,\"data\":{\"x\":[-210,-200],\"y\":[1.8199163560984663e-07,1.923519236936864e-06]},\"selected\":{\"id\":\"d9bb492d-a855-4a97-88f3-abd0dd22d659\",\"type\":\"Selection\"},\"selection_policy\":{\"id\":\"dac29d71-a67f-48d4-b246-632e84f80c2c\",\"type\":\"UnionRenderers\"}},\"id\":\"25359d7e-823b-42f6-a013-e3944eb92e97\",\"type\":\"ColumnDataSource\"},{\"attributes\":{},\"id\":\"568a84d9-e761-4cea-bc66-3e363641fdc6\",\"type\":\"BasicTicker\"},{\"attributes\":{\"label\":{\"value\":\"Ion-Dominated\"},\"renderers\":[{\"id\":\"fa9a07f7-9534-470f-b24b-2a65603d1c21\",\"type\":\"GlyphRenderer\"}]},\"id\":\"4c66ace1-f047-487e-9220-40af2fbb712f\",\"type\":\"LegendItem\"},{\"attributes\":{\"callback\":null,\"data\":{\"x\":[-209.0,-208.0,-207.0,-206.0,-205.0,-205.0,-204.0,-203.0,-202.0,-201.0,-200.0,-200.0],\"y\":[1.94e-07,3.07e-07,3.43e-07,5.3e-07,7.259999999999999e-07,5.110000000000001e-07,8.39e-07,9.83e-07,1.27e-06,1.42e-06,2.23e-06,1.46e-06]},\"selected\":{\"id\":\"bd88d7b9-0148-4cef-a59b-751ed00d6e84\",\"type\":\"Selection\"},\"selection_policy\":{\"id\":\"e187d49a-0829-4486-9c12-71683dbefaf6\",\"type\":\"UnionRenderers\"}},\"id\":\"7ec03525-b5ec-4661-bec0-93a5825b219e\",\"type\":\"ColumnDataSource\"},{\"attributes\":{\"fill_color\":{\"value\":\"white\"},\"line_color\":{\"value\":\"#1f77b4\"},\"size\":{\"units\":\"screen\",\"value\":8},\"x\":{\"field\":\"x\"},\"y\":{\"field\":\"y\"}},\"id\":\"62830ba6-485f-45e6-8f0b-d1ec4f01527d\",\"type\":\"Circle\"},{\"attributes\":{},\"id\":\"5ba61e67-ec11-4306-9722-9077c6dcee12\",\"type\":\"LinearScale\"},{\"attributes\":{\"line_alpha\":0.1,\"line_color\":\"#1f77b4\",\"x\":{\"field\":\"x\"},\"y\":{\"field\":\"y\"}},\"id\":\"4efcbbef-a2e1-448e-86f7-9159b36d3ea1\",\"type\":\"Line\"},{\"attributes\":{\"items\":[{\"id\":\"d0cdc940-afa4-4a9f-bf86-2a0725cca6fb\",\"type\":\"LegendItem\"},{\"id\":\"4c66ace1-f047-487e-9220-40af2fbb712f\",\"type\":\"LegendItem\"},{\"id\":\"9f738a67-6fb7-487a-ab21-e0f1d85947f4\",\"type\":\"LegendItem\"},{\"id\":\"d79d2cd1-89c7-4d35-abfe-155e7c9dc6cb\",\"type\":\"LegendItem\"}],\"plot\":{\"id\":\"31ccda9a-fecf-4b02-9a29-b1bcbe1bd4eb\",\"subtype\":\"Figure\",\"type\":\"Plot\"}},\"id\":\"992cf939-ffc2-4894-8b83-734df422283e\",\"type\":\"Legend\"},{\"attributes\":{\"label\":{\"value\":\"m=0.05167206, b=-1.71136101\"},\"renderers\":[{\"id\":\"cb891b44-11a7-4877-80b4-655751963012\",\"type\":\"GlyphRenderer\"}]},\"id\":\"9f738a67-6fb7-487a-ab21-e0f1d85947f4\",\"type\":\"LegendItem\"},{\"attributes\":{\"source\":{\"id\":\"25359d7e-823b-42f6-a013-e3944eb92e97\",\"type\":\"ColumnDataSource\"}},\"id\":\"0001b45f-ec84-4c0a-873e-8ad6ced3835c\",\"type\":\"CDSView\"},{\"attributes\":{\"label\":{\"value\":\"Electron-Dominated\"},\"renderers\":[{\"id\":\"c99ffa8e-036e-4e97-8df0-3dce40590103\",\"type\":\"GlyphRenderer\"}]},\"id\":\"d0cdc940-afa4-4a9f-bf86-2a0725cca6fb\",\"type\":\"LegendItem\"},{\"attributes\":{},\"id\":\"d9bb492d-a855-4a97-88f3-abd0dd22d659\",\"type\":\"Selection\"},{\"attributes\":{},\"id\":\"bd88d7b9-0148-4cef-a59b-751ed00d6e84\",\"type\":\"Selection\"},{\"attributes\":{\"num_minor_ticks\":10},\"id\":\"d1a5a41d-5a3b-47b5-b59b-6bdd559d170c\",\"type\":\"LogTicker\"},{\"attributes\":{\"below\":[{\"id\":\"b039acf6-7e24-487e-9382-e8346c331b7c\",\"type\":\"LinearAxis\"}],\"left\":[{\"id\":\"401c46f3-93c3-4eb8-931b-6c59d8033b5e\",\"type\":\"LogAxis\"}],\"plot_width\":950,\"renderers\":[{\"id\":\"b039acf6-7e24-487e-9382-e8346c331b7c\",\"type\":\"LinearAxis\"},{\"id\":\"bc5be844-774b-423f-84fc-c6fbd9841088\",\"type\":\"Grid\"},{\"id\":\"401c46f3-93c3-4eb8-931b-6c59d8033b5e\",\"type\":\"LogAxis\"},{\"id\":\"eb5d92be-988b-4cdd-b2ec-f25deb1a7ebb\",\"type\":\"Grid\"},{\"id\":\"6497af80-5ae2-4419-a112-444089cd1627\",\"type\":\"BoxAnnotation\"},{\"id\":\"992cf939-ffc2-4894-8b83-734df422283e\",\"type\":\"Legend\"},{\"id\":\"c99ffa8e-036e-4e97-8df0-3dce40590103\",\"type\":\"GlyphRenderer\"},{\"id\":\"fa9a07f7-9534-470f-b24b-2a65603d1c21\",\"type\":\"GlyphRenderer\"},{\"id\":\"cb891b44-11a7-4877-80b4-655751963012\",\"type\":\"GlyphRenderer\"},{\"id\":\"1cca9e98-2f0a-4475-8c39-c1be19ccc839\",\"type\":\"GlyphRenderer\"}],\"title\":{\"id\":\"7cec8165-a4f7-4e78-b29c-39f52f9b7069\",\"type\":\"Title\"},\"toolbar\":{\"id\":\"04ae7e96-a9c8-4ac5-8bb1-841159b47d72\",\"type\":\"Toolbar\"},\"x_range\":{\"id\":\"bbb19206-62bc-4f89-b8df-7dae8dadba91\",\"type\":\"DataRange1d\"},\"x_scale\":{\"id\":\"5ba61e67-ec11-4306-9722-9077c6dcee12\",\"type\":\"LinearScale\"},\"y_range\":{\"id\":\"4cf24b22-50cb-4434-9e62-cf1d1b9b0894\",\"type\":\"DataRange1d\"},\"y_scale\":{\"id\":\"7024fe69-5296-490b-b1a3-a594032a1366\",\"type\":\"LogScale\"}},\"id\":\"31ccda9a-fecf-4b02-9a29-b1bcbe1bd4eb\",\"subtype\":\"Figure\",\"type\":\"Plot\"},{\"attributes\":{},\"id\":\"7f379f85-6057-409e-b5f4-e4b8380092c2\",\"type\":\"Selection\"},{\"attributes\":{},\"id\":\"92bace29-8d3b-43fa-a59f-0a235d27e251\",\"type\":\"WheelZoomTool\"},{\"attributes\":{\"source\":{\"id\":\"7ec03525-b5ec-4661-bec0-93a5825b219e\",\"type\":\"ColumnDataSource\"}},\"id\":\"d0efa303-c23d-4337-a685-5602946db46b\",\"type\":\"CDSView\"},{\"attributes\":{\"data_source\":{\"id\":\"ee89cad8-7f86-4b1e-9b10-a40534c8df16\",\"type\":\"ColumnDataSource\"},\"glyph\":{\"id\":\"62830ba6-485f-45e6-8f0b-d1ec4f01527d\",\"type\":\"Circle\"},\"hover_glyph\":null,\"muted_glyph\":null,\"nonselection_glyph\":{\"id\":\"7c772ed0-1260-4452-ae1d-4540e2c74000\",\"type\":\"Circle\"},\"selection_glyph\":null,\"view\":{\"id\":\"389711f2-d3cb-43ad-a658-4e6a6d3502e9\",\"type\":\"CDSView\"}},\"id\":\"c99ffa8e-036e-4e97-8df0-3dce40590103\",\"type\":\"GlyphRenderer\"},{\"attributes\":{\"fill_alpha\":{\"value\":0.1},\"fill_color\":{\"value\":\"#1f77b4\"},\"line_alpha\":{\"value\":0.1},\"line_color\":{\"value\":\"#1f77b4\"},\"size\":{\"units\":\"screen\",\"value\":8},\"x\":{\"field\":\"x\"},\"y\":{\"field\":\"y\"}},\"id\":\"7c772ed0-1260-4452-ae1d-4540e2c74000\",\"type\":\"Circle\"},{\"attributes\":{},\"id\":\"ec9a8401-46bc-470a-a7a5-40f3d6efc769\",\"type\":\"UnionRenderers\"},{\"attributes\":{\"axis_label\":\"logCurrent (log[A])\",\"formatter\":{\"id\":\"1afd0861-a1c7-42cb-8052-f2ef7ba363ef\",\"type\":\"LogTickFormatter\"},\"plot\":{\"id\":\"31ccda9a-fecf-4b02-9a29-b1bcbe1bd4eb\",\"subtype\":\"Figure\",\"type\":\"Plot\"},\"ticker\":{\"id\":\"d1a5a41d-5a3b-47b5-b59b-6bdd559d170c\",\"type\":\"LogTicker\"}},\"id\":\"401c46f3-93c3-4eb8-931b-6c59d8033b5e\",\"type\":\"LogAxis\"},{\"attributes\":{\"line_color\":\"blue\",\"x\":{\"field\":\"x\"},\"y\":{\"field\":\"y\"}},\"id\":\"9dc24703-61a7-4c58-925a-fa8be300e59c\",\"type\":\"Line\"},{\"attributes\":{\"source\":{\"id\":\"4db66bcf-be73-4071-ba61-4100ff57bb64\",\"type\":\"ColumnDataSource\"}},\"id\":\"f56421b8-b2ce-429e-ae4f-7ebf80e6a829\",\"type\":\"CDSView\"},{\"attributes\":{},\"id\":\"9b2e2c2d-1f01-4961-b3b5-f27519d52b2e\",\"type\":\"HelpTool\"},{\"attributes\":{},\"id\":\"8901b3b8-15a9-4e01-ac1a-478f56726c6d\",\"type\":\"BasicTickFormatter\"},{\"attributes\":{\"axis_label\":\"Voltage [V]\",\"formatter\":{\"id\":\"8901b3b8-15a9-4e01-ac1a-478f56726c6d\",\"type\":\"BasicTickFormatter\"},\"plot\":{\"id\":\"31ccda9a-fecf-4b02-9a29-b1bcbe1bd4eb\",\"subtype\":\"Figure\",\"type\":\"Plot\"},\"ticker\":{\"id\":\"568a84d9-e761-4cea-bc66-3e363641fdc6\",\"type\":\"BasicTicker\"}},\"id\":\"b039acf6-7e24-487e-9382-e8346c331b7c\",\"type\":\"LinearAxis\"},{\"attributes\":{},\"id\":\"dac29d71-a67f-48d4-b246-632e84f80c2c\",\"type\":\"UnionRenderers\"},{\"attributes\":{\"plot\":{\"id\":\"31ccda9a-fecf-4b02-9a29-b1bcbe1bd4eb\",\"subtype\":\"Figure\",\"type\":\"Plot\"},\"ticker\":{\"id\":\"568a84d9-e761-4cea-bc66-3e363641fdc6\",\"type\":\"BasicTicker\"}},\"id\":\"bc5be844-774b-423f-84fc-c6fbd9841088\",\"type\":\"Grid\"},{\"attributes\":{\"fill_alpha\":{\"value\":0.1},\"fill_color\":{\"value\":\"#1f77b4\"},\"line_alpha\":{\"value\":0.1},\"line_color\":{\"value\":\"#1f77b4\"},\"size\":{\"units\":\"screen\",\"value\":8},\"x\":{\"field\":\"x\"},\"y\":{\"field\":\"y\"}},\"id\":\"a17350dc-97e9-4155-b5c8-fda7cca8d93a\",\"type\":\"Square\"},{\"attributes\":{\"callback\":null,\"data\":{\"x\":[-180,-130],\"y\":[1.649700741843683e-05,0.0002184991069653159]},\"selected\":{\"id\":\"a3399495-4f29-47a5-8d10-ecbf501b3ecb\",\"type\":\"Selection\"},\"selection_policy\":{\"id\":\"0d1c6c39-276c-420e-9d13-37177d11b846\",\"type\":\"UnionRenderers\"}},\"id\":\"4db66bcf-be73-4071-ba61-4100ff57bb64\",\"type\":\"ColumnDataSource\"},{\"attributes\":{\"data_source\":{\"id\":\"25359d7e-823b-42f6-a013-e3944eb92e97\",\"type\":\"ColumnDataSource\"},\"glyph\":{\"id\":\"c0152bd5-44ba-4331-8c7f-19d903567a63\",\"type\":\"Line\"},\"hover_glyph\":null,\"muted_glyph\":null,\"nonselection_glyph\":{\"id\":\"4efcbbef-a2e1-448e-86f7-9159b36d3ea1\",\"type\":\"Line\"},\"selection_glyph\":null,\"view\":{\"id\":\"0001b45f-ec84-4c0a-873e-8ad6ced3835c\",\"type\":\"CDSView\"}},\"id\":\"1cca9e98-2f0a-4475-8c39-c1be19ccc839\",\"type\":\"GlyphRenderer\"},{\"attributes\":{\"fill_color\":{\"value\":\"orange\"},\"line_color\":{\"value\":\"#1f77b4\"},\"size\":{\"units\":\"screen\",\"value\":8},\"x\":{\"field\":\"x\"},\"y\":{\"field\":\"y\"}},\"id\":\"633b99a6-6c90-4fe5-b49b-12a2e28aa2ab\",\"type\":\"Square\"},{\"attributes\":{\"overlay\":{\"id\":\"6497af80-5ae2-4419-a112-444089cd1627\",\"type\":\"BoxAnnotation\"}},\"id\":\"7d046b70-cf9d-4be1-9e75-04c3762cc93e\",\"type\":\"BoxZoomTool\"},{\"attributes\":{},\"id\":\"73de5702-5713-4692-9d00-430bc3388477\",\"type\":\"PanTool\"},{\"attributes\":{\"label\":{\"value\":\"m=0.2357951, b=33.99766579\"},\"renderers\":[{\"id\":\"1cca9e98-2f0a-4475-8c39-c1be19ccc839\",\"type\":\"GlyphRenderer\"}]},\"id\":\"d79d2cd1-89c7-4d35-abfe-155e7c9dc6cb\",\"type\":\"LegendItem\"},{\"attributes\":{\"dimension\":1,\"plot\":{\"id\":\"31ccda9a-fecf-4b02-9a29-b1bcbe1bd4eb\",\"subtype\":\"Figure\",\"type\":\"Plot\"},\"ticker\":{\"id\":\"d1a5a41d-5a3b-47b5-b59b-6bdd559d170c\",\"type\":\"LogTicker\"}},\"id\":\"eb5d92be-988b-4cdd-b2ec-f25deb1a7ebb\",\"type\":\"Grid\"},{\"attributes\":{\"callback\":null,\"data\":{\"x\":[-179.0,-178.0,-177.0,-176.0,-175.0,-175.0,-174.0,-173.0,-172.0,-171.0,-170.0,-170.0,-169.0,-168.0,-167.0,-166.0,-165.0,-165.0,-164.0,-163.0,-162.0,-161.0,-160.0,-160.0,-159.0,-158.0,-157.0,-156.0,-155.0,-155.0,-154.0,-153.0,-152.0,-151.0,-150.0,-150.0,-149.0,-148.0,-147.0,-146.0,-145.0,-145.0,-144.0,-143.0,-142.0,-141.0,-140.0,-140.0,-139.0,-138.0,-137.0,-136.0,-135.0,-135.0,-134.0,-133.0,-132.0,-131.0,-130.0,-130.0],\"y\":[1.6800000000000002e-05,1.7100000000000002e-05,1.87e-05,1.9399999999999997e-05,2.14e-05,2.08e-05,2.2100000000000002e-05,2.33e-05,2.49e-05,2.62e-05,2.8499999999999998e-05,2.8600000000000004e-05,2.9299999999999997e-05,3.12e-05,3.3e-05,3.52e-05,3.74e-05,3.6700000000000004e-05,3.8900000000000004e-05,4.11e-05,4.270000000000001e-05,4.429999999999999e-05,4.84e-05,4.74e-05,4.99e-05,5.31e-05,5.44e-05,5.739999999999999e-05,6.08e-05,6.08e-05,6.34e-05,6.709999999999999e-05,7e-05,7.37e-05,7.950000000000001e-05,7.709999999999999e-05,8.13e-05,8.46e-05,8.809999999999999e-05,9.18e-05,9.88e-05,9.76e-05,0.00010400000000000001,0.000109,0.000113,0.000122,0.00013000000000000002,0.000125,0.00013700000000000002,0.00014,0.000148,0.000155,0.00016999999999999999,0.000167,0.000177,0.00018700000000000002,0.000198,0.000212,0.000233,0.000231]},\"selected\":{\"id\":\"7f379f85-6057-409e-b5f4-e4b8380092c2\",\"type\":\"Selection\"},\"selection_policy\":{\"id\":\"ec9a8401-46bc-470a-a7a5-40f3d6efc769\",\"type\":\"UnionRenderers\"}},\"id\":\"ee89cad8-7f86-4b1e-9b10-a40534c8df16\",\"type\":\"ColumnDataSource\"},{\"attributes\":{},\"id\":\"e187d49a-0829-4486-9c12-71683dbefaf6\",\"type\":\"UnionRenderers\"},{\"attributes\":{},\"id\":\"0d1c6c39-276c-420e-9d13-37177d11b846\",\"type\":\"UnionRenderers\"},{\"attributes\":{\"active_drag\":\"auto\",\"active_inspect\":\"auto\",\"active_scroll\":\"auto\",\"active_tap\":\"auto\",\"tools\":[{\"id\":\"73de5702-5713-4692-9d00-430bc3388477\",\"type\":\"PanTool\"},{\"id\":\"92bace29-8d3b-43fa-a59f-0a235d27e251\",\"type\":\"WheelZoomTool\"},{\"id\":\"7d046b70-cf9d-4be1-9e75-04c3762cc93e\",\"type\":\"BoxZoomTool\"},{\"id\":\"3f5128f4-a7e0-4ddb-9c58-2499d1566eb3\",\"type\":\"SaveTool\"},{\"id\":\"6ecbaf47-a6a4-44cb-99a6-9c70afe7c5a4\",\"type\":\"ResetTool\"},{\"id\":\"9b2e2c2d-1f01-4961-b3b5-f27519d52b2e\",\"type\":\"HelpTool\"}]},\"id\":\"04ae7e96-a9c8-4ac5-8bb1-841159b47d72\",\"type\":\"Toolbar\"},{\"attributes\":{},\"id\":\"3f5128f4-a7e0-4ddb-9c58-2499d1566eb3\",\"type\":\"SaveTool\"},{\"attributes\":{\"callback\":null},\"id\":\"bbb19206-62bc-4f89-b8df-7dae8dadba91\",\"type\":\"DataRange1d\"},{\"attributes\":{\"source\":{\"id\":\"ee89cad8-7f86-4b1e-9b10-a40534c8df16\",\"type\":\"ColumnDataSource\"}},\"id\":\"389711f2-d3cb-43ad-a658-4e6a6d3502e9\",\"type\":\"CDSView\"},{\"attributes\":{},\"id\":\"7024fe69-5296-490b-b1a3-a594032a1366\",\"type\":\"LogScale\"},{\"attributes\":{\"data_source\":{\"id\":\"4db66bcf-be73-4071-ba61-4100ff57bb64\",\"type\":\"ColumnDataSource\"},\"glyph\":{\"id\":\"9dc24703-61a7-4c58-925a-fa8be300e59c\",\"type\":\"Line\"},\"hover_glyph\":null,\"muted_glyph\":null,\"nonselection_glyph\":{\"id\":\"7ce48d32-dc55-45ef-a3d2-e7e7072f591c\",\"type\":\"Line\"},\"selection_glyph\":null,\"view\":{\"id\":\"f56421b8-b2ce-429e-ae4f-7ebf80e6a829\",\"type\":\"CDSView\"}},\"id\":\"cb891b44-11a7-4877-80b4-655751963012\",\"type\":\"GlyphRenderer\"},{\"attributes\":{\"ticker\":null},\"id\":\"1afd0861-a1c7-42cb-8052-f2ef7ba363ef\",\"type\":\"LogTickFormatter\"},{\"attributes\":{},\"id\":\"a3399495-4f29-47a5-8d10-ecbf501b3ecb\",\"type\":\"Selection\"},{\"attributes\":{\"plot\":null,\"text\":\"340 mTorr logY\"},\"id\":\"7cec8165-a4f7-4e78-b29c-39f52f9b7069\",\"type\":\"Title\"},{\"attributes\":{\"line_alpha\":0.1,\"line_color\":\"#1f77b4\",\"x\":{\"field\":\"x\"},\"y\":{\"field\":\"y\"}},\"id\":\"7ce48d32-dc55-45ef-a3d2-e7e7072f591c\",\"type\":\"Line\"},{\"attributes\":{\"line_color\":\"red\",\"x\":{\"field\":\"x\"},\"y\":{\"field\":\"y\"}},\"id\":\"c0152bd5-44ba-4331-8c7f-19d903567a63\",\"type\":\"Line\"},{\"attributes\":{\"data_source\":{\"id\":\"7ec03525-b5ec-4661-bec0-93a5825b219e\",\"type\":\"ColumnDataSource\"},\"glyph\":{\"id\":\"633b99a6-6c90-4fe5-b49b-12a2e28aa2ab\",\"type\":\"Square\"},\"hover_glyph\":null,\"muted_glyph\":null,\"nonselection_glyph\":{\"id\":\"a17350dc-97e9-4155-b5c8-fda7cca8d93a\",\"type\":\"Square\"},\"selection_glyph\":null,\"view\":{\"id\":\"d0efa303-c23d-4337-a685-5602946db46b\",\"type\":\"CDSView\"}},\"id\":\"fa9a07f7-9534-470f-b24b-2a65603d1c21\",\"type\":\"GlyphRenderer\"},{\"attributes\":{},\"id\":\"6ecbaf47-a6a4-44cb-99a6-9c70afe7c5a4\",\"type\":\"ResetTool\"},{\"attributes\":{\"bottom_units\":\"screen\",\"fill_alpha\":{\"value\":0.5},\"fill_color\":{\"value\":\"lightgrey\"},\"left_units\":\"screen\",\"level\":\"overlay\",\"line_alpha\":{\"value\":1.0},\"line_color\":{\"value\":\"black\"},\"line_dash\":[4,4],\"line_width\":{\"value\":2},\"plot\":null,\"render_mode\":\"css\",\"right_units\":\"screen\",\"top_units\":\"screen\"},\"id\":\"6497af80-5ae2-4419-a112-444089cd1627\",\"type\":\"BoxAnnotation\"},{\"attributes\":{\"callback\":null},\"id\":\"4cf24b22-50cb-4434-9e62-cf1d1b9b0894\",\"type\":\"DataRange1d\"}],\"root_ids\":[\"31ccda9a-fecf-4b02-9a29-b1bcbe1bd4eb\"]},\"title\":\"Bokeh Application\",\"version\":\"0.12.16\"}};\n",
       "  var render_items = [{\"docid\":\"0d008386-9071-42cb-995f-c0a83a725a98\",\"elementid\":\"ae274425-6030-4b04-9c2b-3c97d4ad01e3\",\"modelid\":\"31ccda9a-fecf-4b02-9a29-b1bcbe1bd4eb\"}];\n",
       "  root.Bokeh.embed.embed_items_notebook(docs_json, render_items);\n",
       "\n",
       "  }\n",
       "  if (root.Bokeh !== undefined) {\n",
       "    embed_document(root);\n",
       "  } else {\n",
       "    var attempts = 0;\n",
       "    var timer = setInterval(function(root) {\n",
       "      if (root.Bokeh !== undefined) {\n",
       "        embed_document(root);\n",
       "        clearInterval(timer);\n",
       "      }\n",
       "      attempts++;\n",
       "      if (attempts > 100) {\n",
       "        console.log(\"Bokeh: ERROR: Unable to run BokehJS code because BokehJS library is missing\")\n",
       "        clearInterval(timer);\n",
       "      }\n",
       "    }, 10, root)\n",
       "  }\n",
       "})(window);"
      ],
      "application/vnd.bokehjs_exec.v0+json": ""
     },
     "metadata": {
      "application/vnd.bokehjs_exec.v0+json": {
       "id": "31ccda9a-fecf-4b02-9a29-b1bcbe1bd4eb"
      }
     },
     "output_type": "display_data"
    }
   ],
   "source": [
    "#Plot with curve fits\n",
    "p = figure(title=\"340 mTorr logY\", x_axis_label='Voltage [V]', y_axis_label='logCurrent (log[A])', plot_width=950, plot_height=600, y_axis_type=\"log\")\n",
    "\n",
    "p.circle(xe, ye, fill_color=\"white\", size=8, legend=\"Electron-Dominated\")\n",
    "p.square(xi, yi, fill_color=\"orange\", size=8, legend=\"Ion-Dominated\")\n",
    "p.line(fex, fey, line_color=\"blue\", legend=\"m=0.05167206, b=-1.71136101\")\n",
    "p.line(fix, fiy, line_color=\"red\", legend=\"m=0.2357951, b=33.99766579\")\n",
    "\n",
    "show(p)"
   ]
  },
  {
   "cell_type": "code",
   "execution_count": 250,
   "metadata": {},
   "outputs": [
    {
     "data": {
      "text/html": [
       "\n",
       "<div class=\"bk-root\">\n",
       "    <div class=\"bk-plotdiv\" id=\"6299949c-d5f7-4a64-a5c9-3cb1e82ffda9\"></div>\n",
       "</div>"
      ]
     },
     "metadata": {},
     "output_type": "display_data"
    },
    {
     "data": {
      "application/javascript": [
       "(function(root) {\n",
       "  function embed_document(root) {\n",
       "    \n",
       "  var docs_json = {\"1bc90b6e-f111-402a-ac4d-8fa70a1accbf\":{\"roots\":{\"references\":[{\"attributes\":{\"fill_alpha\":{\"value\":0.1},\"fill_color\":{\"value\":\"#1f77b4\"},\"line_alpha\":{\"value\":0.1},\"line_color\":{\"value\":\"#1f77b4\"},\"size\":{\"units\":\"screen\",\"value\":8},\"x\":{\"field\":\"x\"},\"y\":{\"field\":\"y\"}},\"id\":\"c04f0a13-ad8e-4087-9b1f-b2504ac37525\",\"type\":\"Triangle\"},{\"attributes\":{\"label\":{\"value\":\"340mTorr\"},\"renderers\":[{\"id\":\"cde1ea52-ef82-465f-8bbe-54636bd9e730\",\"type\":\"GlyphRenderer\"}]},\"id\":\"f571038f-9bca-4ff3-b9d5-430186b9d9d7\",\"type\":\"LegendItem\"},{\"attributes\":{},\"id\":\"d30694c3-5e50-4a06-8fdd-e19b7216251a\",\"type\":\"LogScale\"},{\"attributes\":{\"axis_label\":\"logCurrent (log[A])\",\"formatter\":{\"id\":\"3854b438-977c-4253-a492-dfc20c996cdf\",\"type\":\"LogTickFormatter\"},\"plot\":{\"id\":\"f8390e92-7d68-4708-a3ba-8ee4269b9fff\",\"subtype\":\"Figure\",\"type\":\"Plot\"},\"ticker\":{\"id\":\"b8a9760a-a7a0-4030-929b-2093fbb3fc3f\",\"type\":\"LogTicker\"}},\"id\":\"cd9ae530-2751-4217-8879-6d0d714eca5f\",\"type\":\"LogAxis\"},{\"attributes\":{\"ticker\":null},\"id\":\"3854b438-977c-4253-a492-dfc20c996cdf\",\"type\":\"LogTickFormatter\"},{\"attributes\":{\"source\":{\"id\":\"d75d2edc-c3a8-43ae-a573-304492184f31\",\"type\":\"ColumnDataSource\"}},\"id\":\"2ba84240-2bab-41f0-b2f1-61000cee358f\",\"type\":\"CDSView\"},{\"attributes\":{},\"id\":\"b1ddc3d5-990c-49b0-9d3e-1255adbe4d77\",\"type\":\"SaveTool\"},{\"attributes\":{\"source\":{\"id\":\"81913893-46bb-462f-ab1e-ea120e6abb5d\",\"type\":\"ColumnDataSource\"}},\"id\":\"e80f9aac-dc09-4286-af81-0a19d0b8985a\",\"type\":\"CDSView\"},{\"attributes\":{},\"id\":\"8cc94297-2c4a-497a-b3cd-1fc9eb98c33d\",\"type\":\"Selection\"},{\"attributes\":{\"callback\":null,\"data\":{\"x\":{\"__ndarray__\":\"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\",\"dtype\":\"float64\",\"shape\":[869]},\"y\":{\"__ndarray__\":\"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\",\"dtype\":\"float64\",\"shape\":[869]}},\"selected\":{\"id\":\"6a19d451-cd7d-48ed-83df-aa1a4773e28b\",\"type\":\"Selection\"},\"selection_policy\":{\"id\":\"8efcb87e-29dd-4106-871b-e5e206b55482\",\"type\":\"UnionRenderers\"}},\"id\":\"0251b0a0-8dcd-4a1b-85ed-7542bc84dc13\",\"type\":\"ColumnDataSource\"},{\"attributes\":{\"fill_color\":{\"value\":\"green\"},\"line_color\":{\"value\":\"#1f77b4\"},\"x\":{\"field\":\"x\"},\"y\":{\"field\":\"y\"}},\"id\":\"d61490e0-f446-4873-8116-ea56f0b08a6f\",\"type\":\"Square\"},{\"attributes\":{\"label\":{\"value\":\"m=0.2357951, b=33.99766579\"},\"renderers\":[{\"id\":\"86dcb6bf-1830-49fb-8cea-55f7ead1a17a\",\"type\":\"GlyphRenderer\"}]},\"id\":\"4d01415f-8199-44fd-bd8f-6d47b534abb2\",\"type\":\"LegendItem\"},{\"attributes\":{\"data_source\":{\"id\":\"0251b0a0-8dcd-4a1b-85ed-7542bc84dc13\",\"type\":\"ColumnDataSource\"},\"glyph\":{\"id\":\"e797f08e-cdad-41f4-bac1-4ec06ea38990\",\"type\":\"Triangle\"},\"hover_glyph\":null,\"muted_glyph\":null,\"nonselection_glyph\":{\"id\":\"c04f0a13-ad8e-4087-9b1f-b2504ac37525\",\"type\":\"Triangle\"},\"selection_glyph\":null,\"view\":{\"id\":\"410aaf0f-507d-4f54-8bc9-eb5388384bb1\",\"type\":\"CDSView\"}},\"id\":\"dd096851-dec3-4091-8ffa-a6fdb2e7c28c\",\"type\":\"GlyphRenderer\"},{\"attributes\":{\"overlay\":{\"id\":\"c6367e47-700b-4e34-a3f1-a6c8b5efdd7e\",\"type\":\"BoxAnnotation\"}},\"id\":\"9555ccd5-9fd2-41c6-99aa-1316b2b59475\",\"type\":\"BoxZoomTool\"},{\"attributes\":{\"line_color\":\"red\",\"x\":{\"field\":\"x\"},\"y\":{\"field\":\"y\"}},\"id\":\"bbd25110-b7fc-4941-bff9-f4ab21911e5c\",\"type\":\"Line\"},{\"attributes\":{},\"id\":\"a0a870b6-ab7e-4388-9cb7-a07777374a75\",\"type\":\"HelpTool\"},{\"attributes\":{},\"id\":\"f643f88f-13e1-46b3-add9-da81cacf8692\",\"type\":\"Selection\"},{\"attributes\":{},\"id\":\"6a19d451-cd7d-48ed-83df-aa1a4773e28b\",\"type\":\"Selection\"},{\"attributes\":{},\"id\":\"a6a63ad0-7e87-4ecd-ac8c-8012f3993390\",\"type\":\"UnionRenderers\"},{\"attributes\":{\"dimension\":1,\"plot\":{\"id\":\"f8390e92-7d68-4708-a3ba-8ee4269b9fff\",\"subtype\":\"Figure\",\"type\":\"Plot\"},\"ticker\":{\"id\":\"b8a9760a-a7a0-4030-929b-2093fbb3fc3f\",\"type\":\"LogTicker\"}},\"id\":\"2518466e-ff31-4c57-a7de-5ed601f79581\",\"type\":\"Grid\"},{\"attributes\":{\"line_color\":\"yellow\",\"line_width\":2,\"x\":{\"field\":\"x\"},\"y\":{\"field\":\"y\"}},\"id\":\"e6fab619-8111-488b-b6f5-911ab7bfe493\",\"type\":\"Line\"},{\"attributes\":{\"num_minor_ticks\":10},\"id\":\"b8a9760a-a7a0-4030-929b-2093fbb3fc3f\",\"type\":\"LogTicker\"},{\"attributes\":{\"label\":{\"value\":\"m=0.05167206, b=-1.71136101\"},\"renderers\":[{\"id\":\"397d3cf8-cb03-4264-a36e-7baf23db720d\",\"type\":\"GlyphRenderer\"}]},\"id\":\"bda31837-61dd-4f18-a409-06081cec991b\",\"type\":\"LegendItem\"},{\"attributes\":{\"plot\":{\"id\":\"f8390e92-7d68-4708-a3ba-8ee4269b9fff\",\"subtype\":\"Figure\",\"type\":\"Plot\"},\"ticker\":{\"id\":\"68254746-8567-497a-95ff-f6f961dbf025\",\"type\":\"BasicTicker\"}},\"id\":\"f9cbd822-09ee-4b03-a28a-813137644fa6\",\"type\":\"Grid\"},{\"attributes\":{},\"id\":\"e99f3c78-9d28-4c11-a8e0-3267e241b1ce\",\"type\":\"Selection\"},{\"attributes\":{\"source\":{\"id\":\"09adbe1d-4e12-4bcb-9912-e695a54bea7c\",\"type\":\"ColumnDataSource\"}},\"id\":\"19878215-48aa-471f-b489-f9592af88b43\",\"type\":\"CDSView\"},{\"attributes\":{\"axis_label\":\"Voltage [V]\",\"formatter\":{\"id\":\"08bba15f-161c-4686-b4c7-66f6a3323b1c\",\"type\":\"BasicTickFormatter\"},\"plot\":{\"id\":\"f8390e92-7d68-4708-a3ba-8ee4269b9fff\",\"subtype\":\"Figure\",\"type\":\"Plot\"},\"ticker\":{\"id\":\"68254746-8567-497a-95ff-f6f961dbf025\",\"type\":\"BasicTicker\"}},\"id\":\"5dde289a-5b75-492f-b670-7b21615cd834\",\"type\":\"LinearAxis\"},{\"attributes\":{\"label\":{\"value\":\"592mTorr\"},\"renderers\":[{\"id\":\"4f53a39f-6c95-45d2-b9dd-347f459878b0\",\"type\":\"GlyphRenderer\"}]},\"id\":\"854f3009-2214-469a-8712-fed5bf600aa6\",\"type\":\"LegendItem\"},{\"attributes\":{},\"id\":\"acc27949-10cf-4d1b-bbf5-588be737cf5e\",\"type\":\"LinearScale\"},{\"attributes\":{\"line_alpha\":0.1,\"line_color\":\"#1f77b4\",\"x\":{\"field\":\"x\"},\"y\":{\"field\":\"y\"}},\"id\":\"5a25bd2c-f699-417f-b50b-ca8176c66a13\",\"type\":\"Line\"},{\"attributes\":{},\"id\":\"68254746-8567-497a-95ff-f6f961dbf025\",\"type\":\"BasicTicker\"},{\"attributes\":{},\"id\":\"4f41ada4-6066-41e0-85cf-9060620695b4\",\"type\":\"UnionRenderers\"},{\"attributes\":{},\"id\":\"8efcb87e-29dd-4106-871b-e5e206b55482\",\"type\":\"UnionRenderers\"},{\"attributes\":{\"callback\":null},\"id\":\"19eac58f-14b6-4e5a-8bec-7fce093eb1e9\",\"type\":\"DataRange1d\"},{\"attributes\":{\"callback\":null,\"data\":{\"x\":[-210,-200],\"y\":[1.8199163560984663e-07,1.923519236936864e-06]},\"selected\":{\"id\":\"f643f88f-13e1-46b3-add9-da81cacf8692\",\"type\":\"Selection\"},\"selection_policy\":{\"id\":\"4f41ada4-6066-41e0-85cf-9060620695b4\",\"type\":\"UnionRenderers\"}},\"id\":\"3a208429-54ba-4202-8fec-2a67eebad34b\",\"type\":\"ColumnDataSource\"},{\"attributes\":{\"data_source\":{\"id\":\"d75d2edc-c3a8-43ae-a573-304492184f31\",\"type\":\"ColumnDataSource\"},\"glyph\":{\"id\":\"d61490e0-f446-4873-8116-ea56f0b08a6f\",\"type\":\"Square\"},\"hover_glyph\":null,\"muted_glyph\":null,\"nonselection_glyph\":{\"id\":\"ae84cf54-9a1c-45c0-84ac-48a7b408c84f\",\"type\":\"Square\"},\"selection_glyph\":null,\"view\":{\"id\":\"2ba84240-2bab-41f0-b2f1-61000cee358f\",\"type\":\"CDSView\"}},\"id\":\"4f53a39f-6c95-45d2-b9dd-347f459878b0\",\"type\":\"GlyphRenderer\"},{\"attributes\":{\"plot\":null,\"text\":\"~1000V\"},\"id\":\"a91f415f-9332-410c-9afc-bb648bc9c583\",\"type\":\"Title\"},{\"attributes\":{\"line_alpha\":0.1,\"line_color\":\"#1f77b4\",\"line_width\":2,\"x\":{\"field\":\"x\"},\"y\":{\"field\":\"y\"}},\"id\":\"17f736e3-534e-455f-bd03-20e6b9a98c59\",\"type\":\"Line\"},{\"attributes\":{\"fill_color\":{\"value\":\"blue\"},\"line_color\":{\"value\":\"#1f77b4\"},\"x\":{\"field\":\"x\"},\"y\":{\"field\":\"y\"}},\"id\":\"da2b3857-2cd3-4bac-a579-e3bbf3833047\",\"type\":\"Circle\"},{\"attributes\":{\"fill_color\":{\"value\":\"red\"},\"line_color\":{\"value\":\"#1f77b4\"},\"size\":{\"units\":\"screen\",\"value\":8},\"x\":{\"field\":\"x\"},\"y\":{\"field\":\"y\"}},\"id\":\"e797f08e-cdad-41f4-bac1-4ec06ea38990\",\"type\":\"Triangle\"},{\"attributes\":{\"active_drag\":\"auto\",\"active_inspect\":\"auto\",\"active_scroll\":\"auto\",\"active_tap\":\"auto\",\"tools\":[{\"id\":\"09b4e92a-d99b-4de2-ab85-7f4f3ab32ee3\",\"type\":\"PanTool\"},{\"id\":\"a2770c86-781b-401c-9dbe-61933aa4ad6b\",\"type\":\"WheelZoomTool\"},{\"id\":\"9555ccd5-9fd2-41c6-99aa-1316b2b59475\",\"type\":\"BoxZoomTool\"},{\"id\":\"b1ddc3d5-990c-49b0-9d3e-1255adbe4d77\",\"type\":\"SaveTool\"},{\"id\":\"44d35fbf-ce59-4784-ab85-efe4e843cbba\",\"type\":\"ResetTool\"},{\"id\":\"a0a870b6-ab7e-4388-9cb7-a07777374a75\",\"type\":\"HelpTool\"}]},\"id\":\"c7006298-9ef4-4305-919f-b2c9285511fa\",\"type\":\"Toolbar\"},{\"attributes\":{\"label\":{\"value\":\"585mTorr\"},\"renderers\":[{\"id\":\"dd096851-dec3-4091-8ffa-a6fdb2e7c28c\",\"type\":\"GlyphRenderer\"}]},\"id\":\"b15a4eb2-768a-4350-8db6-6b46e44a88a3\",\"type\":\"LegendItem\"},{\"attributes\":{\"data_source\":{\"id\":\"81913893-46bb-462f-ab1e-ea120e6abb5d\",\"type\":\"ColumnDataSource\"},\"glyph\":{\"id\":\"e6fab619-8111-488b-b6f5-911ab7bfe493\",\"type\":\"Line\"},\"hover_glyph\":null,\"muted_glyph\":null,\"nonselection_glyph\":{\"id\":\"17f736e3-534e-455f-bd03-20e6b9a98c59\",\"type\":\"Line\"},\"selection_glyph\":null,\"view\":{\"id\":\"e80f9aac-dc09-4286-af81-0a19d0b8985a\",\"type\":\"CDSView\"}},\"id\":\"397d3cf8-cb03-4264-a36e-7baf23db720d\",\"type\":\"GlyphRenderer\"},{\"attributes\":{\"callback\":null},\"id\":\"df2bc623-e16c-4e38-96f8-a0973d7bbf87\",\"type\":\"DataRange1d\"},{\"attributes\":{\"data_source\":{\"id\":\"09adbe1d-4e12-4bcb-9912-e695a54bea7c\",\"type\":\"ColumnDataSource\"},\"glyph\":{\"id\":\"da2b3857-2cd3-4bac-a579-e3bbf3833047\",\"type\":\"Circle\"},\"hover_glyph\":null,\"muted_glyph\":null,\"nonselection_glyph\":{\"id\":\"bc3e56c1-c59e-4907-afe9-a44c442399b9\",\"type\":\"Circle\"},\"selection_glyph\":null,\"view\":{\"id\":\"19878215-48aa-471f-b489-f9592af88b43\",\"type\":\"CDSView\"}},\"id\":\"cde1ea52-ef82-465f-8bbe-54636bd9e730\",\"type\":\"GlyphRenderer\"},{\"attributes\":{},\"id\":\"055cfdaf-dbb8-45bf-bbd7-14361b0068f5\",\"type\":\"UnionRenderers\"},{\"attributes\":{\"below\":[{\"id\":\"5dde289a-5b75-492f-b670-7b21615cd834\",\"type\":\"LinearAxis\"}],\"left\":[{\"id\":\"cd9ae530-2751-4217-8879-6d0d714eca5f\",\"type\":\"LogAxis\"}],\"plot_width\":950,\"renderers\":[{\"id\":\"5dde289a-5b75-492f-b670-7b21615cd834\",\"type\":\"LinearAxis\"},{\"id\":\"f9cbd822-09ee-4b03-a28a-813137644fa6\",\"type\":\"Grid\"},{\"id\":\"cd9ae530-2751-4217-8879-6d0d714eca5f\",\"type\":\"LogAxis\"},{\"id\":\"2518466e-ff31-4c57-a7de-5ed601f79581\",\"type\":\"Grid\"},{\"id\":\"c6367e47-700b-4e34-a3f1-a6c8b5efdd7e\",\"type\":\"BoxAnnotation\"},{\"id\":\"c08c53f8-379c-4746-95bf-15e1caab1573\",\"type\":\"Legend\"},{\"id\":\"cde1ea52-ef82-465f-8bbe-54636bd9e730\",\"type\":\"GlyphRenderer\"},{\"id\":\"4f53a39f-6c95-45d2-b9dd-347f459878b0\",\"type\":\"GlyphRenderer\"},{\"id\":\"dd096851-dec3-4091-8ffa-a6fdb2e7c28c\",\"type\":\"GlyphRenderer\"},{\"id\":\"397d3cf8-cb03-4264-a36e-7baf23db720d\",\"type\":\"GlyphRenderer\"},{\"id\":\"86dcb6bf-1830-49fb-8cea-55f7ead1a17a\",\"type\":\"GlyphRenderer\"}],\"title\":{\"id\":\"a91f415f-9332-410c-9afc-bb648bc9c583\",\"type\":\"Title\"},\"toolbar\":{\"id\":\"c7006298-9ef4-4305-919f-b2c9285511fa\",\"type\":\"Toolbar\"},\"x_range\":{\"id\":\"df2bc623-e16c-4e38-96f8-a0973d7bbf87\",\"type\":\"DataRange1d\"},\"x_scale\":{\"id\":\"acc27949-10cf-4d1b-bbf5-588be737cf5e\",\"type\":\"LinearScale\"},\"y_range\":{\"id\":\"19eac58f-14b6-4e5a-8bec-7fce093eb1e9\",\"type\":\"DataRange1d\"},\"y_scale\":{\"id\":\"d30694c3-5e50-4a06-8fdd-e19b7216251a\",\"type\":\"LogScale\"}},\"id\":\"f8390e92-7d68-4708-a3ba-8ee4269b9fff\",\"subtype\":\"Figure\",\"type\":\"Plot\"},{\"attributes\":{},\"id\":\"25850db0-c4f6-4637-a63e-53d22c623298\",\"type\":\"Selection\"},{\"attributes\":{\"fill_alpha\":{\"value\":0.1},\"fill_color\":{\"value\":\"#1f77b4\"},\"line_alpha\":{\"value\":0.1},\"line_color\":{\"value\":\"#1f77b4\"},\"x\":{\"field\":\"x\"},\"y\":{\"field\":\"y\"}},\"id\":\"ae84cf54-9a1c-45c0-84ac-48a7b408c84f\",\"type\":\"Square\"},{\"attributes\":{\"callback\":null,\"data\":{\"x\":{\"__ndarray__\":\"AAAAAACgbsAAAAAAAABuwAAAAAAAYG3AAAAAAADAbMAAAAAAACBswAAAAAAAgGvAAAAAAADgasAAAAAAAEBqwAAAAAAAoGnAAAAAAAAAacAAAAAAAGBowAAAAAAAwGfAAAAAAAAgZ8AAAAAAAIBmwAAAAAAA4GXAAAAAAABAZcAAAAAAAKBkwAAAAAAAAGTAAAAAAABgY8AAAAAAAMBiwAAAAAAAIGLAAAAAAACAYcAAAAAAAOBgwAAAAAAAQGDAAAAAAABAX8AAAAAAAABewAAAAAAAwFzAAAAAAACAW8AAAAAAAEBawAAAAAAAAFnAAAAAAABAb8AAAAAAACBvwAAAAAAAAG/AAAAAAADgbsAAAAAAAMBuwAAAAAAAoG7AAAAAAACAbsAAAAAAAGBuwAAAAAAAQG7AAAAAAAAgbsAAAAAAAABuwAAAAAAA4G3AAAAAAADAbcAAAAAAAKBtwAAAAAAAgG3AAAAAAABgbcAAAAAAAEBtwAAAAAAAIG3AAAAAAAAAbcAAAAAAAOBswAAAAAAAwGzAAAAAAACgbMAAAAAAAIBswAAAAAAAYGzAAAAAAABAbMAAAAAAACBswAAAAAAAAGzAAAAAAADga8AAAAAAAMBrwAAAAAAAoGvAAAAAAACAa8AAAAAAAGBrwAAAAAAAQGvAAAAAAAAga8AAAAAAAABrwAAAAAAA4GrAAAAAAADAasAAAAAAAKBqwAAAAAAAgGrAAAAAAABgasAAAAAAAEBqwAAAAAAAIGrAAAAAAAAAasAAAAAAAOBpwAAAAAAAwGnAAAAAAACgacAAAAAAAIBpwAAAAAAAYGnAAAAAAABAacAAAAAAACBpwAAAAAAAAGnAAAAAAADgaMAAAAAAAMBowAAAAAAAoGjAAAAAAACAaMAAAAAAAGBowAAAAAAAQGjAAAAAAAAgaMAAAAAAAABowAAAAAAA4GfAAAAAAADAZ8AAAAAAAKBnwAAAAAAAgGfAAAAAAABgZ8AAAAAAAEBnwAAAAAAAIGfAAAAAAAAAZ8AAAAAAAOBmwAAAAAAAwGbAAAAAAACgZsAAAAAAAIBmwAAAAAAAYGbAAAAAAABAZsAAAAAAACBmwAAAAAAAAGbAAAAAAADgZcAAAAAAAMBlwAAAAAAAoGXAAAAAAACAZcAAAAAAAGBlwAAAAAAAQGXAAAAAAAAgZcAAAAAAAABlwAAAAAAA4GTAAAAAAADAZMAAAAAAAKBkwAAAAAAAgGTAAAAAAABgZMAAAAAAAEBkwAAAAAAAIGTAAAAAAAAAZMAAAAAAAOBjwAAAAAAAwGPAAAAAAACgY8AAAAAAAIBjwAAAAAAAYGPAAAAAAABAY8AAAAAAACBjwAAAAAAAAGPAAAAAAADgYsAAAAAAAMBiwAAAAAAAoGLAAAAAAACAYsAAAAAAAGBiwAAAAAAAQGLAAAAAAAAgYsAAAAAAAABiwAAAAAAA4GHAAAAAAADAYcAAAAAAAKBhwAAAAAAAgGHAAAAAAABgYcAAAAAAAEBhwAAAAAAAIGHAAAAAAAAAYcAAAAAAAOBgwAAAAAAAwGDAAAAAAACgYMAAAAAAAIBgwAAAAAAAYGDAAAAAAABAYMAAAAAAACBgwAAAAAAAAGDAAAAAAADAX8AAAAAAAIBfwAAAAAAAQF/AAAAAAAAAX8AAAAAAAMBewAAAAAAAgF7AAAAAAABAXsAAAAAAAABewAAAAAAAwF3AAAAAAACAXcAAAAAAAEBdwAAAAAAAAF3AAAAAAADAXMAAAAAAAIBcwAAAAAAAQFzAAAAAAAAAXMAAAAAAAMBbwAAAAAAAgFvAAAAAAABAW8AAAAAAAABbwAAAAAAAwFrAAAAAAACAWsAAAAAAAEBawAAAAAAAAFrAAAAAAADAWcAAAAAAAIBZwAAAAAAAQFnAAAAAAAAAWcA=\",\"dtype\":\"float64\",\"shape\":[181]},\"y\":{\"__ndarray__\":\"73HHF8Ry0b6a392I9srPvrFJhjX4b8y+l/GlphO/yL5kOAH6O+PEvlwrLWURccC+IStsxJtOtb64omGxRUtwvkQSL+JKXKg+JkoId+O0wj6vbw50QFTSPo2zbUGE8t0+XxllR/R85z4vdIC7R5HwPoa6Wc2EcPY+Iw9EFmni/T4K1Ac3vpsDP7JdRlYjYAk/JhDAF3DgDz8W/aGZJ9cUPx8NTBNb5hk/RMU4fxMKIT9/n3HhQEgmP2sqi8Iuii4/xa2CGOjaNz/Cvp1EhH9BP0Sn591YUEg/51JcVfZdUT+5GW7A54dRP7kZbsDnh1E/VwyRsskK074mSgh347TSvlQBtSCtlNK+aVedrINJ0r44lRRxnfPRvtob34vtvdG+qVlWUAdo0b6Q+JEyFD3RvtMFJ2i00dC+dYzxggSc0L7+sfd/YTvQvp84wpqxBdC+9U033ImKz74HmUPWQ8nOvnRSqSORx82+hp21HUsGzb5uPPH/V9vMvpjowRcFRcy+qjPOEb+Dy74X7TNfDILKvrZoIug/1sm+VOQQcXMqyb7a/jrcs1PIvgSrC/Rgvce+LlfcCw4nx74P4F/K4Q/GviErbMSbTsW+j+TREelMxL4tYMCaHKHDvvaHfzv9XsK+e6Kppj2Iwb51jPGCBJzAvsSLrqCjNL++SK+8mvLXur4KwcMXmqm4vs3SypRBe7a+grhhynZ0sr6qM84Rv4OrvgtwGe5eGaS+RwBnxC1of746jDDijnllPjnd2gvKCYo+VJNmRzialD6BCQz0sQSXPiA0UFOqyKE+KsMy4nQloT6hpOuC9CasPn1IG+7zfbA+IStsxJtOtT6Q2+2C2tK3PvJf//mmfrg+JhDAF3Dgvz4ZHpgvcdzAPs3SypRBe8Y+8l//+aZ+yD4MuN+Iiy/MPo3ttaD3xtA+toXGl3lA0z6xZirlMdrVPvJf//mmftg+6jWHtUKi2j4Ag4uyCt3dPvVNN9yJit8+7mdnh6764j4CtO+CbzfkPhDqv1r3h+Q+5jOPsjSm5j72atuLw/ToPkivvJry1+o++2zTjtHw7D7CxHr+DwvwPgjTizW3nfE+FglcDT/u8T4K1Ac3vpvzPtT8QtmlV/Q+a065HXXP9T5S45RvbCz3Pom71c6Lbvg+fYaB+Aoc+j5kG11KAnn7PtTL3ghB/f0+nfQZqyi5/j7Q+krWl1sAP/qcu10vTQE/grhhynZ0Aj+lP+plyj0DPy1bkNIRZQQ/tXY2P1mMBT8wXAzUGGMGP6hB4mjYOQc/Rq5AmevZCD/V5M7xdikKP8qvehv21gs/PXpoxHGFDD+BiHn7GBgOPyYQwBdw4A8/htLNtLOeED/bI+U4AZcRP9L7xteeWRI/KE3eW+xREz/5kAHqFzYUPypOWl3zTxU/0OLW7mgtFj/N1aB5ShgXPyMnuP2XEBg/Edd7O9OVGT8GoidlUkMbP5XYtb3dkhw/bTfBN02fHT/VzFoKSPsfP/yp8dJNYiA/QrgCCvX0IT/S+8bXnlkiP6ta0lEOZiM/qU2c3O9QJD/uW60Tl+MlP32SO2wiMyc/DcnJxK2CKD92a5kMx/MpP3JRLSKKySs/tVII5BJHLj/Ey9O5opQwPy9uowG8BTI/mRBzSdV2Mz/M1CR4Qxo1P6AZxAd2/Dc/Gvm84qlHOj+5bHTOT3E8P2sqi8Iuij4/vCakNQadQD/MY83IIHdBP5J4eTpXlEI/M/lmmxvTQz+5isVvCitFPxHjNa/qrEY/OPWB5J1DST8rpz0l58ROP3L+JhQi4FA/RMU4fxMKUT9ExTh/EwpRPxWMSuoENFE/FYxK6gQ0UT8VjErqBDRRPxWMSuoENFE/FYxK6gQ0UT8VjErqBDRRPxWMSuoENFE/FYxK6gQ0UT8VjErqBDRRPxWMSuoENFE/FYxK6gQ0UT8=\",\"dtype\":\"float64\",\"shape\":[181]}},\"selected\":{\"id\":\"8cc94297-2c4a-497a-b3cd-1fc9eb98c33d\",\"type\":\"Selection\"},\"selection_policy\":{\"id\":\"a6a63ad0-7e87-4ecd-ac8c-8012f3993390\",\"type\":\"UnionRenderers\"}},\"id\":\"09adbe1d-4e12-4bcb-9912-e695a54bea7c\",\"type\":\"ColumnDataSource\"},{\"attributes\":{\"items\":[{\"id\":\"f571038f-9bca-4ff3-b9d5-430186b9d9d7\",\"type\":\"LegendItem\"},{\"id\":\"854f3009-2214-469a-8712-fed5bf600aa6\",\"type\":\"LegendItem\"},{\"id\":\"b15a4eb2-768a-4350-8db6-6b46e44a88a3\",\"type\":\"LegendItem\"},{\"id\":\"bda31837-61dd-4f18-a409-06081cec991b\",\"type\":\"LegendItem\"},{\"id\":\"4d01415f-8199-44fd-bd8f-6d47b534abb2\",\"type\":\"LegendItem\"}],\"location\":\"top_left\",\"plot\":{\"id\":\"f8390e92-7d68-4708-a3ba-8ee4269b9fff\",\"subtype\":\"Figure\",\"type\":\"Plot\"}},\"id\":\"c08c53f8-379c-4746-95bf-15e1caab1573\",\"type\":\"Legend\"},{\"attributes\":{\"callback\":null,\"data\":{\"x\":{\"__ndarray__\":\"AAAAAADQdcAAAAAAAMB1wAAAAAAAsHXAAAAAAACgdcAAAAAAAJB1wAAAAAAAgHXAAAAAAABwdcAAAAAAAGB1wAAAAAAAUHXAAAAAAABAdcAAAAAAADB1wAAAAAAAIHXAAAAAAAAQdcAAAAAAAAB1wAAAAAAA8HTAAAAAAADgdMAAAAAAANB0wAAAAAAAwHTAAAAAAACwdMAAAAAAAKB0wAAAAAAAkHTAAAAAAACAdMAAAAAAAHB0wAAAAAAAYHTAAAAAAABQdMAAAAAAAEB0wAAAAAAAMHTAAAAAAAAgdMAAAAAAABB0wAAAAAAAAHTAAAAAAADwc8AAAAAAAOBzwAAAAAAA0HPAAAAAAADAc8AAAAAAALBzwAAAAAAAoHPAAAAAAACQc8AAAAAAAIBzwAAAAAAAcHPAAAAAAABgc8AAAAAAAFBzwAAAAAAAQHPAAAAAAAAwc8AAAAAAACBzwAAAAAAAEHPAAAAAAAAAc8AAAAAAAPBywAAAAAAA4HLAAAAAAADQcsAAAAAAAMBywAAAAAAAsHLAAAAAAACgcsAAAAAAAJBywAAAAAAAgHLAAAAAAABwcsAAAAAAAGBywAAAAAAAUHLAAAAAAABAcsAAAAAAADBywAAAAAAAIHLAAAAAAAAQcsAAAAAAAABywAAAAAAA8HHAAAAAAADgccAAAAAAANBxwAAAAAAAwHHAAAAAAACwccAAAAAAAKBxwAAAAAAAkHHAAAAAAACAccAAAAAAAHBxwAAAAAAAYHHAAAAAAABQccAAAAAAAEBxwAAAAAAAMHHAAAAAAAAgccAAAAAAABBxwAAAAAAAAHHAAAAAAADwcMAAAAAAAOBwwAAAAAAA0HDAAAAAAADAcMAAAAAAALBwwAAAAAAAoHDAAAAAAACQcMAAAAAAAIBwwAAAAAAAcHDAAAAAAABgcMAAAAAAAFBwwAAAAAAAQHDAAAAAAAAwcMAAAAAAACBwwAAAAAAAEHDAAAAAAAAAcMAAAAAAAOBvwAAAAAAAwG/AAAAAAACgb8AAAAAAAIBvwAAAAAAAYG/AAAAAAABAb8AAAAAAACBvwAAAAAAAAG/AAAAAAADgbsAAAAAAAMBuwAAAAAAAoG7AAAAAAACAbsAAAAAAAGBuwAAAAAAAQG7AAAAAAAAgbsAAAAAAAABuwAAAAAAAIHfAAAAAAADQdsAAAAAAAIB2wAAAAAAAMHbAAAAAAADgdcAAAAAAAJB1wAAAAAAAQHXAAAAAAADwdMAAAAAAAKB0wAAAAAAAUHTAAAAAAAAAdMAAAAAAALBzwAAAAAAAYHPAAAAAAAAQc8AAAAAAAMBywAAAAAAAcHLAAAAAAAAgcsAAAAAAANBxwAAAAAAAgHHAAAAAAAAwccAAAAAAAOBwwAAAAAAAkHDAAAAAAABAcMAAAAAAAOBvwAAAAAAAQG/AAAAAAACgbsAAAAAAAABuwAAAAAAAYG3AAAAAAADAbMAAAAAAACBswAAAAAAAgGvAAAAAAADgasAAAAAAAEBqwA==\",\"dtype\":\"float64\",\"shape\":[143]},\"y\":{\"__ndarray__\":\"L3SAu0eR4D7fADPfwU/sPl0Y6UXtfvU+l/GlphO/+D76nLtdL00BPyhBJOjUOgY/dmuZDMfzCT/tNgO3SaAMPzJFFO7wMg4/eJz93CtOED8vdIC7R5EQP4TFlz+ViRE/72dnh676Ej/sWjESkOUTP/Fo44i1+BQ/IiY8/JASFj/HuriNBvAWP8vIagQsAxg/0dYce1EWGT/jGp/J/nkaP3JRLSKKyRs/Aoi7ehUZHT+PvknToGgePx/11yssuB8/1xUzwtuDID/6nLtdL00hPxwkRPmCFiI/ZD+LpUi+Ij9hMlUwKqkjP18lH7sLlCQ/p0BmZ9E7JT+kMzDysiYmP+xOd554ziY/6kFBKVq5Jz8NycnErYIoPy9QUmABTCk/Utfa+1QVKj9PyqSGNgArP029bhEY6ys/S7A4nPnVLD9tN8E3TZ8tP2sqi8Iuii4/aB1VTRB1Lz80iA/s+C8wP7KBdLFppTA/MXvZdtoaMT+dKt8zEqExPxwkRPmCFjI/iNNJtrqcMj/1gk9z8iIzP2EyVTAqqTM/zuFa7WEvND8oRwGiYMY0P5T2Bl+YTDU/AaYMHNDSNT9IwVPIlXo2P6Im+nyUETc//IugMZOoNz9W8UbmkT84P7BW7ZqQ1jg/CryTT49tOT92a5kMx/M5P72G4LiMmzo/GeyGbYsyOz9yUS0iisk7P8y209aIYDw/Jhx6i4f3PD9tN8E3TZ89P9nmxvSEJT4/NExtqYO8Pj+yRdJu9DE/P+gWuhKB6j8/KuPfZ1w4QD/OcAM+P4xAP4RIhhxbz0A/KNap8j0jQT/Cvp1EhH9BP2/x8J4Dy0E/Ctrk8EknQj/AsWfPZWpCP2Q/i6VIvkI/CM2ueysSQz+1/wHWql1DP2vXhLTGoEM/DmWoiqn0Qz+pTZzc71BEP18lH7sLlEQ/DFhyFYvfRD+nQGZn0TtFP1RzucFQh0U/9wDdlzPbRT+bjgBuFi9GPyzSxDvAk0Y/9fOmIhXGRj+Zgcr49xlHPzRqvko+dkc/smMjEK/rRz9NTBdi9UdIP/p+arx0k0g/zEV8J2a9SD9LP+Hs1jJJP/hxNEdWfkk/dmuZDMfzST8a+bziqUdKP72G4LiMm0o/T8qkhjYASz/zV8hcGVRLP3z2XKYmwUs/Ft9Q+GwdTD+5bHTOT3FMP1FQVRv/aXq+je21oPfGwD4jIog1jdTYPvZq24vD9Og+oib6fJQR9z7ZFq/D4oECP7p4LkJniAk/2Ravw+KBEj9GrkCZ69kYP9cVM8LbgyA/zNQkeEMaJT8KvJNPj20pP9nmxvSEJS4/wr6dRIR/MT/gK7r1mh40P9oEGJY/3zY/ZCE6BI4EOj/vPVxy3Ck9P9XMWgpI+z8/uRluwOeHQT8Iza57KxJDP18lH7sLlEQ/dvpBXaRQRj+8CFOUS+NHP+7MBMO5hkk/BqInZVJDSz/44ov2eCFNP/xtT5DY7k4//Knx0k1iUD8VjErqBDRRP7kZbsDnh1E/i+B/K9mxUT+L4H8r2bFRPw==\",\"dtype\":\"float64\",\"shape\":[143]}},\"selected\":{\"id\":\"e99f3c78-9d28-4c11-a8e0-3267e241b1ce\",\"type\":\"Selection\"},\"selection_policy\":{\"id\":\"055cfdaf-dbb8-45bf-bbd7-14361b0068f5\",\"type\":\"UnionRenderers\"}},\"id\":\"d75d2edc-c3a8-43ae-a573-304492184f31\",\"type\":\"ColumnDataSource\"},{\"attributes\":{},\"id\":\"522b03f3-63fc-41f5-99f6-6220cf37f1b1\",\"type\":\"UnionRenderers\"},{\"attributes\":{},\"id\":\"08bba15f-161c-4686-b4c7-66f6a3323b1c\",\"type\":\"BasicTickFormatter\"},{\"attributes\":{},\"id\":\"44d35fbf-ce59-4784-ab85-efe4e843cbba\",\"type\":\"ResetTool\"},{\"attributes\":{\"callback\":null,\"data\":{\"x\":[-180,-130],\"y\":[1.649700741843683e-05,0.0002184991069653159]},\"selected\":{\"id\":\"25850db0-c4f6-4637-a63e-53d22c623298\",\"type\":\"Selection\"},\"selection_policy\":{\"id\":\"522b03f3-63fc-41f5-99f6-6220cf37f1b1\",\"type\":\"UnionRenderers\"}},\"id\":\"81913893-46bb-462f-ab1e-ea120e6abb5d\",\"type\":\"ColumnDataSource\"},{\"attributes\":{},\"id\":\"09b4e92a-d99b-4de2-ab85-7f4f3ab32ee3\",\"type\":\"PanTool\"},{\"attributes\":{\"bottom_units\":\"screen\",\"fill_alpha\":{\"value\":0.5},\"fill_color\":{\"value\":\"lightgrey\"},\"left_units\":\"screen\",\"level\":\"overlay\",\"line_alpha\":{\"value\":1.0},\"line_color\":{\"value\":\"black\"},\"line_dash\":[4,4],\"line_width\":{\"value\":2},\"plot\":null,\"render_mode\":\"css\",\"right_units\":\"screen\",\"top_units\":\"screen\"},\"id\":\"c6367e47-700b-4e34-a3f1-a6c8b5efdd7e\",\"type\":\"BoxAnnotation\"},{\"attributes\":{\"data_source\":{\"id\":\"3a208429-54ba-4202-8fec-2a67eebad34b\",\"type\":\"ColumnDataSource\"},\"glyph\":{\"id\":\"bbd25110-b7fc-4941-bff9-f4ab21911e5c\",\"type\":\"Line\"},\"hover_glyph\":null,\"muted_glyph\":null,\"nonselection_glyph\":{\"id\":\"5a25bd2c-f699-417f-b50b-ca8176c66a13\",\"type\":\"Line\"},\"selection_glyph\":null,\"view\":{\"id\":\"0d420d27-9848-4b79-8d2f-53663c258de1\",\"type\":\"CDSView\"}},\"id\":\"86dcb6bf-1830-49fb-8cea-55f7ead1a17a\",\"type\":\"GlyphRenderer\"},{\"attributes\":{\"fill_alpha\":{\"value\":0.1},\"fill_color\":{\"value\":\"#1f77b4\"},\"line_alpha\":{\"value\":0.1},\"line_color\":{\"value\":\"#1f77b4\"},\"x\":{\"field\":\"x\"},\"y\":{\"field\":\"y\"}},\"id\":\"bc3e56c1-c59e-4907-afe9-a44c442399b9\",\"type\":\"Circle\"},{\"attributes\":{\"source\":{\"id\":\"3a208429-54ba-4202-8fec-2a67eebad34b\",\"type\":\"ColumnDataSource\"}},\"id\":\"0d420d27-9848-4b79-8d2f-53663c258de1\",\"type\":\"CDSView\"},{\"attributes\":{},\"id\":\"a2770c86-781b-401c-9dbe-61933aa4ad6b\",\"type\":\"WheelZoomTool\"},{\"attributes\":{\"source\":{\"id\":\"0251b0a0-8dcd-4a1b-85ed-7542bc84dc13\",\"type\":\"ColumnDataSource\"}},\"id\":\"410aaf0f-507d-4f54-8bc9-eb5388384bb1\",\"type\":\"CDSView\"}],\"root_ids\":[\"f8390e92-7d68-4708-a3ba-8ee4269b9fff\"]},\"title\":\"Bokeh Application\",\"version\":\"0.12.16\"}};\n",
       "  var render_items = [{\"docid\":\"1bc90b6e-f111-402a-ac4d-8fa70a1accbf\",\"elementid\":\"6299949c-d5f7-4a64-a5c9-3cb1e82ffda9\",\"modelid\":\"f8390e92-7d68-4708-a3ba-8ee4269b9fff\"}];\n",
       "  root.Bokeh.embed.embed_items_notebook(docs_json, render_items);\n",
       "\n",
       "  }\n",
       "  if (root.Bokeh !== undefined) {\n",
       "    embed_document(root);\n",
       "  } else {\n",
       "    var attempts = 0;\n",
       "    var timer = setInterval(function(root) {\n",
       "      if (root.Bokeh !== undefined) {\n",
       "        embed_document(root);\n",
       "        clearInterval(timer);\n",
       "      }\n",
       "      attempts++;\n",
       "      if (attempts > 100) {\n",
       "        console.log(\"Bokeh: ERROR: Unable to run BokehJS code because BokehJS library is missing\")\n",
       "        clearInterval(timer);\n",
       "      }\n",
       "    }, 10, root)\n",
       "  }\n",
       "})(window);"
      ],
      "application/vnd.bokehjs_exec.v0+json": ""
     },
     "metadata": {
      "application/vnd.bokehjs_exec.v0+json": {
       "id": "f8390e92-7d68-4708-a3ba-8ee4269b9fff"
      }
     },
     "output_type": "display_data"
    }
   ],
   "source": [
    "#Now we can plot our graph.\n",
    "#This is mainly the same as above.\n",
    "\n",
    "#DON'T FORGET TO CHANGE THE TITLE IF YOU CHANGED THE DATA\n",
    "p = figure(title=\"~1000V\", x_axis_label='Voltage [V]', y_axis_label='logCurrent (log[A])', plot_width=950, plot_height=600, y_axis_type=\"log\")\n",
    "\n",
    "# REMEMBER TO UPDATE THE LEGEND ACCORDINGLY\n",
    "p.circle(xa, ya, fill_color=\"blue\", size=4, legend=\"340mTorr\")\n",
    "p.square(xb, yb, fill_color=\"green\", size=4, legend=\"592mTorr\")\n",
    "p.triangle(xc, yc, fill_color=\"red\", size=8, legend=\"585mTorr\")\n",
    "#p.diamond(xd, yd, fill_color=\"yellow\", size=8, legend=\"1500V\")\n",
    "p.line(fex, fey, line_color=\"yellow\", legend=\"m=0.05167206, b=-1.71136101\", line_width=2)\n",
    "p.line(fix, fiy, line_color=\"red\", legend=\"m=0.2357951, b=33.99766579\")\n",
    "p.legend.location=\"top_left\"\n",
    "show(p)"
   ]
  },
  {
   "cell_type": "code",
   "execution_count": null,
   "metadata": {},
   "outputs": [],
   "source": []
  }
 ],
 "metadata": {
  "kernelspec": {
   "display_name": "Python 3",
   "language": "python",
   "name": "python3"
  },
  "language_info": {
   "codemirror_mode": {
    "name": "ipython",
    "version": 3
   },
   "file_extension": ".py",
   "mimetype": "text/x-python",
   "name": "python",
   "nbconvert_exporter": "python",
   "pygments_lexer": "ipython3",
   "version": "3.6.5"
  }
 },
 "nbformat": 4,
 "nbformat_minor": 2
}
