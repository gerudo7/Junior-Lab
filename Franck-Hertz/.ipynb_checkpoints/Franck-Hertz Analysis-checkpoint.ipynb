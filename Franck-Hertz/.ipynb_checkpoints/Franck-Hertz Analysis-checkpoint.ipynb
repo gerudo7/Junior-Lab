{
 "cells": [
  {
   "cell_type": "code",
   "execution_count": 2,
   "metadata": {},
   "outputs": [
    {
     "data": {
      "application/javascript": [
       "\n",
       "(function(root) {\n",
       "  function now() {\n",
       "    return new Date();\n",
       "  }\n",
       "\n",
       "  var force = true;\n",
       "\n",
       "  if (typeof (root._bokeh_onload_callbacks) === \"undefined\" || force === true) {\n",
       "    root._bokeh_onload_callbacks = [];\n",
       "    root._bokeh_is_loading = undefined;\n",
       "  }\n",
       "\n",
       "  var JS_MIME_TYPE = 'application/javascript';\n",
       "  var HTML_MIME_TYPE = 'text/html';\n",
       "  var EXEC_MIME_TYPE = 'application/vnd.bokehjs_exec.v0+json';\n",
       "  var CLASS_NAME = 'output_bokeh rendered_html';\n",
       "\n",
       "  /**\n",
       "   * Render data to the DOM node\n",
       "   */\n",
       "  function render(props, node) {\n",
       "    var script = document.createElement(\"script\");\n",
       "    node.appendChild(script);\n",
       "  }\n",
       "\n",
       "  /**\n",
       "   * Handle when an output is cleared or removed\n",
       "   */\n",
       "  function handleClearOutput(event, handle) {\n",
       "    var cell = handle.cell;\n",
       "\n",
       "    var id = cell.output_area._bokeh_element_id;\n",
       "    var server_id = cell.output_area._bokeh_server_id;\n",
       "    // Clean up Bokeh references\n",
       "    if (id !== undefined) {\n",
       "      Bokeh.index[id].model.document.clear();\n",
       "      delete Bokeh.index[id];\n",
       "    }\n",
       "\n",
       "    if (server_id !== undefined) {\n",
       "      // Clean up Bokeh references\n",
       "      var cmd = \"from bokeh.io.state import curstate; print(curstate().uuid_to_server['\" + server_id + \"'].get_sessions()[0].document.roots[0]._id)\";\n",
       "      cell.notebook.kernel.execute(cmd, {\n",
       "        iopub: {\n",
       "          output: function(msg) {\n",
       "            var element_id = msg.content.text.trim();\n",
       "            Bokeh.index[element_id].model.document.clear();\n",
       "            delete Bokeh.index[element_id];\n",
       "          }\n",
       "        }\n",
       "      });\n",
       "      // Destroy server and session\n",
       "      var cmd = \"import bokeh.io.notebook as ion; ion.destroy_server('\" + server_id + \"')\";\n",
       "      cell.notebook.kernel.execute(cmd);\n",
       "    }\n",
       "  }\n",
       "\n",
       "  /**\n",
       "   * Handle when a new output is added\n",
       "   */\n",
       "  function handleAddOutput(event, handle) {\n",
       "    var output_area = handle.output_area;\n",
       "    var output = handle.output;\n",
       "\n",
       "    // limit handleAddOutput to display_data with EXEC_MIME_TYPE content only\n",
       "    if ((output.output_type != \"display_data\") || (!output.data.hasOwnProperty(EXEC_MIME_TYPE))) {\n",
       "      return\n",
       "    }\n",
       "\n",
       "    var toinsert = output_area.element.find(\".\" + CLASS_NAME.split(' ')[0]);\n",
       "\n",
       "    if (output.metadata[EXEC_MIME_TYPE][\"id\"] !== undefined) {\n",
       "      toinsert[toinsert.length - 1].firstChild.textContent = output.data[JS_MIME_TYPE];\n",
       "      // store reference to embed id on output_area\n",
       "      output_area._bokeh_element_id = output.metadata[EXEC_MIME_TYPE][\"id\"];\n",
       "    }\n",
       "    if (output.metadata[EXEC_MIME_TYPE][\"server_id\"] !== undefined) {\n",
       "      var bk_div = document.createElement(\"div\");\n",
       "      bk_div.innerHTML = output.data[HTML_MIME_TYPE];\n",
       "      var script_attrs = bk_div.children[0].attributes;\n",
       "      for (var i = 0; i < script_attrs.length; i++) {\n",
       "        toinsert[toinsert.length - 1].firstChild.setAttribute(script_attrs[i].name, script_attrs[i].value);\n",
       "      }\n",
       "      // store reference to server id on output_area\n",
       "      output_area._bokeh_server_id = output.metadata[EXEC_MIME_TYPE][\"server_id\"];\n",
       "    }\n",
       "  }\n",
       "\n",
       "  function register_renderer(events, OutputArea) {\n",
       "\n",
       "    function append_mime(data, metadata, element) {\n",
       "      // create a DOM node to render to\n",
       "      var toinsert = this.create_output_subarea(\n",
       "        metadata,\n",
       "        CLASS_NAME,\n",
       "        EXEC_MIME_TYPE\n",
       "      );\n",
       "      this.keyboard_manager.register_events(toinsert);\n",
       "      // Render to node\n",
       "      var props = {data: data, metadata: metadata[EXEC_MIME_TYPE]};\n",
       "      render(props, toinsert[toinsert.length - 1]);\n",
       "      element.append(toinsert);\n",
       "      return toinsert\n",
       "    }\n",
       "\n",
       "    /* Handle when an output is cleared or removed */\n",
       "    events.on('clear_output.CodeCell', handleClearOutput);\n",
       "    events.on('delete.Cell', handleClearOutput);\n",
       "\n",
       "    /* Handle when a new output is added */\n",
       "    events.on('output_added.OutputArea', handleAddOutput);\n",
       "\n",
       "    /**\n",
       "     * Register the mime type and append_mime function with output_area\n",
       "     */\n",
       "    OutputArea.prototype.register_mime_type(EXEC_MIME_TYPE, append_mime, {\n",
       "      /* Is output safe? */\n",
       "      safe: true,\n",
       "      /* Index of renderer in `output_area.display_order` */\n",
       "      index: 0\n",
       "    });\n",
       "  }\n",
       "\n",
       "  // register the mime type if in Jupyter Notebook environment and previously unregistered\n",
       "  if (root.Jupyter !== undefined) {\n",
       "    var events = require('base/js/events');\n",
       "    var OutputArea = require('notebook/js/outputarea').OutputArea;\n",
       "\n",
       "    if (OutputArea.prototype.mime_types().indexOf(EXEC_MIME_TYPE) == -1) {\n",
       "      register_renderer(events, OutputArea);\n",
       "    }\n",
       "  }\n",
       "\n",
       "  \n",
       "  if (typeof (root._bokeh_timeout) === \"undefined\" || force === true) {\n",
       "    root._bokeh_timeout = Date.now() + 5000;\n",
       "    root._bokeh_failed_load = false;\n",
       "  }\n",
       "\n",
       "  var NB_LOAD_WARNING = {'data': {'text/html':\n",
       "     \"<div style='background-color: #fdd'>\\n\"+\n",
       "     \"<p>\\n\"+\n",
       "     \"BokehJS does not appear to have successfully loaded. If loading BokehJS from CDN, this \\n\"+\n",
       "     \"may be due to a slow or bad network connection. Possible fixes:\\n\"+\n",
       "     \"</p>\\n\"+\n",
       "     \"<ul>\\n\"+\n",
       "     \"<li>re-rerun `output_notebook()` to attempt to load from CDN again, or</li>\\n\"+\n",
       "     \"<li>use INLINE resources instead, as so:</li>\\n\"+\n",
       "     \"</ul>\\n\"+\n",
       "     \"<code>\\n\"+\n",
       "     \"from bokeh.resources import INLINE\\n\"+\n",
       "     \"output_notebook(resources=INLINE)\\n\"+\n",
       "     \"</code>\\n\"+\n",
       "     \"</div>\"}};\n",
       "\n",
       "  function display_loaded() {\n",
       "    var el = document.getElementById(null);\n",
       "    if (el != null) {\n",
       "      el.textContent = \"BokehJS is loading...\";\n",
       "    }\n",
       "    if (root.Bokeh !== undefined) {\n",
       "      if (el != null) {\n",
       "        el.textContent = \"BokehJS \" + root.Bokeh.version + \" successfully loaded.\";\n",
       "      }\n",
       "    } else if (Date.now() < root._bokeh_timeout) {\n",
       "      setTimeout(display_loaded, 100)\n",
       "    }\n",
       "  }\n",
       "\n",
       "\n",
       "  function run_callbacks() {\n",
       "    try {\n",
       "      root._bokeh_onload_callbacks.forEach(function(callback) { callback() });\n",
       "    }\n",
       "    finally {\n",
       "      delete root._bokeh_onload_callbacks\n",
       "    }\n",
       "    console.info(\"Bokeh: all callbacks have finished\");\n",
       "  }\n",
       "\n",
       "  function load_libs(js_urls, callback) {\n",
       "    root._bokeh_onload_callbacks.push(callback);\n",
       "    if (root._bokeh_is_loading > 0) {\n",
       "      console.log(\"Bokeh: BokehJS is being loaded, scheduling callback at\", now());\n",
       "      return null;\n",
       "    }\n",
       "    if (js_urls == null || js_urls.length === 0) {\n",
       "      run_callbacks();\n",
       "      return null;\n",
       "    }\n",
       "    console.log(\"Bokeh: BokehJS not loaded, scheduling load and callback at\", now());\n",
       "    root._bokeh_is_loading = js_urls.length;\n",
       "    for (var i = 0; i < js_urls.length; i++) {\n",
       "      var url = js_urls[i];\n",
       "      var s = document.createElement('script');\n",
       "      s.src = url;\n",
       "      s.async = false;\n",
       "      s.onreadystatechange = s.onload = function() {\n",
       "        root._bokeh_is_loading--;\n",
       "        if (root._bokeh_is_loading === 0) {\n",
       "          console.log(\"Bokeh: all BokehJS libraries loaded\");\n",
       "          run_callbacks()\n",
       "        }\n",
       "      };\n",
       "      s.onerror = function() {\n",
       "        console.warn(\"failed to load library \" + url);\n",
       "      };\n",
       "      console.log(\"Bokeh: injecting script tag for BokehJS library: \", url);\n",
       "      document.getElementsByTagName(\"head\")[0].appendChild(s);\n",
       "    }\n",
       "  };\n",
       "\n",
       "  var js_urls = [\"https://cdn.pydata.org/bokeh/release/bokeh-0.12.16.min.js\", \"https://cdn.pydata.org/bokeh/release/bokeh-widgets-0.12.16.min.js\", \"https://cdn.pydata.org/bokeh/release/bokeh-tables-0.12.16.min.js\", \"https://cdn.pydata.org/bokeh/release/bokeh-gl-0.12.16.min.js\"];\n",
       "\n",
       "  var inline_js = [\n",
       "    function(Bokeh) {\n",
       "      Bokeh.set_log_level(\"info\");\n",
       "    },\n",
       "    \n",
       "    function(Bokeh) {\n",
       "      \n",
       "    },\n",
       "    function(Bokeh) {\n",
       "      console.log(\"Bokeh: injecting CSS: https://cdn.pydata.org/bokeh/release/bokeh-0.12.16.min.css\");\n",
       "      Bokeh.embed.inject_css(\"https://cdn.pydata.org/bokeh/release/bokeh-0.12.16.min.css\");\n",
       "      console.log(\"Bokeh: injecting CSS: https://cdn.pydata.org/bokeh/release/bokeh-widgets-0.12.16.min.css\");\n",
       "      Bokeh.embed.inject_css(\"https://cdn.pydata.org/bokeh/release/bokeh-widgets-0.12.16.min.css\");\n",
       "      console.log(\"Bokeh: injecting CSS: https://cdn.pydata.org/bokeh/release/bokeh-tables-0.12.16.min.css\");\n",
       "      Bokeh.embed.inject_css(\"https://cdn.pydata.org/bokeh/release/bokeh-tables-0.12.16.min.css\");\n",
       "    }\n",
       "  ];\n",
       "\n",
       "  function run_inline_js() {\n",
       "    \n",
       "    if ((root.Bokeh !== undefined) || (force === true)) {\n",
       "      for (var i = 0; i < inline_js.length; i++) {\n",
       "        inline_js[i].call(root, root.Bokeh);\n",
       "      }} else if (Date.now() < root._bokeh_timeout) {\n",
       "      setTimeout(run_inline_js, 100);\n",
       "    } else if (!root._bokeh_failed_load) {\n",
       "      console.log(\"Bokeh: BokehJS failed to load within specified timeout.\");\n",
       "      root._bokeh_failed_load = true;\n",
       "    } else if (force !== true) {\n",
       "      var cell = $(document.getElementById(null)).parents('.cell').data().cell;\n",
       "      cell.output_area.append_execute_result(NB_LOAD_WARNING)\n",
       "    }\n",
       "\n",
       "  }\n",
       "\n",
       "  if (root._bokeh_is_loading === 0) {\n",
       "    console.log(\"Bokeh: BokehJS loaded, going straight to plotting\");\n",
       "    run_inline_js();\n",
       "  } else {\n",
       "    load_libs(js_urls, function() {\n",
       "      console.log(\"Bokeh: BokehJS plotting callback run at\", now());\n",
       "      run_inline_js();\n",
       "    });\n",
       "  }\n",
       "}(window));"
      ],
      "application/vnd.bokehjs_load.v0+json": "\n(function(root) {\n  function now() {\n    return new Date();\n  }\n\n  var force = true;\n\n  if (typeof (root._bokeh_onload_callbacks) === \"undefined\" || force === true) {\n    root._bokeh_onload_callbacks = [];\n    root._bokeh_is_loading = undefined;\n  }\n\n  \n\n  \n  if (typeof (root._bokeh_timeout) === \"undefined\" || force === true) {\n    root._bokeh_timeout = Date.now() + 5000;\n    root._bokeh_failed_load = false;\n  }\n\n  var NB_LOAD_WARNING = {'data': {'text/html':\n     \"<div style='background-color: #fdd'>\\n\"+\n     \"<p>\\n\"+\n     \"BokehJS does not appear to have successfully loaded. If loading BokehJS from CDN, this \\n\"+\n     \"may be due to a slow or bad network connection. Possible fixes:\\n\"+\n     \"</p>\\n\"+\n     \"<ul>\\n\"+\n     \"<li>re-rerun `output_notebook()` to attempt to load from CDN again, or</li>\\n\"+\n     \"<li>use INLINE resources instead, as so:</li>\\n\"+\n     \"</ul>\\n\"+\n     \"<code>\\n\"+\n     \"from bokeh.resources import INLINE\\n\"+\n     \"output_notebook(resources=INLINE)\\n\"+\n     \"</code>\\n\"+\n     \"</div>\"}};\n\n  function display_loaded() {\n    var el = document.getElementById(null);\n    if (el != null) {\n      el.textContent = \"BokehJS is loading...\";\n    }\n    if (root.Bokeh !== undefined) {\n      if (el != null) {\n        el.textContent = \"BokehJS \" + root.Bokeh.version + \" successfully loaded.\";\n      }\n    } else if (Date.now() < root._bokeh_timeout) {\n      setTimeout(display_loaded, 100)\n    }\n  }\n\n\n  function run_callbacks() {\n    try {\n      root._bokeh_onload_callbacks.forEach(function(callback) { callback() });\n    }\n    finally {\n      delete root._bokeh_onload_callbacks\n    }\n    console.info(\"Bokeh: all callbacks have finished\");\n  }\n\n  function load_libs(js_urls, callback) {\n    root._bokeh_onload_callbacks.push(callback);\n    if (root._bokeh_is_loading > 0) {\n      console.log(\"Bokeh: BokehJS is being loaded, scheduling callback at\", now());\n      return null;\n    }\n    if (js_urls == null || js_urls.length === 0) {\n      run_callbacks();\n      return null;\n    }\n    console.log(\"Bokeh: BokehJS not loaded, scheduling load and callback at\", now());\n    root._bokeh_is_loading = js_urls.length;\n    for (var i = 0; i < js_urls.length; i++) {\n      var url = js_urls[i];\n      var s = document.createElement('script');\n      s.src = url;\n      s.async = false;\n      s.onreadystatechange = s.onload = function() {\n        root._bokeh_is_loading--;\n        if (root._bokeh_is_loading === 0) {\n          console.log(\"Bokeh: all BokehJS libraries loaded\");\n          run_callbacks()\n        }\n      };\n      s.onerror = function() {\n        console.warn(\"failed to load library \" + url);\n      };\n      console.log(\"Bokeh: injecting script tag for BokehJS library: \", url);\n      document.getElementsByTagName(\"head\")[0].appendChild(s);\n    }\n  };\n\n  var js_urls = [\"https://cdn.pydata.org/bokeh/release/bokeh-0.12.16.min.js\", \"https://cdn.pydata.org/bokeh/release/bokeh-widgets-0.12.16.min.js\", \"https://cdn.pydata.org/bokeh/release/bokeh-tables-0.12.16.min.js\", \"https://cdn.pydata.org/bokeh/release/bokeh-gl-0.12.16.min.js\"];\n\n  var inline_js = [\n    function(Bokeh) {\n      Bokeh.set_log_level(\"info\");\n    },\n    \n    function(Bokeh) {\n      \n    },\n    function(Bokeh) {\n      console.log(\"Bokeh: injecting CSS: https://cdn.pydata.org/bokeh/release/bokeh-0.12.16.min.css\");\n      Bokeh.embed.inject_css(\"https://cdn.pydata.org/bokeh/release/bokeh-0.12.16.min.css\");\n      console.log(\"Bokeh: injecting CSS: https://cdn.pydata.org/bokeh/release/bokeh-widgets-0.12.16.min.css\");\n      Bokeh.embed.inject_css(\"https://cdn.pydata.org/bokeh/release/bokeh-widgets-0.12.16.min.css\");\n      console.log(\"Bokeh: injecting CSS: https://cdn.pydata.org/bokeh/release/bokeh-tables-0.12.16.min.css\");\n      Bokeh.embed.inject_css(\"https://cdn.pydata.org/bokeh/release/bokeh-tables-0.12.16.min.css\");\n    }\n  ];\n\n  function run_inline_js() {\n    \n    if ((root.Bokeh !== undefined) || (force === true)) {\n      for (var i = 0; i < inline_js.length; i++) {\n        inline_js[i].call(root, root.Bokeh);\n      }} else if (Date.now() < root._bokeh_timeout) {\n      setTimeout(run_inline_js, 100);\n    } else if (!root._bokeh_failed_load) {\n      console.log(\"Bokeh: BokehJS failed to load within specified timeout.\");\n      root._bokeh_failed_load = true;\n    } else if (force !== true) {\n      var cell = $(document.getElementById(null)).parents('.cell').data().cell;\n      cell.output_area.append_execute_result(NB_LOAD_WARNING)\n    }\n\n  }\n\n  if (root._bokeh_is_loading === 0) {\n    console.log(\"Bokeh: BokehJS loaded, going straight to plotting\");\n    run_inline_js();\n  } else {\n    load_libs(js_urls, function() {\n      console.log(\"Bokeh: BokehJS plotting callback run at\", now());\n      run_inline_js();\n    });\n  }\n}(window));"
     },
     "metadata": {},
     "output_type": "display_data"
    }
   ],
   "source": [
    "#import!\n",
    "import pandas\n",
    "import numpy\n",
    "import scipy.constants\n",
    "from scipy import optimize\n",
    "from bokeh.plotting import figure, output_notebook, show\n",
    "import matplotlib\n",
    "\n",
    "output_notebook(hide_banner=True)"
   ]
  },
  {
   "cell_type": "code",
   "execution_count": 3,
   "metadata": {},
   "outputs": [],
   "source": [
    "#pull and define data\n",
    "\n",
    "raw = pandas.read_csv('Data\\Data (Week 2).csv')\n",
    "\n",
    "V = raw.iloc[:,0].values\n",
    "I_433 = raw.iloc[:,1].values\n",
    "I_447 = raw.iloc[:,2].values\n",
    "I_462 = raw.iloc[:,3].values\n",
    "I_476 = raw.iloc[:,4].values\n",
    "E = raw.iloc[:,5].values"
   ]
  },
  {
   "cell_type": "code",
   "execution_count": 4,
   "metadata": {},
   "outputs": [],
   "source": [
    "#flip current data to conventional current\n",
    "\n",
    "CI_433 = numpy.zeros(len(V));\n",
    "CI_447 = numpy.zeros(len(V));\n",
    "CI_462 = numpy.zeros(len(V));\n",
    "CI_476 = numpy.zeros(len(V));\n",
    "\n",
    "i=0;\n",
    "while i<len(V):\n",
    "    CI_433[i] = -I_433[i];\n",
    "    CI_447[i] = -I_447[i];\n",
    "    CI_462[i] = -I_462[i];\n",
    "    CI_476[i] = -I_476[i];\n",
    "    i+=1;"
   ]
  },
  {
   "cell_type": "code",
   "execution_count": null,
   "metadata": {},
   "outputs": [],
   "source": [
    "#plot!\n",
    "\n",
    "p=figure(title=\"Current vs Energy\", x_axis_label='Energy (eV)', y_axis_label='Current (A)', y_range=(0,0.0000001))\n",
    "\n",
    "p.circle(V, CI_433, line_color=\"white\", size=4, legend='433K')\n",
    "#p.triangle(V, CI_447, line_color=\"blue\", fill_color=\"blue\", size=3, legend='447K')\n",
    "#p.square(V, CI_462, line_color=\"green\", fill_color=\"green\", size=1, legend='462K')\n",
    "p.square_cross(V, CI_476, line_color=\"orange\", fill_color=\"orange\", size=1, legend='476K')\n",
    "\n",
    "p.legend.location='top_left'\n",
    "show(p)"
   ]
  },
  {
   "cell_type": "code",
   "execution_count": 5,
   "metadata": {},
   "outputs": [],
   "source": [
    "#set up finding the slope for minima vs n\n",
    "\n",
    "n3 = [3,4,5,6,7,8]\n",
    "n36 = [3,4,5,6]\n",
    "n5 = [5,6,7,8]\n",
    "\n",
    "M433 = [14.10,19.14,24.19,29.31]\n",
    "M447 = [14.01,19.03,24.08,29.08,34.13,39.13]\n",
    "M462 = [14.11,19.13,24.03,28.94,33.92,38.87]\n",
    "M476 = [24.26,29.33,34.19,39.01]"
   ]
  },
  {
   "cell_type": "code",
   "execution_count": null,
   "metadata": {},
   "outputs": [],
   "source": [
    "#plot!\n",
    "\n",
    "p=figure(title=\"Energy vs Number of Collisions\", x_axis_label='Number of Collisions', y_axis_label='Energy (eV)')\n",
    "\n",
    "p.circle(n36, M433, line_color=\"white\", size=5, legend='433K')\n",
    "p.triangle(n3, M447, line_color=\"blue\", fill_color=\"blue\", size=5, legend='447K')\n",
    "p.square(n3, M462, line_color=\"green\", fill_color=\"green\", size=5, legend='462K')\n",
    "p.square_cross(n5, M476, line_color=\"orange\", fill_color=\"orange\", size=5, legend='476K')\n",
    "\n",
    "p.legend.location='top_left'\n",
    "show(p)"
   ]
  },
  {
   "cell_type": "code",
   "execution_count": 6,
   "metadata": {},
   "outputs": [
    {
     "name": "stdout",
     "output_type": "stream",
     "text": [
      "[ 5.068 -1.121]\n",
      "[ 5.02571429 -1.0647619 ]\n",
      "[ 4.94514286 -0.69828571]\n",
      "[ 4.911 -0.224]\n"
     ]
    }
   ],
   "source": [
    "#find curve fit\n",
    "\n",
    "f433=numpy.polyfit(n36,M433,1)\n",
    "f447=numpy.polyfit(n3,M447,1)\n",
    "f462=numpy.polyfit(n3,M462,1)\n",
    "f476=numpy.polyfit(n5,M476,1)\n",
    "\n",
    "#print curve fit\n",
    "\n",
    "print(f433)\n",
    "print(f447)\n",
    "print(f462)\n",
    "print(f476)\n",
    "\n",
    "#set up arrays\n",
    "x=[0,1,2,3,4,5,6,7,8,9];\n",
    "y433=numpy.zeros(len(x));\n",
    "y447=numpy.zeros(len(x));\n",
    "y462=numpy.zeros(len(x));\n",
    "y476=numpy.zeros(len(x));"
   ]
  },
  {
   "cell_type": "code",
   "execution_count": 7,
   "metadata": {},
   "outputs": [],
   "source": [
    "#define arrays\n",
    "i=0;\n",
    "while i<len(x):\n",
    "    y433[i]=f433[0]*x[i]+f433[1];\n",
    "    y447[i]=f447[0]*x[i]+f447[1];\n",
    "    y462[i]=f462[0]*x[i]+f462[1];\n",
    "    y476[i]=f476[0]*x[i]+f476[1];\n",
    "    i+=1;"
   ]
  },
  {
   "cell_type": "code",
   "execution_count": 36,
   "metadata": {},
   "outputs": [
    {
     "data": {
      "text/html": [
       "\n",
       "<div class=\"bk-root\">\n",
       "    <div class=\"bk-plotdiv\" id=\"eb213092-db57-4212-a962-b360f3a445c4\"></div>\n",
       "</div>"
      ]
     },
     "metadata": {},
     "output_type": "display_data"
    },
    {
     "data": {
      "application/javascript": [
       "(function(root) {\n",
       "  function embed_document(root) {\n",
       "    \n",
       "  var docs_json = {\"a52bc573-272b-473d-b61b-dede8c61af42\":{\"roots\":{\"references\":[{\"attributes\":{},\"id\":\"ceef258a-1d56-4623-aa81-4f4ffbe8b1b8\",\"type\":\"BasicTickFormatter\"},{\"attributes\":{\"bottom_units\":\"screen\",\"fill_alpha\":{\"value\":0.5},\"fill_color\":{\"value\":\"lightgrey\"},\"left_units\":\"screen\",\"level\":\"overlay\",\"line_alpha\":{\"value\":1.0},\"line_color\":{\"value\":\"black\"},\"line_dash\":[4,4],\"line_width\":{\"value\":2},\"plot\":null,\"render_mode\":\"css\",\"right_units\":\"screen\",\"top_units\":\"screen\"},\"id\":\"99ea45e4-6156-4c4e-8b44-331967494bbd\",\"type\":\"BoxAnnotation\"},{\"attributes\":{\"fill_alpha\":{\"value\":0.1},\"fill_color\":{\"value\":\"#1f77b4\"},\"line_alpha\":{\"value\":0.1},\"line_color\":{\"value\":\"#1f77b4\"},\"size\":{\"units\":\"screen\",\"value\":5},\"x\":{\"field\":\"x\"},\"y\":{\"field\":\"y\"}},\"id\":\"4539b301-70b4-438b-8806-c6b897d9d27f\",\"type\":\"Circle\"},{\"attributes\":{\"data_source\":{\"id\":\"6ff5b1e3-3d43-430b-a553-f41d3d1a647f\",\"type\":\"ColumnDataSource\"},\"glyph\":{\"id\":\"ad8b5c54-08fe-400a-85ec-5619e11bad7b\",\"type\":\"Line\"},\"hover_glyph\":null,\"muted_glyph\":null,\"nonselection_glyph\":{\"id\":\"077eed09-bf06-40d4-9e01-f366bd9fddb4\",\"type\":\"Line\"},\"selection_glyph\":null,\"view\":{\"id\":\"10263f43-746b-4ff3-ab22-3ca650334f9e\",\"type\":\"CDSView\"}},\"id\":\"f75e2112-61f7-451f-843a-90f3543b6d43\",\"type\":\"GlyphRenderer\"},{\"attributes\":{\"source\":{\"id\":\"733776d3-940e-468a-9408-4d03a568822f\",\"type\":\"ColumnDataSource\"}},\"id\":\"bbd91d92-8c74-472d-b066-eaf4134f2930\",\"type\":\"CDSView\"},{\"attributes\":{\"dimension\":1,\"plot\":{\"id\":\"e675c766-d8b0-4ee1-a305-17ea69157a07\",\"subtype\":\"Figure\",\"type\":\"Plot\"},\"ticker\":{\"id\":\"9f81ae85-6503-4a9f-bfc6-8185fe53e302\",\"type\":\"BasicTicker\"}},\"id\":\"3a9f2987-deac-4c35-a968-00bff61a637c\",\"type\":\"Grid\"},{\"attributes\":{\"line_alpha\":0.1,\"line_color\":\"#1f77b4\",\"x\":{\"field\":\"x\"},\"y\":{\"field\":\"y\"}},\"id\":\"077eed09-bf06-40d4-9e01-f366bd9fddb4\",\"type\":\"Line\"},{\"attributes\":{\"axis_label\":\"Number of Collisions\",\"formatter\":{\"id\":\"ceef258a-1d56-4623-aa81-4f4ffbe8b1b8\",\"type\":\"BasicTickFormatter\"},\"plot\":{\"id\":\"e675c766-d8b0-4ee1-a305-17ea69157a07\",\"subtype\":\"Figure\",\"type\":\"Plot\"},\"ticker\":{\"id\":\"9e4486fc-a2fd-44c4-bf7f-dc25000eb95b\",\"type\":\"BasicTicker\"}},\"id\":\"76f6935a-1b5c-4630-baf8-e63724e78fb7\",\"type\":\"LinearAxis\"},{\"attributes\":{},\"id\":\"961d4105-c9af-4adc-a0e1-fcb6fd2b6aba\",\"type\":\"Selection\"},{\"attributes\":{},\"id\":\"e1d3193a-31a7-44e7-a6d0-2e5bcb0cb98d\",\"type\":\"UnionRenderers\"},{\"attributes\":{},\"id\":\"9e4486fc-a2fd-44c4-bf7f-dc25000eb95b\",\"type\":\"BasicTicker\"},{\"attributes\":{\"callback\":null},\"id\":\"fce318c8-626e-46c4-8842-3d03329b6e3b\",\"type\":\"DataRange1d\"},{\"attributes\":{\"plot\":{\"id\":\"e675c766-d8b0-4ee1-a305-17ea69157a07\",\"subtype\":\"Figure\",\"type\":\"Plot\"},\"ticker\":{\"id\":\"9e4486fc-a2fd-44c4-bf7f-dc25000eb95b\",\"type\":\"BasicTicker\"}},\"id\":\"f5262902-5542-4ce3-a874-fcaac1d198f0\",\"type\":\"Grid\"},{\"attributes\":{},\"id\":\"add87627-1276-4110-ae2e-85834a79599c\",\"type\":\"UnionRenderers\"},{\"attributes\":{},\"id\":\"9f81ae85-6503-4a9f-bfc6-8185fe53e302\",\"type\":\"BasicTicker\"},{\"attributes\":{},\"id\":\"9a41a03f-80ec-482d-a829-4e8bc6dd25ce\",\"type\":\"SaveTool\"},{\"attributes\":{\"line_color\":\"blue\",\"x\":{\"field\":\"x\"},\"y\":{\"field\":\"y\"}},\"id\":\"ad8b5c54-08fe-400a-85ec-5619e11bad7b\",\"type\":\"Line\"},{\"attributes\":{},\"id\":\"8af6d213-17a3-40b3-9a99-755de0507705\",\"type\":\"PanTool\"},{\"attributes\":{\"below\":[{\"id\":\"76f6935a-1b5c-4630-baf8-e63724e78fb7\",\"type\":\"LinearAxis\"}],\"left\":[{\"id\":\"9941de14-edc3-48a7-91fe-3dd48fd0676d\",\"type\":\"LinearAxis\"}],\"renderers\":[{\"id\":\"76f6935a-1b5c-4630-baf8-e63724e78fb7\",\"type\":\"LinearAxis\"},{\"id\":\"f5262902-5542-4ce3-a874-fcaac1d198f0\",\"type\":\"Grid\"},{\"id\":\"9941de14-edc3-48a7-91fe-3dd48fd0676d\",\"type\":\"LinearAxis\"},{\"id\":\"3a9f2987-deac-4c35-a968-00bff61a637c\",\"type\":\"Grid\"},{\"id\":\"99ea45e4-6156-4c4e-8b44-331967494bbd\",\"type\":\"BoxAnnotation\"},{\"id\":\"b8011f39-3888-43f6-bdd8-d0becbfc9c40\",\"type\":\"GlyphRenderer\"},{\"id\":\"f75e2112-61f7-451f-843a-90f3543b6d43\",\"type\":\"GlyphRenderer\"}],\"title\":{\"id\":\"399f1846-77c8-47b8-be74-693ac456e951\",\"type\":\"Title\"},\"toolbar\":{\"id\":\"809f1b2b-b22f-4b51-b2cb-49c02ae3a563\",\"type\":\"Toolbar\"},\"x_range\":{\"id\":\"dc339380-1986-49eb-897c-37f8a9f18c35\",\"type\":\"DataRange1d\"},\"x_scale\":{\"id\":\"625c3e1d-1c75-41a8-a9c0-7177e7f76778\",\"type\":\"LinearScale\"},\"y_range\":{\"id\":\"fce318c8-626e-46c4-8842-3d03329b6e3b\",\"type\":\"DataRange1d\"},\"y_scale\":{\"id\":\"296fa9f6-ab6a-4c51-b8f5-bbc029f4eaa5\",\"type\":\"LinearScale\"}},\"id\":\"e675c766-d8b0-4ee1-a305-17ea69157a07\",\"subtype\":\"Figure\",\"type\":\"Plot\"},{\"attributes\":{},\"id\":\"8e886bc8-8209-4db4-9020-6e6633a248d5\",\"type\":\"BasicTickFormatter\"},{\"attributes\":{\"callback\":null},\"id\":\"dc339380-1986-49eb-897c-37f8a9f18c35\",\"type\":\"DataRange1d\"},{\"attributes\":{},\"id\":\"296fa9f6-ab6a-4c51-b8f5-bbc029f4eaa5\",\"type\":\"LinearScale\"},{\"attributes\":{\"callback\":null,\"data\":{\"x\":[0,1,2,3,4,5,6,7,8,9],\"y\":{\"__ndarray__\":\"guYmMQiszL+HaJHtfL8SQCEEVg4tMiNA/lPjpZsELUDuUbgehWszQN35fmq8VDhAy6FFtvM9PUDdJAaBlRNBQNR46SYxiENAy8zMzMz8RUA=\",\"dtype\":\"float64\",\"shape\":[10]}},\"selected\":{\"id\":\"876f8ec9-8bb9-4488-9bf4-5ca687bb2ef5\",\"type\":\"Selection\"},\"selection_policy\":{\"id\":\"add87627-1276-4110-ae2e-85834a79599c\",\"type\":\"UnionRenderers\"}},\"id\":\"6ff5b1e3-3d43-430b-a553-f41d3d1a647f\",\"type\":\"ColumnDataSource\"},{\"attributes\":{},\"id\":\"d9ad128b-8b9a-412c-8167-96eeb00a2450\",\"type\":\"WheelZoomTool\"},{\"attributes\":{\"fill_color\":{\"value\":\"#1f77b4\"},\"line_color\":{\"value\":\"white\"},\"size\":{\"units\":\"screen\",\"value\":5},\"x\":{\"field\":\"x\"},\"y\":{\"field\":\"y\"}},\"id\":\"df843fc7-bf87-40c3-93e6-dfa58f46f81b\",\"type\":\"Circle\"},{\"attributes\":{},\"id\":\"625c3e1d-1c75-41a8-a9c0-7177e7f76778\",\"type\":\"LinearScale\"},{\"attributes\":{},\"id\":\"665e1015-2c79-45d9-820d-7da684d65cf4\",\"type\":\"ResetTool\"},{\"attributes\":{\"axis_label\":\"Energy (eV)\",\"formatter\":{\"id\":\"8e886bc8-8209-4db4-9020-6e6633a248d5\",\"type\":\"BasicTickFormatter\"},\"plot\":{\"id\":\"e675c766-d8b0-4ee1-a305-17ea69157a07\",\"subtype\":\"Figure\",\"type\":\"Plot\"},\"ticker\":{\"id\":\"9f81ae85-6503-4a9f-bfc6-8185fe53e302\",\"type\":\"BasicTicker\"}},\"id\":\"9941de14-edc3-48a7-91fe-3dd48fd0676d\",\"type\":\"LinearAxis\"},{\"attributes\":{\"source\":{\"id\":\"6ff5b1e3-3d43-430b-a553-f41d3d1a647f\",\"type\":\"ColumnDataSource\"}},\"id\":\"10263f43-746b-4ff3-ab22-3ca650334f9e\",\"type\":\"CDSView\"},{\"attributes\":{\"data_source\":{\"id\":\"733776d3-940e-468a-9408-4d03a568822f\",\"type\":\"ColumnDataSource\"},\"glyph\":{\"id\":\"df843fc7-bf87-40c3-93e6-dfa58f46f81b\",\"type\":\"Circle\"},\"hover_glyph\":null,\"muted_glyph\":null,\"nonselection_glyph\":{\"id\":\"4539b301-70b4-438b-8806-c6b897d9d27f\",\"type\":\"Circle\"},\"selection_glyph\":null,\"view\":{\"id\":\"bbd91d92-8c74-472d-b066-eaf4134f2930\",\"type\":\"CDSView\"}},\"id\":\"b8011f39-3888-43f6-bdd8-d0becbfc9c40\",\"type\":\"GlyphRenderer\"},{\"attributes\":{\"active_drag\":\"auto\",\"active_inspect\":\"auto\",\"active_scroll\":\"auto\",\"active_tap\":\"auto\",\"tools\":[{\"id\":\"8af6d213-17a3-40b3-9a99-755de0507705\",\"type\":\"PanTool\"},{\"id\":\"d9ad128b-8b9a-412c-8167-96eeb00a2450\",\"type\":\"WheelZoomTool\"},{\"id\":\"18c839d0-b5f6-4613-a754-b710371cd1d6\",\"type\":\"BoxZoomTool\"},{\"id\":\"9a41a03f-80ec-482d-a829-4e8bc6dd25ce\",\"type\":\"SaveTool\"},{\"id\":\"665e1015-2c79-45d9-820d-7da684d65cf4\",\"type\":\"ResetTool\"},{\"id\":\"4501d901-2594-46df-b005-53aa0982eb69\",\"type\":\"HelpTool\"}]},\"id\":\"809f1b2b-b22f-4b51-b2cb-49c02ae3a563\",\"type\":\"Toolbar\"},{\"attributes\":{},\"id\":\"876f8ec9-8bb9-4488-9bf4-5ca687bb2ef5\",\"type\":\"Selection\"},{\"attributes\":{\"overlay\":{\"id\":\"99ea45e4-6156-4c4e-8b44-331967494bbd\",\"type\":\"BoxAnnotation\"}},\"id\":\"18c839d0-b5f6-4613-a754-b710371cd1d6\",\"type\":\"BoxZoomTool\"},{\"attributes\":{\"callback\":null,\"data\":{\"x\":[5,6,7,8],\"y\":[24.26,29.33,34.19,39.01]},\"selected\":{\"id\":\"961d4105-c9af-4adc-a0e1-fcb6fd2b6aba\",\"type\":\"Selection\"},\"selection_policy\":{\"id\":\"e1d3193a-31a7-44e7-a6d0-2e5bcb0cb98d\",\"type\":\"UnionRenderers\"}},\"id\":\"733776d3-940e-468a-9408-4d03a568822f\",\"type\":\"ColumnDataSource\"},{\"attributes\":{\"plot\":null,\"text\":\"Energy vs Number of Collisions: Curve Fit (476K)\"},\"id\":\"399f1846-77c8-47b8-be74-693ac456e951\",\"type\":\"Title\"},{\"attributes\":{},\"id\":\"4501d901-2594-46df-b005-53aa0982eb69\",\"type\":\"HelpTool\"}],\"root_ids\":[\"e675c766-d8b0-4ee1-a305-17ea69157a07\"]},\"title\":\"Bokeh Application\",\"version\":\"0.12.16\"}};\n",
       "  var render_items = [{\"docid\":\"a52bc573-272b-473d-b61b-dede8c61af42\",\"elementid\":\"eb213092-db57-4212-a962-b360f3a445c4\",\"modelid\":\"e675c766-d8b0-4ee1-a305-17ea69157a07\"}];\n",
       "  root.Bokeh.embed.embed_items_notebook(docs_json, render_items);\n",
       "\n",
       "  }\n",
       "  if (root.Bokeh !== undefined) {\n",
       "    embed_document(root);\n",
       "  } else {\n",
       "    var attempts = 0;\n",
       "    var timer = setInterval(function(root) {\n",
       "      if (root.Bokeh !== undefined) {\n",
       "        embed_document(root);\n",
       "        clearInterval(timer);\n",
       "      }\n",
       "      attempts++;\n",
       "      if (attempts > 100) {\n",
       "        console.log(\"Bokeh: ERROR: Unable to run BokehJS code because BokehJS library is missing\")\n",
       "        clearInterval(timer);\n",
       "      }\n",
       "    }, 10, root)\n",
       "  }\n",
       "})(window);"
      ],
      "application/vnd.bokehjs_exec.v0+json": ""
     },
     "metadata": {
      "application/vnd.bokehjs_exec.v0+json": {
       "id": "e675c766-d8b0-4ee1-a305-17ea69157a07"
      }
     },
     "output_type": "display_data"
    }
   ],
   "source": [
    "#now plot with the lines! \n",
    "#Make sure to change the temperature in the title, data, and fit, and make sure the correct n-array is selected.\n",
    "\n",
    "p=figure(title=\"Energy vs Number of Collisions: Curve Fit (476K)\", x_axis_label='Number of Collisions', y_axis_label='Energy (eV)')\n",
    "\n",
    "p.circle(n5, M476, line_color=\"white\", size=5)\n",
    "p.line(x,y476, line_color=\"blue\", line_width=1)\n",
    "\n",
    "show(p)"
   ]
  },
  {
   "cell_type": "code",
   "execution_count": null,
   "metadata": {},
   "outputs": [],
   "source": [
    "Ea_433=f433[0]/2+f433[1]\n",
    "Ea_447=f447[0]/2+f447[1]\n",
    "Ea_462=f462[0]/2+f462[1]\n",
    "Ea_476=f476[0]/2+f476[1]\n",
    "\n",
    "print(Ea_433)\n",
    "print(Ea_447)\n",
    "print(Ea_462)\n",
    "print(Ea_476)"
   ]
  },
  {
   "cell_type": "code",
   "execution_count": 10,
   "metadata": {},
   "outputs": [],
   "source": [
    "#This seems incorrect - maybe use DeltaE instead of E?\n",
    "\n",
    "n4 = [4,5,6,7,8]\n",
    "n46 = [4,5,6]\n",
    "n6 = [6,7,8]\n",
    "\n",
    "DM433 = [5.04,5.05,5.14]\n",
    "DM447 = [5.01,5.05,5,5.05,5]\n",
    "DM462 = [5.02,4.9,4.91,4.96,4.95]\n",
    "DM476 = [5.07,4.86,5.1]\n",
    "\n",
    "Df433=numpy.polyfit(n46,DM433,1)\n",
    "Df447=numpy.polyfit(n4,DM447,1)\n",
    "Df462=numpy.polyfit(n4,DM462,1)\n",
    "Df476=numpy.polyfit(n6,DM476,1)\n",
    "\n",
    "Dy433=numpy.zeros(len(x));\n",
    "Dy447=numpy.zeros(len(x));\n",
    "Dy462=numpy.zeros(len(x));\n",
    "Dy476=numpy.zeros(len(x));"
   ]
  },
  {
   "cell_type": "code",
   "execution_count": 11,
   "metadata": {},
   "outputs": [],
   "source": [
    "#define arrays\n",
    "i=0;\n",
    "while i<len(x):\n",
    "    Dy433[i]=Df433[0]*x[i]+Df433[1];\n",
    "    Dy447[i]=Df447[0]*x[i]+Df447[1];\n",
    "    Dy462[i]=Df462[0]*x[i]+Df462[1];\n",
    "    Dy476[i]=Df476[0]*x[i]+Df476[1];\n",
    "    i+=1;"
   ]
  },
  {
   "cell_type": "code",
   "execution_count": 20,
   "metadata": {},
   "outputs": [
    {
     "data": {
      "text/html": [
       "\n",
       "<div class=\"bk-root\">\n",
       "    <div class=\"bk-plotdiv\" id=\"6f2d5d1e-2aad-4352-b9d8-2ce34849b8ba\"></div>\n",
       "</div>"
      ]
     },
     "metadata": {},
     "output_type": "display_data"
    },
    {
     "data": {
      "application/javascript": [
       "(function(root) {\n",
       "  function embed_document(root) {\n",
       "    \n",
       "  var docs_json = {\"ed63cc76-6ec9-430b-8df5-ae31e5888ae5\":{\"roots\":{\"references\":[{\"attributes\":{\"line_color\":\"blue\",\"x\":{\"field\":\"x\"},\"y\":{\"field\":\"y\"}},\"id\":\"2921cde8-6052-4e1a-8972-b21117940c5f\",\"type\":\"Line\"},{\"attributes\":{\"line_alpha\":0.1,\"line_color\":\"#1f77b4\",\"x\":{\"field\":\"x\"},\"y\":{\"field\":\"y\"}},\"id\":\"58201b56-4caa-4973-909a-3db48e9e40bd\",\"type\":\"Line\"},{\"attributes\":{\"source\":{\"id\":\"858faab7-1cc3-4ce8-8cb5-33b5fa0bde08\",\"type\":\"ColumnDataSource\"}},\"id\":\"94308705-7f4a-40f1-a899-549212985e81\",\"type\":\"CDSView\"},{\"attributes\":{\"data_source\":{\"id\":\"27bcc56a-e646-4200-98c4-94d642c79c0f\",\"type\":\"ColumnDataSource\"},\"glyph\":{\"id\":\"2921cde8-6052-4e1a-8972-b21117940c5f\",\"type\":\"Line\"},\"hover_glyph\":null,\"muted_glyph\":null,\"nonselection_glyph\":{\"id\":\"58201b56-4caa-4973-909a-3db48e9e40bd\",\"type\":\"Line\"},\"selection_glyph\":null,\"view\":{\"id\":\"9b49dd92-049d-40ac-a7f8-0e1d33bcc96f\",\"type\":\"CDSView\"}},\"id\":\"6185e493-3b1d-44e5-a944-9fa3d47d5a2d\",\"type\":\"GlyphRenderer\"},{\"attributes\":{\"source\":{\"id\":\"27bcc56a-e646-4200-98c4-94d642c79c0f\",\"type\":\"ColumnDataSource\"}},\"id\":\"9b49dd92-049d-40ac-a7f8-0e1d33bcc96f\",\"type\":\"CDSView\"},{\"attributes\":{\"below\":[{\"id\":\"0b622427-78cb-4553-9749-64692087a6c6\",\"type\":\"LinearAxis\"}],\"left\":[{\"id\":\"e9c438d0-fb80-4934-a0af-b1e9c9bbf914\",\"type\":\"LinearAxis\"}],\"renderers\":[{\"id\":\"0b622427-78cb-4553-9749-64692087a6c6\",\"type\":\"LinearAxis\"},{\"id\":\"ee18b180-a197-48f3-b17f-b6d70048bbe1\",\"type\":\"Grid\"},{\"id\":\"e9c438d0-fb80-4934-a0af-b1e9c9bbf914\",\"type\":\"LinearAxis\"},{\"id\":\"27b34c02-ad5b-4c86-b186-1f5a7f987300\",\"type\":\"Grid\"},{\"id\":\"72b10ccb-3a0c-4d7e-b976-e82e76fdc49f\",\"type\":\"BoxAnnotation\"},{\"id\":\"6d9dca58-3f2b-4769-af47-f1e755d7d15c\",\"type\":\"GlyphRenderer\"},{\"id\":\"6185e493-3b1d-44e5-a944-9fa3d47d5a2d\",\"type\":\"GlyphRenderer\"}],\"title\":{\"id\":\"b5573fd1-7e61-4c5a-ba04-51f2eca15ee8\",\"type\":\"Title\"},\"toolbar\":{\"id\":\"ed0ab3eb-ca25-4f8a-9d3b-1bf1b9b8f460\",\"type\":\"Toolbar\"},\"x_range\":{\"id\":\"f7fdbbfd-9142-4abd-95a1-a901797d819a\",\"type\":\"DataRange1d\"},\"x_scale\":{\"id\":\"7995239e-7eba-4101-9827-30752e1c2101\",\"type\":\"LinearScale\"},\"y_range\":{\"id\":\"beebd95d-54f0-49de-a9f5-888b48a8d8c0\",\"type\":\"DataRange1d\"},\"y_scale\":{\"id\":\"5d95984d-0970-485a-a8c2-1f1576353963\",\"type\":\"LinearScale\"}},\"id\":\"d464693b-fde7-4278-9470-bf1238a5e1e9\",\"subtype\":\"Figure\",\"type\":\"Plot\"},{\"attributes\":{\"callback\":null,\"data\":{\"x\":[6,7,8],\"y\":[5.07,4.86,5.1]},\"selected\":{\"id\":\"145e8923-ea91-4922-9086-d72d7780555e\",\"type\":\"Selection\"},\"selection_policy\":{\"id\":\"7fe5ce0b-b889-4dc4-a724-d28d68cfab50\",\"type\":\"UnionRenderers\"}},\"id\":\"858faab7-1cc3-4ce8-8cb5-33b5fa0bde08\",\"type\":\"ColumnDataSource\"},{\"attributes\":{\"plot\":null,\"text\":\"Change in Energy vs Number of Collisions: Curve Fit (476K)\"},\"id\":\"b5573fd1-7e61-4c5a-ba04-51f2eca15ee8\",\"type\":\"Title\"},{\"attributes\":{\"callback\":null},\"id\":\"f7fdbbfd-9142-4abd-95a1-a901797d819a\",\"type\":\"DataRange1d\"},{\"attributes\":{\"active_drag\":\"auto\",\"active_inspect\":\"auto\",\"active_scroll\":\"auto\",\"active_tap\":\"auto\",\"tools\":[{\"id\":\"4e67e2a3-5127-4631-b0c6-06f3e6d2fe70\",\"type\":\"PanTool\"},{\"id\":\"fc20296c-8b2a-4e1a-9eb7-cf3ebf86574f\",\"type\":\"WheelZoomTool\"},{\"id\":\"2effcad7-e12e-4d82-a12f-6260b5077258\",\"type\":\"BoxZoomTool\"},{\"id\":\"ab6a8b54-8662-4833-a1aa-4d1139715f8e\",\"type\":\"SaveTool\"},{\"id\":\"ac30d9dd-8fb9-4612-84a0-b933d60f577a\",\"type\":\"ResetTool\"},{\"id\":\"bba37e25-18bb-4838-9eeb-9f99649e4ea2\",\"type\":\"HelpTool\"}]},\"id\":\"ed0ab3eb-ca25-4f8a-9d3b-1bf1b9b8f460\",\"type\":\"Toolbar\"},{\"attributes\":{\"fill_alpha\":{\"value\":0.1},\"fill_color\":{\"value\":\"#1f77b4\"},\"line_alpha\":{\"value\":0.1},\"line_color\":{\"value\":\"#1f77b4\"},\"size\":{\"units\":\"screen\",\"value\":5},\"x\":{\"field\":\"x\"},\"y\":{\"field\":\"y\"}},\"id\":\"3c2b2bb7-8338-4227-bc60-bf6859e02e30\",\"type\":\"Circle\"},{\"attributes\":{},\"id\":\"7995239e-7eba-4101-9827-30752e1c2101\",\"type\":\"LinearScale\"},{\"attributes\":{},\"id\":\"36a0925b-aa0f-4279-bb40-5a2439dd02aa\",\"type\":\"UnionRenderers\"},{\"attributes\":{\"callback\":null},\"id\":\"beebd95d-54f0-49de-a9f5-888b48a8d8c0\",\"type\":\"DataRange1d\"},{\"attributes\":{},\"id\":\"5d95984d-0970-485a-a8c2-1f1576353963\",\"type\":\"LinearScale\"},{\"attributes\":{\"plot\":{\"id\":\"d464693b-fde7-4278-9470-bf1238a5e1e9\",\"subtype\":\"Figure\",\"type\":\"Plot\"},\"ticker\":{\"id\":\"a85a3786-50f7-486b-a282-24e99d6922cb\",\"type\":\"BasicTicker\"}},\"id\":\"ee18b180-a197-48f3-b17f-b6d70048bbe1\",\"type\":\"Grid\"},{\"attributes\":{},\"id\":\"2dca1ead-6d22-498b-8e1a-84f143457e87\",\"type\":\"Selection\"},{\"attributes\":{\"axis_label\":\"Number of Collisions\",\"formatter\":{\"id\":\"5f68cd00-49b4-4206-b10d-55b057d30d7c\",\"type\":\"BasicTickFormatter\"},\"plot\":{\"id\":\"d464693b-fde7-4278-9470-bf1238a5e1e9\",\"subtype\":\"Figure\",\"type\":\"Plot\"},\"ticker\":{\"id\":\"a85a3786-50f7-486b-a282-24e99d6922cb\",\"type\":\"BasicTicker\"}},\"id\":\"0b622427-78cb-4553-9749-64692087a6c6\",\"type\":\"LinearAxis\"},{\"attributes\":{},\"id\":\"a85a3786-50f7-486b-a282-24e99d6922cb\",\"type\":\"BasicTicker\"},{\"attributes\":{\"axis_label\":\"Energy (eV)\",\"formatter\":{\"id\":\"0c0165da-722a-4615-bc3d-6823745088f5\",\"type\":\"BasicTickFormatter\"},\"plot\":{\"id\":\"d464693b-fde7-4278-9470-bf1238a5e1e9\",\"subtype\":\"Figure\",\"type\":\"Plot\"},\"ticker\":{\"id\":\"2ce5b73c-5199-4493-8c98-43d40c30d730\",\"type\":\"BasicTicker\"}},\"id\":\"e9c438d0-fb80-4934-a0af-b1e9c9bbf914\",\"type\":\"LinearAxis\"},{\"attributes\":{},\"id\":\"2ce5b73c-5199-4493-8c98-43d40c30d730\",\"type\":\"BasicTicker\"},{\"attributes\":{\"callback\":null,\"data\":{\"x\":[0,1,2,3,4,5,6,7,8,9],\"y\":{\"__ndarray__\":\"G4XrUbieE0CrR+F6FK4TQDoK16NwvRNAyszMzMzME0Baj8L1KNwTQOlRuB6F6xNAeRSuR+H6E0AJ16NwPQoUQJiZmZmZGRRAKFyPwvUoFEA=\",\"dtype\":\"float64\",\"shape\":[10]}},\"selected\":{\"id\":\"2dca1ead-6d22-498b-8e1a-84f143457e87\",\"type\":\"Selection\"},\"selection_policy\":{\"id\":\"36a0925b-aa0f-4279-bb40-5a2439dd02aa\",\"type\":\"UnionRenderers\"}},\"id\":\"27bcc56a-e646-4200-98c4-94d642c79c0f\",\"type\":\"ColumnDataSource\"},{\"attributes\":{\"dimension\":1,\"plot\":{\"id\":\"d464693b-fde7-4278-9470-bf1238a5e1e9\",\"subtype\":\"Figure\",\"type\":\"Plot\"},\"ticker\":{\"id\":\"2ce5b73c-5199-4493-8c98-43d40c30d730\",\"type\":\"BasicTicker\"}},\"id\":\"27b34c02-ad5b-4c86-b186-1f5a7f987300\",\"type\":\"Grid\"},{\"attributes\":{\"data_source\":{\"id\":\"858faab7-1cc3-4ce8-8cb5-33b5fa0bde08\",\"type\":\"ColumnDataSource\"},\"glyph\":{\"id\":\"a28e0f92-7c13-4620-842a-7094490973e7\",\"type\":\"Circle\"},\"hover_glyph\":null,\"muted_glyph\":null,\"nonselection_glyph\":{\"id\":\"3c2b2bb7-8338-4227-bc60-bf6859e02e30\",\"type\":\"Circle\"},\"selection_glyph\":null,\"view\":{\"id\":\"94308705-7f4a-40f1-a899-549212985e81\",\"type\":\"CDSView\"}},\"id\":\"6d9dca58-3f2b-4769-af47-f1e755d7d15c\",\"type\":\"GlyphRenderer\"},{\"attributes\":{\"fill_color\":{\"value\":\"#1f77b4\"},\"line_color\":{\"value\":\"white\"},\"size\":{\"units\":\"screen\",\"value\":5},\"x\":{\"field\":\"x\"},\"y\":{\"field\":\"y\"}},\"id\":\"a28e0f92-7c13-4620-842a-7094490973e7\",\"type\":\"Circle\"},{\"attributes\":{},\"id\":\"145e8923-ea91-4922-9086-d72d7780555e\",\"type\":\"Selection\"},{\"attributes\":{\"bottom_units\":\"screen\",\"fill_alpha\":{\"value\":0.5},\"fill_color\":{\"value\":\"lightgrey\"},\"left_units\":\"screen\",\"level\":\"overlay\",\"line_alpha\":{\"value\":1.0},\"line_color\":{\"value\":\"black\"},\"line_dash\":[4,4],\"line_width\":{\"value\":2},\"plot\":null,\"render_mode\":\"css\",\"right_units\":\"screen\",\"top_units\":\"screen\"},\"id\":\"72b10ccb-3a0c-4d7e-b976-e82e76fdc49f\",\"type\":\"BoxAnnotation\"},{\"attributes\":{},\"id\":\"4e67e2a3-5127-4631-b0c6-06f3e6d2fe70\",\"type\":\"PanTool\"},{\"attributes\":{},\"id\":\"fc20296c-8b2a-4e1a-9eb7-cf3ebf86574f\",\"type\":\"WheelZoomTool\"},{\"attributes\":{\"overlay\":{\"id\":\"72b10ccb-3a0c-4d7e-b976-e82e76fdc49f\",\"type\":\"BoxAnnotation\"}},\"id\":\"2effcad7-e12e-4d82-a12f-6260b5077258\",\"type\":\"BoxZoomTool\"},{\"attributes\":{},\"id\":\"ab6a8b54-8662-4833-a1aa-4d1139715f8e\",\"type\":\"SaveTool\"},{\"attributes\":{},\"id\":\"ac30d9dd-8fb9-4612-84a0-b933d60f577a\",\"type\":\"ResetTool\"},{\"attributes\":{},\"id\":\"7fe5ce0b-b889-4dc4-a724-d28d68cfab50\",\"type\":\"UnionRenderers\"},{\"attributes\":{},\"id\":\"bba37e25-18bb-4838-9eeb-9f99649e4ea2\",\"type\":\"HelpTool\"},{\"attributes\":{},\"id\":\"0c0165da-722a-4615-bc3d-6823745088f5\",\"type\":\"BasicTickFormatter\"},{\"attributes\":{},\"id\":\"5f68cd00-49b4-4206-b10d-55b057d30d7c\",\"type\":\"BasicTickFormatter\"}],\"root_ids\":[\"d464693b-fde7-4278-9470-bf1238a5e1e9\"]},\"title\":\"Bokeh Application\",\"version\":\"0.12.16\"}};\n",
       "  var render_items = [{\"docid\":\"ed63cc76-6ec9-430b-8df5-ae31e5888ae5\",\"elementid\":\"6f2d5d1e-2aad-4352-b9d8-2ce34849b8ba\",\"modelid\":\"d464693b-fde7-4278-9470-bf1238a5e1e9\"}];\n",
       "  root.Bokeh.embed.embed_items_notebook(docs_json, render_items);\n",
       "\n",
       "  }\n",
       "  if (root.Bokeh !== undefined) {\n",
       "    embed_document(root);\n",
       "  } else {\n",
       "    var attempts = 0;\n",
       "    var timer = setInterval(function(root) {\n",
       "      if (root.Bokeh !== undefined) {\n",
       "        embed_document(root);\n",
       "        clearInterval(timer);\n",
       "      }\n",
       "      attempts++;\n",
       "      if (attempts > 100) {\n",
       "        console.log(\"Bokeh: ERROR: Unable to run BokehJS code because BokehJS library is missing\")\n",
       "        clearInterval(timer);\n",
       "      }\n",
       "    }, 10, root)\n",
       "  }\n",
       "})(window);"
      ],
      "application/vnd.bokehjs_exec.v0+json": ""
     },
     "metadata": {
      "application/vnd.bokehjs_exec.v0+json": {
       "id": "d464693b-fde7-4278-9470-bf1238a5e1e9"
      }
     },
     "output_type": "display_data"
    }
   ],
   "source": [
    "#now plot with the lines! \n",
    "#Make sure to change the temperature in the title, data, and fit, and make sure the correct n-array is selected.\n",
    "\n",
    "p=figure(title=\"Change in Energy vs Number of Collisions: Curve Fit (476K)\", x_axis_label='Number of Collisions', y_axis_label='Energy (eV)')\n",
    "\n",
    "p.circle(n6, DM476, line_color=\"white\", size=5)\n",
    "p.line(x,Dy476, line_color=\"blue\", line_width=1)\n",
    "\n",
    "show(p)"
   ]
  },
  {
   "cell_type": "code",
   "execution_count": 21,
   "metadata": {},
   "outputs": [
    {
     "name": "stdout",
     "output_type": "stream",
     "text": [
      "4.851666666666667\n",
      "5.0329999999999995\n",
      "4.991999999999998\n",
      "4.912499999999997\n"
     ]
    }
   ],
   "source": [
    "DEa_433=Df433[0]/2+Df433[1]\n",
    "DEa_447=Df447[0]/2+Df447[1]\n",
    "DEa_462=Df462[0]/2+Df462[1]\n",
    "DEa_476=Df476[0]/2+Df476[1]\n",
    "\n",
    "print(DEa_433)\n",
    "print(DEa_447)\n",
    "print(DEa_462)\n",
    "print(DEa_476)"
   ]
  },
  {
   "cell_type": "code",
   "execution_count": 26,
   "metadata": {},
   "outputs": [
    {
     "name": "stdout",
     "output_type": "stream",
     "text": [
      "4.1222947440741874e-05\n",
      "-1.5895092390224959e-06\n",
      "-6.410256410256384e-06\n",
      "1.2213740458015496e-05\n"
     ]
    }
   ],
   "source": [
    "#answers in m\n",
    "\n",
    "lambda_433 = (.008/(2*DEa_433))*Df433[0]\n",
    "lambda_447 = (.008/(2*DEa_447))*Df447[0]\n",
    "lambda_462 = (.008/(2*DEa_462))*Df462[0]\n",
    "lambda_476 = (.008/(2*DEa_476))*Df476[0]\n",
    "\n",
    "print(lambda_433)\n",
    "print(lambda_447)\n",
    "print(lambda_462)\n",
    "print(lambda_476)"
   ]
  },
  {
   "cell_type": "code",
   "execution_count": 28,
   "metadata": {},
   "outputs": [
    {
     "name": "stdout",
     "output_type": "stream",
     "text": [
      "2.537238176129249e-19\n",
      "-4.04672058252422e-18\n",
      "-6.164993884584369e-19\n",
      "2.113177878631772e-19\n"
     ]
    }
   ],
   "source": [
    "#answers in m^-2\n",
    "\n",
    "k = 1.38065E-23\n",
    "\n",
    "sigma_433 = k*433/(8.7*10**(9-3110/433)*lambda_433)\n",
    "sigma_447 = k*447/(8.7*10**(9-3110/447)*lambda_447)\n",
    "sigma_462 = k*462/(8.7*10**(9-3110/462)*lambda_462)\n",
    "sigma_476 = k*476/(8.7*10**(9-3110/476)*lambda_476)\n",
    "\n",
    "print(sigma_433)\n",
    "print(sigma_447)\n",
    "print(sigma_462)\n",
    "print(sigma_476)"
   ]
  },
  {
   "cell_type": "code",
   "execution_count": 41,
   "metadata": {},
   "outputs": [],
   "source": [
    "#defining uncertainties\n",
    "\n",
    "uI=10**-14\n",
    "uV=10**-2\n",
    "uT=1\n",
    "uL=10**-3\n",
    "\n",
    "uLambda_433 = (uL**2*((1/(2*DEa_433))*Df433[0])**2+uE**2*(((1/(2*DEa_433))*Df433[0])**2+1/(2*DEa_433)**2))**(1/2)\n",
    "uLambda_447 = (uL**2*((1/(2*DEa_447))*Df433[0])**2+uE**2*(((1/(2*DEa_447))*Df447[0])**2+1/(2*DEa_447)**2))**(1/2)\n",
    "uLambda_462 = (uL**2*((1/(2*DEa_433))*Df462[0])**2+uE**2*(((1/(2*DEa_462))*Df462[0])**2+1/(2*DEa_462)**2))**(1/2)\n",
    "uLambda_476 = (uL**2*((1/(2*DEa_476))*Df476[0])**2+uE**2*(((1/(2*DEa_476))*Df433[0])**2+1/(2*DEa_476)**2))**(1/2)\n",
    "\n",
    "uS_433 = (uLambda_433**2*(k*433/(lambda_433**2*8.7*10**(9-3110/433)))**2+uT**2*(1.149*10**10*10**(3110/433)*k/(lambda_433*433)*(433-7161.04))**2)**(1/2)\n",
    "uS_447 = (uLambda_447**2*(k*447/(lambda_447**2*8.7*10**(9-3110/447)))**2+uT**2*(1.149*10**10*10**(3110/447)*k/(lambda_447*447)*(447-7161.04))**2)**(1/2)\n",
    "uS_462 = (uLambda_462**2*(k*462/(lambda_462**2*8.7*10**(9-3110/462)))**2+uT**2*(1.149*10**10*10**(3110/462)*k/(lambda_462*462)*(462-7161.04))**2)**(1/2)\n",
    "uS_476 = (uLambda_476**2*(k*476/(lambda_476**2*8.7*10**(9-3110/476)))**2+uT**2*(1.149*10**10*10**(3110/476)*k/(lambda_476*476)*(476-7161.04))**2)**(1/2)"
   ]
  },
  {
   "cell_type": "code",
   "execution_count": 42,
   "metadata": {},
   "outputs": [
    {
     "name": "stdout",
     "output_type": "stream",
     "text": [
      "0.001031873965013511\n",
      "0.0009934576792120769\n",
      "0.0010016349541833896\n",
      "0.001019084318901568\n",
      "0.9101506649322029\n",
      "13.592876706085688\n",
      "1.9341963139067868\n",
      "0.6232545271639365\n"
     ]
    }
   ],
   "source": [
    "print(uLambda_433)\n",
    "print(uLambda_447)\n",
    "print(uLambda_462)\n",
    "print(uLambda_476)\n",
    "\n",
    "print(uS_433)\n",
    "print(uS_447)\n",
    "print(uS_462)\n",
    "print(uS_476)"
   ]
  },
  {
   "cell_type": "code",
   "execution_count": 40,
   "metadata": {},
   "outputs": [
    {
     "name": "stdout",
     "output_type": "stream",
     "text": [
      "0.001\n"
     ]
    }
   ],
   "source": []
  },
  {
   "cell_type": "code",
   "execution_count": null,
   "metadata": {},
   "outputs": [],
   "source": []
  }
 ],
 "metadata": {
  "kernelspec": {
   "display_name": "Python 3",
   "language": "python",
   "name": "python3"
  },
  "language_info": {
   "codemirror_mode": {
    "name": "ipython",
    "version": 3
   },
   "file_extension": ".py",
   "mimetype": "text/x-python",
   "name": "python",
   "nbconvert_exporter": "python",
   "pygments_lexer": "ipython3",
   "version": "3.6.5"
  }
 },
 "nbformat": 4,
 "nbformat_minor": 2
}
