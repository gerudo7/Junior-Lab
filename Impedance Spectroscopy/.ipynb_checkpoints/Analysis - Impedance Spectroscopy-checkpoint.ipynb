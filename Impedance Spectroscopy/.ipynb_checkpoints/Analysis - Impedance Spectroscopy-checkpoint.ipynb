{
 "cells": [
  {
   "cell_type": "code",
   "execution_count": 2,
   "metadata": {
    "collapsed": false
   },
   "outputs": [],
   "source": [
    "#import stuff!\n",
    "import numpy as np\n",
    "from scipy.stats import chisquare\n",
    "from scipy.optimize import curve_fit\n",
    "import matplotlib.pyplot as plt"
   ]
  },
  {
   "cell_type": "markdown",
   "metadata": {},
   "source": [
    "<b>Theory<b>"
   ]
  },
  {
   "cell_type": "code",
   "execution_count": 3,
   "metadata": {
    "collapsed": false
   },
   "outputs": [],
   "source": [
    "#Setting up Constants\n",
    "j = (-1)**(1/2)\n",
    "R0 = 10020 #Voltage-Setting Resistor [Ohms]\n",
    "R1 = 197.7 #Parallel Resistor [Ohms]\n",
    "R2 = 20.0 #Series Resistor [Ohms]\n",
    "C = 0.000238 #Capacitor [Farads]\n",
    "V0_in = 0.707 #Voltage In [V]\n",
    "\n",
    "#creating shorthands\n",
    "R = R2/(R1+R2) #Based on equivalent resistance (unitless)\n",
    "I0 = V0_in/R0 #I calculated from VAC [A]\n",
    "wc = 1/((R1+R2)*C) #shorthand frequency constant [rad/s]\n",
    "\n",
    "#Creating Arrays\n",
    "f0 = [i/10 for i in range(8000)] #Creating a range of (linear) frequencies [Hz]\n",
    "\n",
    "w0 = []\n",
    "i = 0\n",
    "while i < len(f0):\n",
    "    w0.append(2*np.pi*f0[i])\n",
    "    i += 1"
   ]
  },
  {
   "cell_type": "code",
   "execution_count": 4,
   "metadata": {
    "collapsed": false
   },
   "outputs": [],
   "source": [
    "#Running Loops for Functions\n",
    "\n",
    "\n",
    "#Impedance Function.\n",
    "#Commented out because it is expressed always in terms of Real or Imaginary parts.\n",
    "\n",
    "#Z = []\n",
    "#for i in w:\n",
    "#    Z.append(R1*(1+i**2*R2(R1+R2)-j*i*C*R1)/(1+i*2*C**2*(R1+R2)**2))\n",
    "    \n",
    "#Real(Z)\n",
    "ReZ = []\n",
    "for i in w0:\n",
    "    ReZ.append(R1*(1+i**2*C**2*R2*(R1+R2))/(1+i**2*C**2*(R1+R2)**2))\n",
    "\n",
    "#Imaginary(Z)\n",
    "ImZ = []\n",
    "for i in w0:\n",
    "    ImZ.append(-R1*i*C*R1/(1+i**2*C**2*(R1+R2)**2))\n",
    "    \n",
    "#Phase\n",
    "Ph = []\n",
    "i = 0\n",
    "while i < len(ImZ):\n",
    "    Ph.append(np.arctan(ImZ[i]/ReZ[i]))\n",
    "    i += 1\n",
    "\n",
    "#|Z|\n",
    "i = 0\n",
    "MagZ = []\n",
    "while i < len(ImZ):\n",
    "    MagZ.append((ReZ[i]**2+ImZ[i]**2)**(1/2))\n",
    "    i += 1\n",
    "\n",
    "#Voltage\n",
    "V0 = []\n",
    "for i in MagZ:\n",
    "    V0.append(I0*i)"
   ]
  },
  {
   "cell_type": "code",
   "execution_count": 5,
   "metadata": {
    "collapsed": false
   },
   "outputs": [
    {
     "data": {
      "image/png": "[encoded data removed]",
      "text/plain": [
       "<Figure size 432x288 with 1 Axes>"
      ]
     },
     "metadata": {},
     "output_type": "display_data"
    }
   ],
   "source": [
    "#Impedance Theory\n",
    "\n",
    "plt.plot(f0,MagZ)\n",
    "#plt.axis([0,100,0,200])\n",
    "plt.xlabel('Frequency [Hz]')\n",
    "plt.ylabel('Impedance [Ohms]')\n",
    "plt.title('Theoretical Impedance')\n",
    "plt.xscale('log')\n",
    "plt.show()"
   ]
  },
  {
   "cell_type": "markdown",
   "metadata": {},
   "source": [
    "<b>Data<b>"
   ]
  },
  {
   "cell_type": "code",
   "execution_count": 6,
   "metadata": {
    "collapsed": true
   },
   "outputs": [],
   "source": [
    "#Set up data. Keep data all in the same order! Also, make sure units are converted to SI first.\n",
    "\n",
    "#frequency - kHz, must be converted\n",
    "f_kHz = [96, 268, 630, 995, 1720, 2114, 2665, 3193, 3570, 4460, 5047, 6195, 7531, 8357, 9258, 12430, 20745, 30710, 47920, 61646, 78095]\n",
    "#V_0rms - mV, must be converted\n",
    "V_mV = [14.22, 14.16, 13.95, 13.56, 12.47, 11.81, 10.88, 10.05, 9.48, 8.32, 7.65, 6.60, 5.67, 5.22, 4.8, 3.78, 2.58, 2.08, 1.8, 1.77, 1.81]\n",
    "#phase - Degrees, must be converted\n",
    "P_deg = [-1.3,-3.8,-9.9,-15.1,-24.3,-28.7,-33.8,-37.8,-40.2,-44.3,-46.3,-48.5,-49.8,-49.8,-49.7,-47.7,-37.5,-24.6,-6.2,+5.5,+16.1]\n",
    "\n",
    "P = [] #Phase in radians\n",
    "for n in P_deg:\n",
    "    P.append(2*np.pi*n/360)\n",
    "    \n",
    "V = [] #Voltage in Volts\n",
    "for n in V_mV:\n",
    "    V.append(n*10**-3)\n",
    "    \n",
    "P_inv = [] #negative of phase\n",
    "for n in P:\n",
    "    P_inv.append(-n)\n",
    "    \n",
    "f = []\n",
    "for n in f_kHz:\n",
    "    f.append(n/1000)"
   ]
  },
  {
   "cell_type": "markdown",
   "metadata": {},
   "source": [
    "<b>Curve Fitting<b>"
   ]
  },
  {
   "cell_type": "code",
   "execution_count": 7,
   "metadata": {
    "collapsed": false
   },
   "outputs": [
    {
     "name": "stdout",
     "output_type": "stream",
     "text": [
      "[-139.64558599   -1.7474466   -12.29023508 -180.88587252]\n"
     ]
    },
    {
     "ename": "NameError",
     "evalue": "name 'freq' is not defined",
     "output_type": "error",
     "traceback": [
      "\u001b[1;31m---------------------------------------------------------------------------\u001b[0m",
      "\u001b[1;31mNameError\u001b[0m                                 Traceback (most recent call last)",
      "\u001b[1;32m<ipython-input-7-75455d2ec787>\u001b[0m in \u001b[0;36m<module>\u001b[1;34m()\u001b[0m\n\u001b[0;32m      9\u001b[0m \u001b[1;31m### Plotting - Voltage vs Frequency\u001b[0m\u001b[1;33m\u001b[0m\u001b[1;33m\u001b[0m\u001b[0m\n\u001b[0;32m     10\u001b[0m \u001b[1;33m\u001b[0m\u001b[0m\n\u001b[1;32m---> 11\u001b[1;33m \u001b[0mx\u001b[0m \u001b[1;33m=\u001b[0m \u001b[0mfreq\u001b[0m\u001b[1;33m\u001b[0m\u001b[0m\n\u001b[0m\u001b[0;32m     12\u001b[0m \u001b[0my\u001b[0m \u001b[1;33m=\u001b[0m \u001b[1;33m[\u001b[0m\u001b[0mfunc\u001b[0m\u001b[1;33m(\u001b[0m\u001b[0mi\u001b[0m\u001b[1;33m,\u001b[0m\u001b[0mpopt\u001b[0m\u001b[1;33m[\u001b[0m\u001b[1;36m0\u001b[0m\u001b[1;33m]\u001b[0m\u001b[1;33m,\u001b[0m\u001b[0mpopt\u001b[0m\u001b[1;33m[\u001b[0m\u001b[1;36m1\u001b[0m\u001b[1;33m]\u001b[0m\u001b[1;33m,\u001b[0m\u001b[0mpopt\u001b[0m\u001b[1;33m[\u001b[0m\u001b[1;36m2\u001b[0m\u001b[1;33m]\u001b[0m\u001b[1;33m,\u001b[0m\u001b[0mpopt\u001b[0m\u001b[1;33m[\u001b[0m\u001b[1;36m3\u001b[0m\u001b[1;33m]\u001b[0m\u001b[1;33m)\u001b[0m \u001b[1;32mfor\u001b[0m \u001b[0mi\u001b[0m \u001b[1;32min\u001b[0m \u001b[0mfreq\u001b[0m\u001b[1;33m]\u001b[0m\u001b[1;33m\u001b[0m\u001b[0m\n\u001b[0;32m     13\u001b[0m \u001b[1;33m\u001b[0m\u001b[0m\n",
      "\u001b[1;31mNameError\u001b[0m: name 'freq' is not defined"
     ]
    }
   ],
   "source": [
    "### Create Curve Fit\n",
    "\n",
    "def func(f,R0f,R1f,R2f,Cf):\n",
    "    return (V0_in/R0f)*R1f*(((1+(2*np.pi*f)**2*Cf**2*R2f*(R1f+R2f))**2+(2*np.pi*f*Cf)**2)**(1/2))/(1+(2*np.pi*f)**2*Cf**2*(R1f+R2f)**2)\n",
    "\n",
    "popt, pcov = curve_fit(func,f,V)\n",
    "print(popt)\n",
    "\n",
    "### Plotting - Voltage vs Frequency\n",
    "\n",
    "x = freq\n",
    "y = [func(i,popt[0],popt[1],popt[2],popt[3]) for i in freq]\n",
    "\n",
    "fig, sp = plt.subplots()\n",
    "\n",
    "plt.title('Voltage vs. Frequency')\n",
    "sp.plot(f,V,'bo',label='Data')\n",
    "#sp.plot(f0,V0,'--',label='Theory') #uncomment to view theory\n",
    "#sp.plot(w0,V0,'r--',label='Theory (Angular)') #uncomment to check angular vs linear\n",
    "#sp.plot(f,func(f,*parameter),'-',label='Fit') #uncomment when curve fit is fixed.\n",
    "legend = sp.legend(loc='upper right')\n",
    "plt.xlabel('Frequency [Hz]')\n",
    "plt.ylabel('Voltage [V]')\n",
    "plt.xscale('log')\n",
    "\n",
    "\n",
    "plt.show()"
   ]
  },
  {
   "cell_type": "code",
   "execution_count": 8,
   "metadata": {
    "collapsed": false
   },
   "outputs": [
    {
     "name": "stderr",
     "output_type": "stream",
     "text": [
      "C:\\Anaconda\\lib\\site-packages\\scipy\\optimize\\minpack.py:794: OptimizeWarning: Covariance of the parameters could not be estimated\n",
      "  category=OptimizeWarning)\n"
     ]
    },
    {
     "data": {
      "image/png": "[encoded data removed]",
      "text/plain": [
       "<Figure size 432x288 with 1 Axes>"
      ]
     },
     "metadata": {},
     "output_type": "display_data"
    }
   ],
   "source": [
    "#Create Curve Fit\n",
    "\n",
    "def func(f,R0f,R1f,R2f,Cf):\n",
    "    return np.arctan(-2*np.pi*f*Cf/(1+(2*np.pi*f)**2*Cf**2*(R1f+R2f)**2))\n",
    "popt, pcov = curve_fit(func,f,P)\n",
    "parameter, covariance_matrix = curve_fit(func,f,P)\n",
    "\n",
    "#Plotting - Phase vs Frequency\n",
    "\n",
    "fig, sp = plt.subplots()\n",
    "\n",
    "plt.title('Phase vs. Frequency')\n",
    "sp.plot(f,P,'bo',label='Data')\n",
    "#sp.plot(f0,Ph,'--',label='Theory') #uncomment to view theory\n",
    "#sp.plot(w0,Ph,'r--',label='Theory (Angular)') #uncomment to check for angular vs linear\n",
    "#sp.plot(f,func(f,*parameter),'-',label='Fit') #uncomment when curve fit is working\n",
    "legend = sp.legend(loc='upper left')\n",
    "plt.xlabel('Frequency [Hz]')\n",
    "plt.ylabel('Phase (Radians)')\n",
    "plt.xscale('log')\n",
    "\n",
    "plt.show()"
   ]
  },
  {
   "cell_type": "markdown",
   "metadata": {},
   "source": [
    "<b>Theory vs. Data</b>"
   ]
  },
  {
   "cell_type": "code",
   "execution_count": 9,
   "metadata": {
    "collapsed": false
   },
   "outputs": [],
   "source": [
    "#Running Loops for Expected values - we will need these for chi squared.\n",
    "#These are based on theory, not on curve fitting.\n",
    "    \n",
    "#Real(Z)\n",
    "ReZ_exp = []\n",
    "for n in f:\n",
    "    ReZ_exp.append(R1*(1+(2*np.pi*n)**2*C**2*R2*(R1+R2))/(1+(2*np.pi*n)**2*C**2*(R1+R2)**2))\n",
    "\n",
    "#Imaginary(Z)\n",
    "ImZ_exp = []\n",
    "for n in f:\n",
    "    ImZ_exp.append(-R1*(2*np.pi*n)*C*R1/(1+(2*np.pi*n)**2*C**2*(R1+R2)**2))\n",
    "    \n",
    "#Phase\n",
    "P_exp = []\n",
    "i = 0\n",
    "while i < len(ImZ_exp):\n",
    "    P_exp.append(np.arctan(ImZ_exp[i]/ReZ_exp[i]))\n",
    "    i += 1\n",
    "\n",
    "#|Z|\n",
    "i = 0\n",
    "MagZ_exp = []\n",
    "while i < len(ImZ_exp):\n",
    "    MagZ_exp.append((ReZ_exp[i]**2+ImZ_exp[i]**2)**(1/2))\n",
    "    i += 1\n",
    "\n",
    "#Voltage\n",
    "V_exp = []\n",
    "for n in MagZ_exp:\n",
    "    V_exp.append(I0*n)"
   ]
  },
  {
   "cell_type": "code",
   "execution_count": 22,
   "metadata": {},
   "outputs": [
    {
     "data": {
      "image/png": "[encoded data removed]",
      "text/plain": [
       "<Figure size 432x288 with 1 Axes>"
      ]
     },
     "metadata": {},
     "output_type": "display_data"
    },
    {
     "name": "stdout",
     "output_type": "stream",
     "text": [
      "Standard Deviation:\n",
      "0.05314224901459896\n"
     ]
    }
   ],
   "source": [
    "#Plotting - Phase vs Frequency\n",
    "\n",
    "fig, sp = plt.subplots()\n",
    "\n",
    "plt.title('Phase vs. Frequency')\n",
    "sp.plot(f,P,'bo',label='Data')\n",
    "sp.plot(f0,Ph,'--',label='Theory')\n",
    "#sp.plot(f,P_exp) #checking that expected value calculations are correct.\n",
    "legend = sp.legend(loc='upper left')\n",
    "plt.xlabel('Frequency [Hz]')\n",
    "plt.ylabel('Phase (Radians)')\n",
    "plt.xscale('log')\n",
    "\n",
    "plt.show()\n",
    "\n",
    "#standard deviation calculation\n",
    "\n",
    "difP = []\n",
    "i = 0\n",
    "while i < len(P):\n",
    "    difP.append((P[i]-P_exp[i])**2)\n",
    "    i += 1\n",
    "\n",
    "sP = 0\n",
    "for n in difP:\n",
    "    sP += n\n",
    "\n",
    "print('Standard Deviation:')\n",
    "print(sP/len(difP))"
   ]
  },
  {
   "cell_type": "code",
   "execution_count": 25,
   "metadata": {},
   "outputs": [
    {
     "data": {
      "image/png": "[encoded data removed]",
      "text/plain": [
       "<Figure size 432x288 with 1 Axes>"
      ]
     },
     "metadata": {},
     "output_type": "display_data"
    },
    {
     "name": "stdout",
     "output_type": "stream",
     "text": [
      "Standard Deviation:\n",
      "8.25879219203454e-08\n"
     ]
    }
   ],
   "source": [
    "#plotting - Voltage vs Frequency\n",
    "\n",
    "fig, sp = plt.subplots()\n",
    "\n",
    "plt.title('Voltage vs. Frequency')\n",
    "sp.plot(f,V,'bo',label='Data')\n",
    "sp.plot(f0,V0,'--',label='Theory')\n",
    "#sp.plot(f,V_exp) #checking that expected value calculations are correct\n",
    "legend = sp.legend(loc='upper right')\n",
    "plt.xlabel('Frequency [Hz]')\n",
    "plt.ylabel('Voltage [V]')\n",
    "plt.xscale('log')\n",
    "\n",
    "plt.show()\n",
    "\n",
    "chisquare(V,V_exp)\n",
    "\n",
    "#standard deviation calculation\n",
    "\n",
    "difV = []\n",
    "i = 0\n",
    "while i < len(V):\n",
    "    difV.append((V[i]-V_exp[i])**2)\n",
    "    i += 1\n",
    "\n",
    "sV = 0\n",
    "for n in difV:\n",
    "    sV += n\n",
    "    \n",
    "print('Standard Deviation:')\n",
    "print(sV/len(V))"
   ]
  },
  {
   "cell_type": "code",
   "execution_count": null,
   "metadata": {},
   "outputs": [],
   "source": []
  }
 ],
 "metadata": {
  "kernelspec": {
   "display_name": "Python 3",
   "language": "python",
   "name": "python3"
  },
  "language_info": {
   "codemirror_mode": {
    "name": "ipython",
    "version": 3
   },
   "file_extension": ".py",
   "mimetype": "text/x-python",
   "name": "python",
   "nbconvert_exporter": "python",
   "pygments_lexer": "ipython3",
   "version": "3.6.5"
  }
 },
 "nbformat": 4,
 "nbformat_minor": 2
}
