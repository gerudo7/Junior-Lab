{
 "cells": [
  {
   "cell_type": "markdown",
   "metadata": {},
   "source": [
    "# Bloch Equation\n",
    "### The spin-lattice relaxation time is defined by the z-component of the Bloch equations:\n",
    "\n",
    "## $\\frac{dM_z(t)}{dt} = \\frac{M_0 - M_z(t)}{T_1}$\n",
    "### The solution for $M_z = 0$ at $t = 0$ is:\n",
    "## $M_z(t) = M_0(1 - e^{-\\frac{t}{T_1}})$\n",
    "### Or:\n",
    "## $M_r = \\frac{M_z(t)}{M_0} = (1 - e^{-\\frac{t}{T_1}})$\n"
   ]
  },
  {
   "cell_type": "markdown",
   "metadata": {},
   "source": [
    "[N.B.(nota bene) - observe carefully or take special notice.]\n",
    "\n",
    "N.B. - In each of the following python code cells I have, explicitly, imported the necessary python routines. If you run these python cells sequentially you could just import all the routines in the first cell and proceed."
   ]
  },
  {
   "cell_type": "code",
   "execution_count": null,
   "metadata": {},
   "outputs": [],
   "source": [
    "# Import necessary routines\n",
    "import matplotlib.pyplot as plt\n",
    "import numpy as np\n",
    "%matplotlib inline\n",
    "#Assign Value for T1\n",
    "T1 = 100\n",
    "#Assign time values in ms\n",
    "t = np.linspace(0,300,501)\n",
    "#Define Magnetization Array\n",
    "Mz=np.zeros(t.size)\n",
    "#Fill-in Magnetization Values\n",
    "for i in range(t.size):\n",
    "    Mz[i]=(1.0-np.exp(-t[i]/T1))\n",
    "#Plot Routine\n",
    "plt.plot(t, Mz) \n",
    "plt.grid()\n",
    "plt.title(\"Reduced Magnetization vs time\")\n",
    "plt.xlabel(\"t(ms)\")\n",
    "plt.ylabel(\"Magnetization (arbitrary units)\")\n",
    "plt.text(100,0.4,\"$M_r = (1 - e^{-t/T_1})$\",fontsize=15)\n",
    "plt.text(100,0.2,\"$T_1 = 100.0 ms$\",\n",
    "         fontsize=10)\n",
    "plt.figure()\n",
    "    "
   ]
  },
  {
   "cell_type": "markdown",
   "metadata": {},
   "source": [
    "### The solution for $M_z = -M_0$ at $t = 0$ is:\n",
    "## $M_z(t) = M_0(1 - 2e^{-\\frac{t}{T_1}})$\n",
    "### Or:\n",
    "## $M_r = \\frac{M_z(t)}{M_0} = (1 - 2e^{-\\frac{t}{T_1}})$\n",
    "\n",
    "#### This is the initial condition for your $T_1$ experiment.  Then:"
   ]
  },
  {
   "cell_type": "code",
   "execution_count": null,
   "metadata": {},
   "outputs": [],
   "source": [
    "import matplotlib.pyplot as plt\n",
    "import numpy as np\n",
    "%matplotlib inline\n",
    "T1 = 100\n",
    "t = np.linspace(0,300,501)\n",
    "Mz=np.zeros(t.size)\n",
    "for i in range(t.size):\n",
    "    Mz[i]=(1-2*np.exp(-t[i]/T1))\n",
    "plt.plot(t, Mz) \n",
    "plt.grid()\n",
    "plt.title(\"Reduced Magnetization vs time\")\n",
    "plt.xlabel(\"t(ms)\")\n",
    "plt.ylabel(\"Magnetization (arbitrary units)\")\n",
    "plt.text(100,0.0,\"$M_r = (1 - 2e^{-t/T_1})$\",fontsize=15)\n",
    "plt.text(100,-0.25,\"$T_1 = 100.0 ms$\",\n",
    "         fontsize=10)\n",
    "plt.figure()"
   ]
  },
  {
   "cell_type": "markdown",
   "metadata": {},
   "source": [
    "### Your apparatus can only measrue the absolute value of the induced voltage (which is proportional to the z-component of the magnetization) and therefore will look something like this:"
   ]
  },
  {
   "cell_type": "code",
   "execution_count": null,
   "metadata": {},
   "outputs": [],
   "source": [
    "import matplotlib.pyplot as plt\n",
    "import numpy as np\n",
    "%matplotlib inline\n",
    "T1 = 100\n",
    "t = np.linspace(0,300,501)\n",
    "Mz=np.zeros(t.size)\n",
    "for i in range(t.size):\n",
    "    Mz[i]=np.abs((1-2*np.exp(-t[i]/T1)))\n",
    "plt.plot(t, Mz) \n",
    "plt.grid()\n",
    "plt.title(\"Absolute Value of the Reduced Magnetization vs time\")\n",
    "plt.xlabel(\"t(ms)\")\n",
    "plt.ylabel(\"|Magnetization| (arbitrary units)\")\n",
    "plt.text(150,0.40,\"$M_r = |(1 - 2e^{-t/T_1})|$\",fontsize=15)\n",
    "plt.text(150,0.25,\"$T_1 = 100.0 ms$\",\n",
    "         fontsize=10)\n",
    "plt.figure()"
   ]
  },
  {
   "cell_type": "markdown",
   "metadata": {},
   "source": [
    "Therefore, you will need to \"correct\" your data in order to do a nonlinear fit to your data."
   ]
  },
  {
   "cell_type": "markdown",
   "metadata": {},
   "source": [
    "Notice, that when $M_r = 0$ at about 70.0 ms then $T_1 = -70.0/ln(1/2) = 101.0$  ms.  This is an estimate of your spin-lattice relaxation time, $T_1$."
   ]
  },
  {
   "cell_type": "markdown",
   "metadata": {},
   "source": [
    "## Data Analysis\n",
    "Let's generate some data:"
   ]
  },
  {
   "cell_type": "code",
   "execution_count": null,
   "metadata": {},
   "outputs": [],
   "source": [
    "import matplotlib.pyplot as plt\n",
    "import numpy as np\n",
    "from numpy.random import random as rand\n",
    "%matplotlib inline\n",
    "T1 = 100\n",
    "t = np.linspace(0,500,51)\n",
    "Mz=np.zeros(t.size)\n",
    "for i in range(t.size):\n",
    "    Mz[i]=8.5*np.abs((1-2*np.exp(-t[i]/T1)))+ (rand(1)-0.5)/2.5\n",
    "plt.plot(t, Mz, \".\") \n",
    "plt.grid()\n",
    "plt.title(\"Absolute Value of the Magnetization vs time\")\n",
    "plt.xlabel(\"t(ms)\")\n",
    "plt.ylabel(\"|Magnetization| (Equivalent Volts)\")\n",
    "plt.figure()\n",
    "#Store Data in an array\n",
    "MagData=[t,Mz]\n",
    "np.savetxt('Data.dat',MagData)"
   ]
  },
  {
   "cell_type": "markdown",
   "metadata": {},
   "source": [
    "### Importing Data:\n",
    "Let's see if the data are stored:"
   ]
  },
  {
   "cell_type": "code",
   "execution_count": null,
   "metadata": {},
   "outputs": [],
   "source": [
    "print(MagData)"
   ]
  },
  {
   "cell_type": "markdown",
   "metadata": {},
   "source": [
    "Now we need to change the sign of the magnetization below the minimum:"
   ]
  },
  {
   "cell_type": "code",
   "execution_count": null,
   "metadata": {},
   "outputs": [],
   "source": [
    "import matplotlib.pyplot as plt\n",
    "import numpy as np\n",
    "from numpy.random import random as rand\n",
    "ind=np.argmin(Mz)\n",
    "for i in range(ind):\n",
    "    Mz[i]=-Mz[i]\n",
    "plt.plot(t, Mz, \".\") \n",
    "plt.grid()\n",
    "plt.title(\"Magnetization vs time\")\n",
    "plt.xlabel(\"t(ms)\")\n",
    "plt.ylabel(\"Magnetization (Equivalent Volts)\")\n",
    "#plt.figure()"
   ]
  },
  {
   "cell_type": "markdown",
   "metadata": {},
   "source": [
    "### Fitting the Data"
   ]
  },
  {
   "cell_type": "code",
   "execution_count": null,
   "metadata": {},
   "outputs": [],
   "source": [
    "import numpy as np\n",
    "import matplotlib.pyplot as plt\n",
    "from scipy.optimize import curve_fit\n",
    "plt.close('all')\n",
    "#data_set=np.loadtxt(\"Data.dat\",delimiter=\",\")\n",
    "plt.plot(t,Mz,\"b.\",label=\"Data\")\n",
    "plt.title(\"Voltage (V) vs. Time (ms)\")\n",
    "plt.xlabel(\"t (ms)\")\n",
    "plt.ylabel(\"Voltage (V)\")\n",
    "plt.legend()\n",
    "#\n",
    "#Define Function to Fit\n",
    "#\n",
    "def func(t,Vmax,T1):\n",
    "    return Vmax*(1.0-2.0*np.exp(-t/T1))\n",
    "#\n",
    "#Set Initial Quess of Fit Parameters and Curve Fit\n",
    "#\n",
    "popt,pcov=curve_fit(func,t,Mz,p0=(8.0,70.0))\n",
    "print(\"Vmax,T1\",popt)\n",
    "plt.plot(t,func(t,*popt),'r--',label='Fit: Vmax = %3.3f volts,\\\n",
    " T1 = %4.2f ms' % tuple(popt))\n",
    "plt.grid()\n",
    "plt.legend()"
   ]
  },
  {
   "cell_type": "markdown",
   "metadata": {},
   "source": [
    "Let's see how good our fit is:"
   ]
  },
  {
   "cell_type": "code",
   "execution_count": null,
   "metadata": {},
   "outputs": [],
   "source": [
    "perr = np.sqrt(np.diag(pcov))\n",
    "print (perr)"
   ]
  },
  {
   "cell_type": "code",
   "execution_count": null,
   "metadata": {},
   "outputs": [],
   "source": []
  },
  {
   "cell_type": "markdown",
   "metadata": {},
   "source": [
    "$\\textit{pcov}$ is the covariance matrix for our fit.  To get  1-Standard Deviation for each of our parameters, just take the square root of each diagonal element.\n",
    "\n",
    "Therefore, our estimate of the (1$\\sigma$) uncertainty in $V_{max}$ is:  $\\Delta V_{max}$  = the  $1^{st}$  entry in \"perr\" in volts.\n",
    "\n",
    "Our estimate of the (1$\\sigma$) uncertainty in $T_1$ is:  $\\Delta T_1$ =  the $2^{nd}$ entry in \"perr\" in ms.\n"
   ]
  }
 ],
 "metadata": {
  "kernelspec": {
   "display_name": "Python 3",
   "language": "python",
   "name": "python3"
  },
  "language_info": {
   "codemirror_mode": {
    "name": "ipython",
    "version": 3
   },
   "file_extension": ".py",
   "mimetype": "text/x-python",
   "name": "python",
   "nbconvert_exporter": "python",
   "pygments_lexer": "ipython3",
   "version": "3.6.5"
  }
 },
 "nbformat": 4,
 "nbformat_minor": 2
}
